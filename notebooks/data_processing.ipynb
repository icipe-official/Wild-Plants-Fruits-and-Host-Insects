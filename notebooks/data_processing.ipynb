{
 "cells": [
  {
   "cell_type": "markdown",
   "id": "b3c1d4be",
   "metadata": {},
   "source": [
    "# Data Preprocesssing Notebook"
   ]
  },
  {
   "cell_type": "code",
   "execution_count": null,
   "id": "73271856",
   "metadata": {},
   "outputs": [],
   "source": [
    "# Import Required Libraries\n",
    "import pandas as pd\n",
    "# df= pd.read_excel('masterfile latest_modified_1.xls')\n",
    "plants= pd.read_excel('masterfile_latest_new_names_added.xls')\n",
    "plants.columns[3:9]\n",
    "\n",
    "insects=pd.read_excel('Insect codes with names.xls')\n"
   ]
  },
  {
   "cell_type": "code",
   "execution_count": 2,
   "id": "4ebb8652-d653-4914-bf3e-e0e9e3876a39",
   "metadata": {
    "tags": []
   },
   "outputs": [
    {
     "data": {
      "text/html": [
       "<div>\n",
       "<style scoped>\n",
       "    .dataframe tbody tr th:only-of-type {\n",
       "        vertical-align: middle;\n",
       "    }\n",
       "\n",
       "    .dataframe tbody tr th {\n",
       "        vertical-align: top;\n",
       "    }\n",
       "\n",
       "    .dataframe thead th {\n",
       "        text-align: right;\n",
       "    }\n",
       "</style>\n",
       "<table border=\"1\" class=\"dataframe\">\n",
       "  <thead>\n",
       "    <tr style=\"text-align: right;\">\n",
       "      <th></th>\n",
       "      <th>ID</th>\n",
       "      <th>Image code1</th>\n",
       "      <th>image code 2</th>\n",
       "      <th>image code 3</th>\n",
       "      <th>image code 4</th>\n",
       "      <th>ORDER</th>\n",
       "      <th>FAMILY</th>\n",
       "      <th>SUBFAMILY</th>\n",
       "      <th>TRIBE</th>\n",
       "      <th>GENUS</th>\n",
       "      <th>SUBGENUS</th>\n",
       "      <th>SPECIES</th>\n",
       "      <th>images and data entered in Access tables?</th>\n",
       "      <th>coll. #</th>\n",
       "      <th>Unnamed: 14</th>\n",
       "      <th>Unnamed: 15</th>\n",
       "    </tr>\n",
       "  </thead>\n",
       "  <tbody>\n",
       "    <tr>\n",
       "      <th>0</th>\n",
       "      <td>Aga</td>\n",
       "      <td>NaN</td>\n",
       "      <td>NaN</td>\n",
       "      <td>NaN</td>\n",
       "      <td>NaN</td>\n",
       "      <td>Hymenoptera</td>\n",
       "      <td>Braconidae</td>\n",
       "      <td>Agathidinae</td>\n",
       "      <td>NaN</td>\n",
       "      <td>Agathis</td>\n",
       "      <td>NaN</td>\n",
       "      <td>sp.</td>\n",
       "      <td>NaN</td>\n",
       "      <td>NaN</td>\n",
       "      <td>NaN</td>\n",
       "      <td>NaN</td>\n",
       "    </tr>\n",
       "    <tr>\n",
       "      <th>1</th>\n",
       "      <td>agat</td>\n",
       "      <td>NaN</td>\n",
       "      <td>NaN</td>\n",
       "      <td>NaN</td>\n",
       "      <td>NaN</td>\n",
       "      <td>Hymenoptera</td>\n",
       "      <td>Braconidae</td>\n",
       "      <td>Agathidinae</td>\n",
       "      <td>NaN</td>\n",
       "      <td>NaN</td>\n",
       "      <td>NaN</td>\n",
       "      <td>NaN</td>\n",
       "      <td>NaN</td>\n",
       "      <td>NaN</td>\n",
       "      <td>NaN</td>\n",
       "      <td>NaN</td>\n",
       "    </tr>\n",
       "    <tr>\n",
       "      <th>2</th>\n",
       "      <td>Alcsp</td>\n",
       "      <td>NaN</td>\n",
       "      <td>NaN</td>\n",
       "      <td>NaN</td>\n",
       "      <td>NaN</td>\n",
       "      <td>Coleoptera</td>\n",
       "      <td>Curculionidae</td>\n",
       "      <td>Molytinae</td>\n",
       "      <td>Mecysolobini</td>\n",
       "      <td>Alcidodes</td>\n",
       "      <td>NaN</td>\n",
       "      <td>sp.</td>\n",
       "      <td>NaN</td>\n",
       "      <td>NaN</td>\n",
       "      <td>NaN</td>\n",
       "      <td>NaN</td>\n",
       "    </tr>\n",
       "    <tr>\n",
       "      <th>3</th>\n",
       "      <td>Ale</td>\n",
       "      <td>NaN</td>\n",
       "      <td>NaN</td>\n",
       "      <td>NaN</td>\n",
       "      <td>NaN</td>\n",
       "      <td>Hymenoptera</td>\n",
       "      <td>Braconidae</td>\n",
       "      <td>Rogadinae</td>\n",
       "      <td>NaN</td>\n",
       "      <td>Aleiodes</td>\n",
       "      <td>NaN</td>\n",
       "      <td>sp.</td>\n",
       "      <td>NaN</td>\n",
       "      <td>NaN</td>\n",
       "      <td>NaN</td>\n",
       "      <td>NaN</td>\n",
       "    </tr>\n",
       "    <tr>\n",
       "      <th>4</th>\n",
       "      <td>alti</td>\n",
       "      <td>NaN</td>\n",
       "      <td>NaN</td>\n",
       "      <td>NaN</td>\n",
       "      <td>NaN</td>\n",
       "      <td>Coleoptera</td>\n",
       "      <td>Chrysomelidae</td>\n",
       "      <td>Alticiniae</td>\n",
       "      <td>NaN</td>\n",
       "      <td>NaN</td>\n",
       "      <td>NaN</td>\n",
       "      <td>NaN</td>\n",
       "      <td>NaN</td>\n",
       "      <td>NaN</td>\n",
       "      <td>NaN</td>\n",
       "      <td>NaN</td>\n",
       "    </tr>\n",
       "  </tbody>\n",
       "</table>\n",
       "</div>"
      ],
      "text/plain": [
       "      ID Image code1 image code 2 image code 3 image code 4        ORDER  \\\n",
       "0    Aga         NaN          NaN          NaN          NaN  Hymenoptera   \n",
       "1   agat         NaN          NaN          NaN          NaN  Hymenoptera   \n",
       "2  Alcsp         NaN          NaN          NaN          NaN   Coleoptera   \n",
       "3    Ale         NaN          NaN          NaN          NaN  Hymenoptera   \n",
       "4   alti         NaN          NaN          NaN          NaN   Coleoptera   \n",
       "\n",
       "          FAMILY    SUBFAMILY         TRIBE      GENUS SUBGENUS SPECIES  \\\n",
       "0     Braconidae  Agathidinae           NaN    Agathis      NaN     sp.   \n",
       "1     Braconidae  Agathidinae           NaN        NaN      NaN     NaN   \n",
       "2  Curculionidae    Molytinae  Mecysolobini  Alcidodes      NaN     sp.   \n",
       "3     Braconidae    Rogadinae           NaN   Aleiodes      NaN     sp.   \n",
       "4  Chrysomelidae   Alticiniae           NaN        NaN      NaN     NaN   \n",
       "\n",
       "  images and data entered in Access tables? coll. # Unnamed: 14 Unnamed: 15  \n",
       "0                                       NaN     NaN         NaN         NaN  \n",
       "1                                       NaN     NaN         NaN         NaN  \n",
       "2                                       NaN     NaN         NaN         NaN  \n",
       "3                                       NaN     NaN         NaN         NaN  \n",
       "4                                       NaN     NaN         NaN         NaN  "
      ]
     },
     "execution_count": 2,
     "metadata": {},
     "output_type": "execute_result"
    }
   ],
   "source": [
    "insects.head()"
   ]
  },
  {
   "cell_type": "code",
   "execution_count": 3,
   "id": "fb05a869-20f1-4171-8600-309e450e6ae4",
   "metadata": {
    "tags": []
   },
   "outputs": [
    {
     "name": "stdout",
     "output_type": "stream",
     "text": [
      "595 insect records\n"
     ]
    }
   ],
   "source": [
    "print(f\"{insects.shape[0]} insect records\")"
   ]
  },
  {
   "cell_type": "markdown",
   "id": "22869cb8-fce4-4355-b216-05168dd601ec",
   "metadata": {},
   "source": [
    "# Processing original master file with plants records"
   ]
  },
  {
   "cell_type": "code",
   "execution_count": 4,
   "id": "7a3551c0-80aa-451d-9272-da1fbb663c17",
   "metadata": {
    "tags": []
   },
   "outputs": [
    {
     "data": {
      "text/html": [
       "<div>\n",
       "<style scoped>\n",
       "    .dataframe tbody tr th:only-of-type {\n",
       "        vertical-align: middle;\n",
       "    }\n",
       "\n",
       "    .dataframe tbody tr th {\n",
       "        vertical-align: top;\n",
       "    }\n",
       "\n",
       "    .dataframe thead th {\n",
       "        text-align: right;\n",
       "    }\n",
       "</style>\n",
       "<table border=\"1\" class=\"dataframe\">\n",
       "  <thead>\n",
       "    <tr style=\"text-align: right;\">\n",
       "      <th></th>\n",
       "      <th>old Plant family</th>\n",
       "      <th>new</th>\n",
       "      <th>cf?</th>\n",
       "      <th>new Plant family</th>\n",
       "      <th>Plant species with new names merged</th>\n",
       "      <th>Lepidoptera</th>\n",
       "      <th>Lep species</th>\n",
       "      <th>lep species codes</th>\n",
       "      <th>Plant species old name</th>\n",
       "      <th>Plant species with new names merged.1</th>\n",
       "      <th>...</th>\n",
       "      <th>Minimum altitude</th>\n",
       "      <th>Maximum altitude</th>\n",
       "      <th>K sector</th>\n",
       "      <th>UKWF area</th>\n",
       "      <th>leaf type</th>\n",
       "      <th>compound leaf type</th>\n",
       "      <th>leaf(let) margin</th>\n",
       "      <th>leaf arrangement</th>\n",
       "      <th>Region collected</th>\n",
       "      <th>fruiting months</th>\n",
       "    </tr>\n",
       "  </thead>\n",
       "  <tbody>\n",
       "    <tr>\n",
       "      <th>0</th>\n",
       "      <td>Malvaceae</td>\n",
       "      <td>NaN</td>\n",
       "      <td>NaN</td>\n",
       "      <td>Malvaceae</td>\n",
       "      <td>Abutilon hirtum (Lam.) Sweet</td>\n",
       "      <td>NaN</td>\n",
       "      <td>NaN</td>\n",
       "      <td>NaN</td>\n",
       "      <td>Abutilon hirtum (Lam.) Sweet</td>\n",
       "      <td>Abutilon hirtum (Lam.) Sweet</td>\n",
       "      <td>...</td>\n",
       "      <td>1.0</td>\n",
       "      <td>1350.0</td>\n",
       "      <td>1,2,3,4,6,7</td>\n",
       "      <td>NaN</td>\n",
       "      <td>simple</td>\n",
       "      <td>NaN</td>\n",
       "      <td>crenate,serrate</td>\n",
       "      <td>alternate</td>\n",
       "      <td>nomi</td>\n",
       "      <td>1</td>\n",
       "    </tr>\n",
       "    <tr>\n",
       "      <th>1</th>\n",
       "      <td>Malvaceae</td>\n",
       "      <td>NaN</td>\n",
       "      <td>NaN</td>\n",
       "      <td>Malvaceae</td>\n",
       "      <td>Abutilon mauritianum (Jacq.) Medic. sensu lato</td>\n",
       "      <td>1.0</td>\n",
       "      <td>NaN</td>\n",
       "      <td>t</td>\n",
       "      <td>Abutilon mauritianum (Jacq.) Medic. sensu lato</td>\n",
       "      <td>Abutilon mauritianum (Jacq.) Medic. sensu lato</td>\n",
       "      <td>...</td>\n",
       "      <td>1.0</td>\n",
       "      <td>2050.0</td>\n",
       "      <td>1,3,4,5,7</td>\n",
       "      <td>NaN</td>\n",
       "      <td>simple</td>\n",
       "      <td>NaN</td>\n",
       "      <td>serrate,crenate</td>\n",
       "      <td>alternate</td>\n",
       "      <td>cehi,co</td>\n",
       "      <td>8,11</td>\n",
       "    </tr>\n",
       "    <tr>\n",
       "      <th>2</th>\n",
       "      <td>Euphorbiaceae</td>\n",
       "      <td>NaN</td>\n",
       "      <td>NaN</td>\n",
       "      <td>Euphorbiaceae</td>\n",
       "      <td>Acalypha neptunica Müll. Arg.</td>\n",
       "      <td>NaN</td>\n",
       "      <td>NaN</td>\n",
       "      <td>NaN</td>\n",
       "      <td>Acalypha neptunica Müll. Arg.</td>\n",
       "      <td>Acalypha neptunica Müll. Arg.</td>\n",
       "      <td>...</td>\n",
       "      <td>1.0</td>\n",
       "      <td>1800.0</td>\n",
       "      <td>3,4,5,6,7</td>\n",
       "      <td>NaN</td>\n",
       "      <td>simple</td>\n",
       "      <td>NaN</td>\n",
       "      <td>serrate</td>\n",
       "      <td>alternate</td>\n",
       "      <td>co</td>\n",
       "      <td>7</td>\n",
       "    </tr>\n",
       "    <tr>\n",
       "      <th>3</th>\n",
       "      <td>Acanthaceae</td>\n",
       "      <td>2</td>\n",
       "      <td>NaN</td>\n",
       "      <td>Acanthaceae</td>\n",
       "      <td>Acanthopale pubescens (Engl.) C.B. Clarke</td>\n",
       "      <td>1.0</td>\n",
       "      <td>Cosmetra taitana</td>\n",
       "      <td>TCos_taita</td>\n",
       "      <td>Acanthopale pubescens (Engl.) C.B.Cl.</td>\n",
       "      <td>Acanthopale pubescens (Engl.) C.B. Clarke</td>\n",
       "      <td>...</td>\n",
       "      <td>1550.0</td>\n",
       "      <td>2700.0</td>\n",
       "      <td>1,3,4,5,6,7</td>\n",
       "      <td>NaN</td>\n",
       "      <td>simple</td>\n",
       "      <td>NaN</td>\n",
       "      <td>entire</td>\n",
       "      <td>opposite</td>\n",
       "      <td>cohi</td>\n",
       "      <td>8</td>\n",
       "    </tr>\n",
       "    <tr>\n",
       "      <th>4</th>\n",
       "      <td>Acanthaceae</td>\n",
       "      <td>NaN</td>\n",
       "      <td>NaN</td>\n",
       "      <td>Acanthaceae</td>\n",
       "      <td>Acanthus eminens C. B. Clarke</td>\n",
       "      <td>1.0</td>\n",
       "      <td>Endothenia ator</td>\n",
       "      <td>TEndoth_ator</td>\n",
       "      <td>Acanthus eminens C. B. Clarke</td>\n",
       "      <td>Acanthus eminens C. B. Clarke</td>\n",
       "      <td>...</td>\n",
       "      <td>1500.0</td>\n",
       "      <td>2650.0</td>\n",
       "      <td>2,3,4,5,6</td>\n",
       "      <td>NaN</td>\n",
       "      <td>simple</td>\n",
       "      <td>NaN</td>\n",
       "      <td>spiny</td>\n",
       "      <td>opposite</td>\n",
       "      <td>wehi</td>\n",
       "      <td>2</td>\n",
       "    </tr>\n",
       "  </tbody>\n",
       "</table>\n",
       "<p>5 rows × 44 columns</p>\n",
       "</div>"
      ],
      "text/plain": [
       "  old Plant family  new  cf? new Plant family  \\\n",
       "0        Malvaceae  NaN  NaN        Malvaceae   \n",
       "1        Malvaceae  NaN  NaN        Malvaceae   \n",
       "2    Euphorbiaceae  NaN  NaN    Euphorbiaceae   \n",
       "3      Acanthaceae    2  NaN      Acanthaceae   \n",
       "4      Acanthaceae  NaN  NaN      Acanthaceae   \n",
       "\n",
       "              Plant species with new names merged  Lepidoptera   \\\n",
       "0                    Abutilon hirtum (Lam.) Sweet           NaN   \n",
       "1  Abutilon mauritianum (Jacq.) Medic. sensu lato           1.0   \n",
       "2                   Acalypha neptunica Müll. Arg.           NaN   \n",
       "3       Acanthopale pubescens (Engl.) C.B. Clarke           1.0   \n",
       "4                   Acanthus eminens C. B. Clarke           1.0   \n",
       "\n",
       "        Lep species lep species codes  \\\n",
       "0               NaN               NaN   \n",
       "1               NaN                 t   \n",
       "2               NaN               NaN   \n",
       "3  Cosmetra taitana        TCos_taita   \n",
       "4   Endothenia ator      TEndoth_ator   \n",
       "\n",
       "                           Plant species old name  \\\n",
       "0                    Abutilon hirtum (Lam.) Sweet   \n",
       "1  Abutilon mauritianum (Jacq.) Medic. sensu lato   \n",
       "2                   Acalypha neptunica Müll. Arg.   \n",
       "3           Acanthopale pubescens (Engl.) C.B.Cl.   \n",
       "4                   Acanthus eminens C. B. Clarke   \n",
       "\n",
       "            Plant species with new names merged.1  ... Minimum altitude  \\\n",
       "0                    Abutilon hirtum (Lam.) Sweet  ...              1.0   \n",
       "1  Abutilon mauritianum (Jacq.) Medic. sensu lato  ...              1.0   \n",
       "2                   Acalypha neptunica Müll. Arg.  ...              1.0   \n",
       "3       Acanthopale pubescens (Engl.) C.B. Clarke  ...           1550.0   \n",
       "4                   Acanthus eminens C. B. Clarke  ...           1500.0   \n",
       "\n",
       "   Maximum altitude     K sector  UKWF area  leaf type compound leaf type  \\\n",
       "0            1350.0  1,2,3,4,6,7        NaN     simple                NaN   \n",
       "1            2050.0    1,3,4,5,7        NaN     simple                NaN   \n",
       "2            1800.0    3,4,5,6,7        NaN     simple                NaN   \n",
       "3            2700.0  1,3,4,5,6,7        NaN     simple                NaN   \n",
       "4            2650.0    2,3,4,5,6        NaN     simple                NaN   \n",
       "\n",
       "   leaf(let) margin leaf arrangement Region collected fruiting months  \n",
       "0   crenate,serrate        alternate             nomi               1  \n",
       "1   serrate,crenate        alternate          cehi,co            8,11  \n",
       "2           serrate        alternate               co               7  \n",
       "3            entire         opposite             cohi               8  \n",
       "4             spiny         opposite             wehi               2  \n",
       "\n",
       "[5 rows x 44 columns]"
      ]
     },
     "execution_count": 4,
     "metadata": {},
     "output_type": "execute_result"
    }
   ],
   "source": [
    "#data columns\n",
    "plants.head()"
   ]
  },
  {
   "cell_type": "code",
   "execution_count": 5,
   "id": "b5de2f4a-6e2d-42a0-84e9-889a841238db",
   "metadata": {
    "tags": []
   },
   "outputs": [
    {
     "name": "stdout",
     "output_type": "stream",
     "text": [
      "595 insect records\n"
     ]
    }
   ],
   "source": [
    "# number of insectsand plants\n",
    "print(f\"{insects.shape[0]} insect records\")\n",
    "#print(f\"{plants.shape[0]} plant records\")"
   ]
  },
  {
   "cell_type": "code",
   "execution_count": 6,
   "id": "f0adfea3-97ef-4287-81ac-32d916a07641",
   "metadata": {
    "tags": []
   },
   "outputs": [],
   "source": [
    "# df2[['Lep species','Coleoptera species codes','Hymenoptera non-opiine codes','Hymenoptera opiine codes','Tephritid species codes','non-tephritid Diptera species codes']]"
   ]
  },
  {
   "cell_type": "code",
   "execution_count": 7,
   "id": "c319b9a7-8de2-4d3a-8fa3-19f86c2d47a6",
   "metadata": {
    "tags": []
   },
   "outputs": [
    {
     "data": {
      "text/plain": [
       "122"
      ]
     },
     "execution_count": 7,
     "metadata": {},
     "output_type": "execute_result"
    }
   ],
   "source": [
    "#check plant families\n",
    "plants.head()\n",
    "families=list(plants['new Plant family'].unique())\n",
    "len(families)"
   ]
  },
  {
   "cell_type": "code",
   "execution_count": 8,
   "id": "1be4e8af-ac58-46df-9451-b0f68b388d12",
   "metadata": {
    "tags": []
   },
   "outputs": [
    {
     "data": {
      "text/plain": [
       "['old Plant family',\n",
       " 'new',\n",
       " 'cf?',\n",
       " 'new Plant family',\n",
       " 'Plant species with new names merged',\n",
       " 'Lepidoptera ',\n",
       " 'Lep species',\n",
       " 'lep species codes',\n",
       " 'Plant species old name',\n",
       " 'Plant species with new names merged.1',\n",
       " 'Plant species new name',\n",
       " 'Fruit photo no. 1',\n",
       " 'Fruit photo no. 2',\n",
       " 'Fruit photo no. 3',\n",
       " 'Fruit photo no. 4',\n",
       " 'Coleoptera species codes',\n",
       " 'Lepidoptera',\n",
       " 'lep species codes.1',\n",
       " 'Hymenoptera opiine codes',\n",
       " 'Hymenoptera non-opiine codes',\n",
       " 'non-tephritid Diptera species codes',\n",
       " 'Tephritid species codes',\n",
       " 'Fruit type',\n",
       " 'Fruit color',\n",
       " 'Fruit shape',\n",
       " 'fruit less than 10 mm',\n",
       " 'fruit 10-15 mm',\n",
       " 'fruit > 15 <25 mm',\n",
       " 'fruit >25 mm < 40mm',\n",
       " 'fruit >40mm',\n",
       " 'spines, thorns, prickles or spiny leaf margins',\n",
       " 'latex',\n",
       " 'woody or herbaceous',\n",
       " 'tree, shrub, climber, creeper, liana, herb,parasite',\n",
       " 'Minimum altitude',\n",
       " 'Maximum altitude',\n",
       " 'K sector',\n",
       " 'UKWF area',\n",
       " 'leaf type',\n",
       " 'compound leaf type',\n",
       " 'leaf(let) margin',\n",
       " 'leaf arrangement',\n",
       " 'Region collected',\n",
       " 'fruiting months']"
      ]
     },
     "execution_count": 8,
     "metadata": {},
     "output_type": "execute_result"
    }
   ],
   "source": [
    "# plant rercords in columns\n",
    "plants.columns.to_list()"
   ]
  },
  {
   "cell_type": "markdown",
   "id": "f13e84a8-0398-400d-b757-7c2f079f4d7c",
   "metadata": {},
   "source": [
    "# creating SQL tables matching the ER diagram from the plant records\n",
    "- while creating the tables, we are not adding the id columns manually as we leveraged on the autoincreament index of postgreSQL."
   ]
  },
  {
   "cell_type": "markdown",
   "id": "f65f3416-008c-4226-b115-88bbcbf877df",
   "metadata": {},
   "source": [
    "# 1. plant_families Table\n",
    "INSERT INTO plant_families(id,family_name)\n",
    "# example of sql statement for the first three plant families\n",
    "VALUES \n",
    "        ('Acanthaceae'),\n",
    "        \n",
    "        ('Cornaceae'),\n",
    "        \n",
    "        ('Asphodelaceae')\n",
    "        \n",
    "    RETURNING *;\n",
    "\n"
   ]
  },
  {
   "cell_type": "code",
   "execution_count": 9,
   "id": "5d800f4c-6c01-4d65-a17b-9622d7994960",
   "metadata": {
    "tags": []
   },
   "outputs": [
    {
     "data": {
      "text/plain": [
       "122"
      ]
     },
     "execution_count": 9,
     "metadata": {},
     "output_type": "execute_result"
    }
   ],
   "source": [
    "len(families)"
   ]
  },
  {
   "cell_type": "code",
   "execution_count": 10,
   "id": "c2faa558-4b8c-49cc-8a07-fe97b4aadb2a",
   "metadata": {
    "tags": []
   },
   "outputs": [
    {
     "data": {
      "text/plain": [
       "['Malvaceae', 'Euphorbiaceae', 'Acanthaceae', 'Lamiaceae', 'Apocynaceae']"
      ]
     },
     "execution_count": 10,
     "metadata": {},
     "output_type": "execute_result"
    }
   ],
   "source": [
    "families[0:5]"
   ]
  },
  {
   "cell_type": "code",
   "execution_count": 11,
   "id": "5169145a-b43a-4036-9380-e04ffec2d414",
   "metadata": {
    "tags": []
   },
   "outputs": [
    {
     "data": {
      "text/plain": [
       "123"
      ]
     },
     "execution_count": 11,
     "metadata": {},
     "output_type": "execute_result"
    }
   ],
   "source": [
    "len(families)+1"
   ]
  },
  {
   "cell_type": "markdown",
   "id": "8887ece5-8b8a-41c2-b610-1db87ac8f7cc",
   "metadata": {},
   "source": [
    "# Create SQL tables"
   ]
  },
  {
   "cell_type": "markdown",
   "id": "56e7421a-c3c3-4daa-8fb1-640a2e4f18a2",
   "metadata": {},
   "source": [
    "## 1. plant_families table"
   ]
  },
  {
   "cell_type": "code",
   "execution_count": 13,
   "id": "a4559fd4-6efb-43d3-9ca2-8290c65ced17",
   "metadata": {
    "tags": []
   },
   "outputs": [],
   "source": [
    "with open('plant_families.sql','w') as myfile:\n",
    "    myfile.write(\"INSERT INTO plant_families(id,family_name)\" + \"\\n\"+\"VALUES \"+\"\\n\")\n",
    "\n",
    "    for i in range(0,len(families)):\n",
    "        if i!=len(families)-1:\n",
    "            myfile.write(\"    \"+\"(\" + \"'\"+families[i].strip() + \"'\"+\")\"+ \",\"+\"\\n\")\n",
    "            i+=1\n",
    "        else:\n",
    "            myfile.write(\"    \"+\"(\" + \"'\"+families[i].strip() + \"'\"+\")\"+\"\\n\")\n",
    "\n",
    "    myfile.write(\"RETURNING *;\")"
   ]
  },
  {
   "cell_type": "markdown",
   "id": "6ddc21e5-d141-46f4-96a6-636c851470c3",
   "metadata": {},
   "source": [
    "# 2. Plant Genera Table"
   ]
  },
  {
   "cell_type": "code",
   "execution_count": 14,
   "id": "f8c130d5-fea4-4861-adbd-b05d5bc609ef",
   "metadata": {
    "tags": []
   },
   "outputs": [
    {
     "data": {
      "text/plain": [
       "Psychotria punctata Vatke                  4\n",
       "Solanum sp.                                3\n",
       "Grewia triflora (Bojer) Walp.              2\n",
       "Cucumis prophetarum L. ssp. prophetarum    2\n",
       "Pittosporum viridiflorum Sims              2\n",
       "Name: Plant species with new names merged, dtype: int64"
      ]
     },
     "execution_count": 14,
     "metadata": {},
     "output_type": "execute_result"
    }
   ],
   "source": [
    "# Extract genus from species\n",
    "# New names were the updated names of the pkant specie. This is due to ongoing taxonomic re-naming of some plants species\n",
    "plants['Plant species with new names merged'].value_counts()[0:5]"
   ]
  },
  {
   "cell_type": "code",
   "execution_count": 15,
   "id": "0ad0fbae-834e-453b-b82a-67fc172371d7",
   "metadata": {
    "tags": []
   },
   "outputs": [],
   "source": [
    "# # Add genus column to the original df\n",
    "# plants['genus'] = plants['Plant species with new names merged'].apply(lambda x: x.split()[0])\n",
    "# plants.head()"
   ]
  },
  {
   "cell_type": "code",
   "execution_count": 16,
   "id": "6192fcc3-7133-48c4-b4a7-b59d708822e4",
   "metadata": {
    "tags": []
   },
   "outputs": [],
   "source": [
    "# drop genus name\n",
    "col=plants.columns.to_list()\n",
    "# insert genus at 5th column\n",
    "col.insert(5,'genus')\n",
    "del col[-1]"
   ]
  },
  {
   "cell_type": "code",
   "execution_count": 17,
   "id": "0515576b-daec-42a5-88c4-3a5e006405a5",
   "metadata": {
    "tags": []
   },
   "outputs": [
    {
     "data": {
      "text/html": [
       "<div>\n",
       "<style scoped>\n",
       "    .dataframe tbody tr th:only-of-type {\n",
       "        vertical-align: middle;\n",
       "    }\n",
       "\n",
       "    .dataframe tbody tr th {\n",
       "        vertical-align: top;\n",
       "    }\n",
       "\n",
       "    .dataframe thead th {\n",
       "        text-align: right;\n",
       "    }\n",
       "</style>\n",
       "<table border=\"1\" class=\"dataframe\">\n",
       "  <thead>\n",
       "    <tr style=\"text-align: right;\">\n",
       "      <th></th>\n",
       "      <th>old Plant family</th>\n",
       "      <th>new</th>\n",
       "      <th>cf?</th>\n",
       "      <th>new Plant family</th>\n",
       "      <th>Plant species with new names merged</th>\n",
       "      <th>genus</th>\n",
       "      <th>Lepidoptera</th>\n",
       "      <th>Lep species</th>\n",
       "      <th>lep species codes</th>\n",
       "      <th>Plant species old name</th>\n",
       "      <th>...</th>\n",
       "      <th>tree, shrub, climber, creeper, liana, herb,parasite</th>\n",
       "      <th>Minimum altitude</th>\n",
       "      <th>Maximum altitude</th>\n",
       "      <th>K sector</th>\n",
       "      <th>UKWF area</th>\n",
       "      <th>leaf type</th>\n",
       "      <th>compound leaf type</th>\n",
       "      <th>leaf(let) margin</th>\n",
       "      <th>leaf arrangement</th>\n",
       "      <th>Region collected</th>\n",
       "    </tr>\n",
       "  </thead>\n",
       "  <tbody>\n",
       "    <tr>\n",
       "      <th>0</th>\n",
       "      <td>Malvaceae</td>\n",
       "      <td>NaN</td>\n",
       "      <td>NaN</td>\n",
       "      <td>Malvaceae</td>\n",
       "      <td>Abutilon hirtum (Lam.) Sweet</td>\n",
       "      <td>NaN</td>\n",
       "      <td>NaN</td>\n",
       "      <td>NaN</td>\n",
       "      <td>NaN</td>\n",
       "      <td>Abutilon hirtum (Lam.) Sweet</td>\n",
       "      <td>...</td>\n",
       "      <td>herb,shrub</td>\n",
       "      <td>1.0</td>\n",
       "      <td>1350.0</td>\n",
       "      <td>1,2,3,4,6,7</td>\n",
       "      <td>NaN</td>\n",
       "      <td>simple</td>\n",
       "      <td>NaN</td>\n",
       "      <td>crenate,serrate</td>\n",
       "      <td>alternate</td>\n",
       "      <td>nomi</td>\n",
       "    </tr>\n",
       "    <tr>\n",
       "      <th>1</th>\n",
       "      <td>Malvaceae</td>\n",
       "      <td>NaN</td>\n",
       "      <td>NaN</td>\n",
       "      <td>Malvaceae</td>\n",
       "      <td>Abutilon mauritianum (Jacq.) Medic. sensu lato</td>\n",
       "      <td>NaN</td>\n",
       "      <td>1.0</td>\n",
       "      <td>NaN</td>\n",
       "      <td>t</td>\n",
       "      <td>Abutilon mauritianum (Jacq.) Medic. sensu lato</td>\n",
       "      <td>...</td>\n",
       "      <td>herb,shrub</td>\n",
       "      <td>1.0</td>\n",
       "      <td>2050.0</td>\n",
       "      <td>1,3,4,5,7</td>\n",
       "      <td>NaN</td>\n",
       "      <td>simple</td>\n",
       "      <td>NaN</td>\n",
       "      <td>serrate,crenate</td>\n",
       "      <td>alternate</td>\n",
       "      <td>cehi,co</td>\n",
       "    </tr>\n",
       "    <tr>\n",
       "      <th>2</th>\n",
       "      <td>Euphorbiaceae</td>\n",
       "      <td>NaN</td>\n",
       "      <td>NaN</td>\n",
       "      <td>Euphorbiaceae</td>\n",
       "      <td>Acalypha neptunica Müll. Arg.</td>\n",
       "      <td>NaN</td>\n",
       "      <td>NaN</td>\n",
       "      <td>NaN</td>\n",
       "      <td>NaN</td>\n",
       "      <td>Acalypha neptunica Müll. Arg.</td>\n",
       "      <td>...</td>\n",
       "      <td>shrub,tree</td>\n",
       "      <td>1.0</td>\n",
       "      <td>1800.0</td>\n",
       "      <td>3,4,5,6,7</td>\n",
       "      <td>NaN</td>\n",
       "      <td>simple</td>\n",
       "      <td>NaN</td>\n",
       "      <td>serrate</td>\n",
       "      <td>alternate</td>\n",
       "      <td>co</td>\n",
       "    </tr>\n",
       "    <tr>\n",
       "      <th>3</th>\n",
       "      <td>Acanthaceae</td>\n",
       "      <td>2</td>\n",
       "      <td>NaN</td>\n",
       "      <td>Acanthaceae</td>\n",
       "      <td>Acanthopale pubescens (Engl.) C.B. Clarke</td>\n",
       "      <td>NaN</td>\n",
       "      <td>1.0</td>\n",
       "      <td>Cosmetra taitana</td>\n",
       "      <td>TCos_taita</td>\n",
       "      <td>Acanthopale pubescens (Engl.) C.B.Cl.</td>\n",
       "      <td>...</td>\n",
       "      <td>shrub,herb</td>\n",
       "      <td>1550.0</td>\n",
       "      <td>2700.0</td>\n",
       "      <td>1,3,4,5,6,7</td>\n",
       "      <td>NaN</td>\n",
       "      <td>simple</td>\n",
       "      <td>NaN</td>\n",
       "      <td>entire</td>\n",
       "      <td>opposite</td>\n",
       "      <td>cohi</td>\n",
       "    </tr>\n",
       "    <tr>\n",
       "      <th>4</th>\n",
       "      <td>Acanthaceae</td>\n",
       "      <td>NaN</td>\n",
       "      <td>NaN</td>\n",
       "      <td>Acanthaceae</td>\n",
       "      <td>Acanthus eminens C. B. Clarke</td>\n",
       "      <td>NaN</td>\n",
       "      <td>1.0</td>\n",
       "      <td>Endothenia ator</td>\n",
       "      <td>TEndoth_ator</td>\n",
       "      <td>Acanthus eminens C. B. Clarke</td>\n",
       "      <td>...</td>\n",
       "      <td>herb,shrub</td>\n",
       "      <td>1500.0</td>\n",
       "      <td>2650.0</td>\n",
       "      <td>2,3,4,5,6</td>\n",
       "      <td>NaN</td>\n",
       "      <td>simple</td>\n",
       "      <td>NaN</td>\n",
       "      <td>spiny</td>\n",
       "      <td>opposite</td>\n",
       "      <td>wehi</td>\n",
       "    </tr>\n",
       "  </tbody>\n",
       "</table>\n",
       "<p>5 rows × 44 columns</p>\n",
       "</div>"
      ],
      "text/plain": [
       "  old Plant family  new  cf? new Plant family  \\\n",
       "0        Malvaceae  NaN  NaN        Malvaceae   \n",
       "1        Malvaceae  NaN  NaN        Malvaceae   \n",
       "2    Euphorbiaceae  NaN  NaN    Euphorbiaceae   \n",
       "3      Acanthaceae    2  NaN      Acanthaceae   \n",
       "4      Acanthaceae  NaN  NaN      Acanthaceae   \n",
       "\n",
       "              Plant species with new names merged  genus  Lepidoptera   \\\n",
       "0                    Abutilon hirtum (Lam.) Sweet    NaN           NaN   \n",
       "1  Abutilon mauritianum (Jacq.) Medic. sensu lato    NaN           1.0   \n",
       "2                   Acalypha neptunica Müll. Arg.    NaN           NaN   \n",
       "3       Acanthopale pubescens (Engl.) C.B. Clarke    NaN           1.0   \n",
       "4                   Acanthus eminens C. B. Clarke    NaN           1.0   \n",
       "\n",
       "        Lep species lep species codes  \\\n",
       "0               NaN               NaN   \n",
       "1               NaN                 t   \n",
       "2               NaN               NaN   \n",
       "3  Cosmetra taitana        TCos_taita   \n",
       "4   Endothenia ator      TEndoth_ator   \n",
       "\n",
       "                           Plant species old name  ...  \\\n",
       "0                    Abutilon hirtum (Lam.) Sweet  ...   \n",
       "1  Abutilon mauritianum (Jacq.) Medic. sensu lato  ...   \n",
       "2                   Acalypha neptunica Müll. Arg.  ...   \n",
       "3           Acanthopale pubescens (Engl.) C.B.Cl.  ...   \n",
       "4                   Acanthus eminens C. B. Clarke  ...   \n",
       "\n",
       "  tree, shrub, climber, creeper, liana, herb,parasite Minimum altitude  \\\n",
       "0                                         herb,shrub               1.0   \n",
       "1                                         herb,shrub               1.0   \n",
       "2                                         shrub,tree               1.0   \n",
       "3                                         shrub,herb            1550.0   \n",
       "4                                         herb,shrub            1500.0   \n",
       "\n",
       "   Maximum altitude     K sector  UKWF area  leaf type compound leaf type  \\\n",
       "0            1350.0  1,2,3,4,6,7        NaN     simple                NaN   \n",
       "1            2050.0    1,3,4,5,7        NaN     simple                NaN   \n",
       "2            1800.0    3,4,5,6,7        NaN     simple                NaN   \n",
       "3            2700.0  1,3,4,5,6,7        NaN     simple                NaN   \n",
       "4            2650.0    2,3,4,5,6        NaN     simple                NaN   \n",
       "\n",
       "   leaf(let) margin leaf arrangement Region collected  \n",
       "0   crenate,serrate        alternate             nomi  \n",
       "1   serrate,crenate        alternate          cehi,co  \n",
       "2           serrate        alternate               co  \n",
       "3            entire         opposite             cohi  \n",
       "4             spiny         opposite             wehi  \n",
       "\n",
       "[5 rows x 44 columns]"
      ]
     },
     "execution_count": 17,
     "metadata": {},
     "output_type": "execute_result"
    }
   ],
   "source": [
    "# Extract new data2frame\n",
    "df3 = pd.DataFrame(plants, columns=col)\n",
    "df3.head()"
   ]
  },
  {
   "cell_type": "code",
   "execution_count": 18,
   "id": "9312d886-bf0c-4069-9c58-8c59bade6f74",
   "metadata": {
    "tags": []
   },
   "outputs": [],
   "source": [
    "df3['species name'] = df3['Plant species with new names merged'].apply(lambda x: ' '.join(x.split()[1:]))\n",
    "# df['species name']\n",
    "col1=df3.columns.to_list()\n",
    "del col1[-1]"
   ]
  },
  {
   "cell_type": "code",
   "execution_count": 19,
   "id": "7834a47d-10b0-4087-9461-07392f1239ae",
   "metadata": {
    "tags": []
   },
   "outputs": [
    {
     "data": {
      "text/html": [
       "<div>\n",
       "<style scoped>\n",
       "    .dataframe tbody tr th:only-of-type {\n",
       "        vertical-align: middle;\n",
       "    }\n",
       "\n",
       "    .dataframe tbody tr th {\n",
       "        vertical-align: top;\n",
       "    }\n",
       "\n",
       "    .dataframe thead th {\n",
       "        text-align: right;\n",
       "    }\n",
       "</style>\n",
       "<table border=\"1\" class=\"dataframe\">\n",
       "  <thead>\n",
       "    <tr style=\"text-align: right;\">\n",
       "      <th></th>\n",
       "      <th>old Plant family</th>\n",
       "      <th>new</th>\n",
       "      <th>cf?</th>\n",
       "      <th>new Plant family</th>\n",
       "      <th>Plant species with new names merged</th>\n",
       "      <th>genus</th>\n",
       "      <th>Lepidoptera</th>\n",
       "      <th>Lep species</th>\n",
       "      <th>lep species codes</th>\n",
       "      <th>Plant species old name</th>\n",
       "      <th>...</th>\n",
       "      <th>Minimum altitude</th>\n",
       "      <th>Maximum altitude</th>\n",
       "      <th>K sector</th>\n",
       "      <th>UKWF area</th>\n",
       "      <th>leaf type</th>\n",
       "      <th>compound leaf type</th>\n",
       "      <th>leaf(let) margin</th>\n",
       "      <th>leaf arrangement</th>\n",
       "      <th>Region collected</th>\n",
       "      <th>species name</th>\n",
       "    </tr>\n",
       "  </thead>\n",
       "  <tbody>\n",
       "    <tr>\n",
       "      <th>0</th>\n",
       "      <td>Malvaceae</td>\n",
       "      <td>NaN</td>\n",
       "      <td>NaN</td>\n",
       "      <td>Malvaceae</td>\n",
       "      <td>Abutilon hirtum (Lam.) Sweet</td>\n",
       "      <td>NaN</td>\n",
       "      <td>NaN</td>\n",
       "      <td>NaN</td>\n",
       "      <td>NaN</td>\n",
       "      <td>Abutilon hirtum (Lam.) Sweet</td>\n",
       "      <td>...</td>\n",
       "      <td>1.0</td>\n",
       "      <td>1350.0</td>\n",
       "      <td>1,2,3,4,6,7</td>\n",
       "      <td>NaN</td>\n",
       "      <td>simple</td>\n",
       "      <td>NaN</td>\n",
       "      <td>crenate,serrate</td>\n",
       "      <td>alternate</td>\n",
       "      <td>nomi</td>\n",
       "      <td>hirtum (Lam.) Sweet</td>\n",
       "    </tr>\n",
       "    <tr>\n",
       "      <th>1</th>\n",
       "      <td>Malvaceae</td>\n",
       "      <td>NaN</td>\n",
       "      <td>NaN</td>\n",
       "      <td>Malvaceae</td>\n",
       "      <td>Abutilon mauritianum (Jacq.) Medic. sensu lato</td>\n",
       "      <td>NaN</td>\n",
       "      <td>1.0</td>\n",
       "      <td>NaN</td>\n",
       "      <td>t</td>\n",
       "      <td>Abutilon mauritianum (Jacq.) Medic. sensu lato</td>\n",
       "      <td>...</td>\n",
       "      <td>1.0</td>\n",
       "      <td>2050.0</td>\n",
       "      <td>1,3,4,5,7</td>\n",
       "      <td>NaN</td>\n",
       "      <td>simple</td>\n",
       "      <td>NaN</td>\n",
       "      <td>serrate,crenate</td>\n",
       "      <td>alternate</td>\n",
       "      <td>cehi,co</td>\n",
       "      <td>mauritianum (Jacq.) Medic. sensu lato</td>\n",
       "    </tr>\n",
       "    <tr>\n",
       "      <th>2</th>\n",
       "      <td>Euphorbiaceae</td>\n",
       "      <td>NaN</td>\n",
       "      <td>NaN</td>\n",
       "      <td>Euphorbiaceae</td>\n",
       "      <td>Acalypha neptunica Müll. Arg.</td>\n",
       "      <td>NaN</td>\n",
       "      <td>NaN</td>\n",
       "      <td>NaN</td>\n",
       "      <td>NaN</td>\n",
       "      <td>Acalypha neptunica Müll. Arg.</td>\n",
       "      <td>...</td>\n",
       "      <td>1.0</td>\n",
       "      <td>1800.0</td>\n",
       "      <td>3,4,5,6,7</td>\n",
       "      <td>NaN</td>\n",
       "      <td>simple</td>\n",
       "      <td>NaN</td>\n",
       "      <td>serrate</td>\n",
       "      <td>alternate</td>\n",
       "      <td>co</td>\n",
       "      <td>neptunica Müll. Arg.</td>\n",
       "    </tr>\n",
       "    <tr>\n",
       "      <th>3</th>\n",
       "      <td>Acanthaceae</td>\n",
       "      <td>2</td>\n",
       "      <td>NaN</td>\n",
       "      <td>Acanthaceae</td>\n",
       "      <td>Acanthopale pubescens (Engl.) C.B. Clarke</td>\n",
       "      <td>NaN</td>\n",
       "      <td>1.0</td>\n",
       "      <td>Cosmetra taitana</td>\n",
       "      <td>TCos_taita</td>\n",
       "      <td>Acanthopale pubescens (Engl.) C.B.Cl.</td>\n",
       "      <td>...</td>\n",
       "      <td>1550.0</td>\n",
       "      <td>2700.0</td>\n",
       "      <td>1,3,4,5,6,7</td>\n",
       "      <td>NaN</td>\n",
       "      <td>simple</td>\n",
       "      <td>NaN</td>\n",
       "      <td>entire</td>\n",
       "      <td>opposite</td>\n",
       "      <td>cohi</td>\n",
       "      <td>pubescens (Engl.) C.B. Clarke</td>\n",
       "    </tr>\n",
       "    <tr>\n",
       "      <th>4</th>\n",
       "      <td>Acanthaceae</td>\n",
       "      <td>NaN</td>\n",
       "      <td>NaN</td>\n",
       "      <td>Acanthaceae</td>\n",
       "      <td>Acanthus eminens C. B. Clarke</td>\n",
       "      <td>NaN</td>\n",
       "      <td>1.0</td>\n",
       "      <td>Endothenia ator</td>\n",
       "      <td>TEndoth_ator</td>\n",
       "      <td>Acanthus eminens C. B. Clarke</td>\n",
       "      <td>...</td>\n",
       "      <td>1500.0</td>\n",
       "      <td>2650.0</td>\n",
       "      <td>2,3,4,5,6</td>\n",
       "      <td>NaN</td>\n",
       "      <td>simple</td>\n",
       "      <td>NaN</td>\n",
       "      <td>spiny</td>\n",
       "      <td>opposite</td>\n",
       "      <td>wehi</td>\n",
       "      <td>eminens C. B. Clarke</td>\n",
       "    </tr>\n",
       "  </tbody>\n",
       "</table>\n",
       "<p>5 rows × 45 columns</p>\n",
       "</div>"
      ],
      "text/plain": [
       "  old Plant family  new  cf? new Plant family  \\\n",
       "0        Malvaceae  NaN  NaN        Malvaceae   \n",
       "1        Malvaceae  NaN  NaN        Malvaceae   \n",
       "2    Euphorbiaceae  NaN  NaN    Euphorbiaceae   \n",
       "3      Acanthaceae    2  NaN      Acanthaceae   \n",
       "4      Acanthaceae  NaN  NaN      Acanthaceae   \n",
       "\n",
       "              Plant species with new names merged  genus  Lepidoptera   \\\n",
       "0                    Abutilon hirtum (Lam.) Sweet    NaN           NaN   \n",
       "1  Abutilon mauritianum (Jacq.) Medic. sensu lato    NaN           1.0   \n",
       "2                   Acalypha neptunica Müll. Arg.    NaN           NaN   \n",
       "3       Acanthopale pubescens (Engl.) C.B. Clarke    NaN           1.0   \n",
       "4                   Acanthus eminens C. B. Clarke    NaN           1.0   \n",
       "\n",
       "        Lep species lep species codes  \\\n",
       "0               NaN               NaN   \n",
       "1               NaN                 t   \n",
       "2               NaN               NaN   \n",
       "3  Cosmetra taitana        TCos_taita   \n",
       "4   Endothenia ator      TEndoth_ator   \n",
       "\n",
       "                           Plant species old name  ... Minimum altitude  \\\n",
       "0                    Abutilon hirtum (Lam.) Sweet  ...              1.0   \n",
       "1  Abutilon mauritianum (Jacq.) Medic. sensu lato  ...              1.0   \n",
       "2                   Acalypha neptunica Müll. Arg.  ...              1.0   \n",
       "3           Acanthopale pubescens (Engl.) C.B.Cl.  ...           1550.0   \n",
       "4                   Acanthus eminens C. B. Clarke  ...           1500.0   \n",
       "\n",
       "  Maximum altitude     K sector  UKWF area  leaf type  compound leaf type  \\\n",
       "0           1350.0  1,2,3,4,6,7        NaN     simple                 NaN   \n",
       "1           2050.0    1,3,4,5,7        NaN     simple                 NaN   \n",
       "2           1800.0    3,4,5,6,7        NaN     simple                 NaN   \n",
       "3           2700.0  1,3,4,5,6,7        NaN     simple                 NaN   \n",
       "4           2650.0    2,3,4,5,6        NaN     simple                 NaN   \n",
       "\n",
       "  leaf(let) margin  leaf arrangement Region collected  \\\n",
       "0  crenate,serrate         alternate             nomi   \n",
       "1  serrate,crenate         alternate          cehi,co   \n",
       "2          serrate         alternate               co   \n",
       "3           entire          opposite             cohi   \n",
       "4            spiny          opposite             wehi   \n",
       "\n",
       "                            species name  \n",
       "0                    hirtum (Lam.) Sweet  \n",
       "1  mauritianum (Jacq.) Medic. sensu lato  \n",
       "2                   neptunica Müll. Arg.  \n",
       "3          pubescens (Engl.) C.B. Clarke  \n",
       "4                   eminens C. B. Clarke  \n",
       "\n",
       "[5 rows x 45 columns]"
      ]
     },
     "execution_count": 19,
     "metadata": {},
     "output_type": "execute_result"
    }
   ],
   "source": [
    "df3.head()"
   ]
  },
  {
   "cell_type": "code",
   "execution_count": 20,
   "id": "6d6d82f4-45ae-47e0-9779-192999cf1de3",
   "metadata": {
    "tags": []
   },
   "outputs": [
    {
     "data": {
      "text/plain": [
       "['old Plant family',\n",
       " 'new',\n",
       " 'cf?',\n",
       " 'new Plant family',\n",
       " 'Plant species with new names merged',\n",
       " 'genus',\n",
       " 'species name',\n",
       " 'Lepidoptera ',\n",
       " 'Lep species',\n",
       " 'lep species codes',\n",
       " 'Plant species old name',\n",
       " 'Plant species with new names merged.1',\n",
       " 'Plant species new name',\n",
       " 'Fruit photo no. 1',\n",
       " 'Fruit photo no. 2',\n",
       " 'Fruit photo no. 3',\n",
       " 'Fruit photo no. 4',\n",
       " 'Coleoptera species codes',\n",
       " 'Lepidoptera',\n",
       " 'lep species codes.1',\n",
       " 'Hymenoptera opiine codes',\n",
       " 'Hymenoptera non-opiine codes',\n",
       " 'non-tephritid Diptera species codes',\n",
       " 'Tephritid species codes',\n",
       " 'Fruit type',\n",
       " 'Fruit color',\n",
       " 'Fruit shape',\n",
       " 'fruit less than 10 mm',\n",
       " 'fruit 10-15 mm',\n",
       " 'fruit > 15 <25 mm',\n",
       " 'fruit >25 mm < 40mm',\n",
       " 'fruit >40mm',\n",
       " 'spines, thorns, prickles or spiny leaf margins',\n",
       " 'latex',\n",
       " 'woody or herbaceous',\n",
       " 'tree, shrub, climber, creeper, liana, herb,parasite',\n",
       " 'Minimum altitude',\n",
       " 'Maximum altitude',\n",
       " 'K sector',\n",
       " 'UKWF area',\n",
       " 'leaf type',\n",
       " 'compound leaf type',\n",
       " 'leaf(let) margin',\n",
       " 'leaf arrangement',\n",
       " 'Region collected']"
      ]
     },
     "execution_count": 20,
     "metadata": {},
     "output_type": "execute_result"
    }
   ],
   "source": [
    "col1.insert(6,'species name')\n",
    "col1"
   ]
  },
  {
   "cell_type": "markdown",
   "id": "4b75e7bb-6869-4e45-b437-e18f342c435a",
   "metadata": {},
   "source": [
    "# 2. create plant genera table\n"
   ]
  },
  {
   "cell_type": "markdown",
   "id": "3d0e6f13-fca1-4e0e-bfd0-32822ba8bf76",
   "metadata": {
    "tags": []
   },
   "source": [
    "# Example of entry\n",
    "INSERT INTO plant_genera(id,genus_name,family_id)\n",
    "\n",
    "VALUES (1,'Acanthopale',1),\n",
    "\n",
    "    (2,'Acanthus',1),\n",
    "    \n",
    "    (3,'Crosandra',1)\n",
    "    \n",
    "    ON CONFLICT (id) DO NOTHING"
   ]
  },
  {
   "cell_type": "markdown",
   "id": "6cf04e45-0924-4642-8c9b-541fe4a372ba",
   "metadata": {},
   "source": [
    "# The file was updated and saved as a secondary file named master_file_updated_may_version1.xlsx that we will use for processing and creating of tables"
   ]
  },
  {
   "cell_type": "code",
   "execution_count": 21,
   "id": "b47d0b4c-4264-443d-91ff-b980a7c025e8",
   "metadata": {
    "tags": []
   },
   "outputs": [],
   "source": [
    "# The file was updated and saved as a secondary file\n",
    "# df3.save_to_csv(\"master_file_updated_may_version1.xlsx'\")"
   ]
  },
  {
   "cell_type": "markdown",
   "id": "55229e28-f74c-4236-b55e-5094d8eb1dc3",
   "metadata": {},
   "source": [
    "# Laoding updated file"
   ]
  },
  {
   "cell_type": "code",
   "execution_count": 22,
   "id": "9e43fc29-95fd-4719-80cb-63f9d3f17c13",
   "metadata": {
    "tags": []
   },
   "outputs": [],
   "source": [
    "import pandas as pd\n",
    "df=pd.read_excel('master_file_updated_may_version1.xlsx')\n",
    "families_all=list(df['new Plant family'])\n",
    "genus_all=list(df['genus'])"
   ]
  },
  {
   "cell_type": "code",
   "execution_count": 23,
   "id": "1bbc2ebe-b540-43e3-980e-4ae2c9d250d9",
   "metadata": {
    "tags": []
   },
   "outputs": [],
   "source": [
    "# families.index(\"Rhamnaceae\")"
   ]
  },
  {
   "cell_type": "code",
   "execution_count": 24,
   "id": "ba7207ad-75ff-45c6-8df8-b0a0abb7d880",
   "metadata": {
    "tags": []
   },
   "outputs": [
    {
     "data": {
      "text/plain": [
       "97"
      ]
     },
     "execution_count": 24,
     "metadata": {},
     "output_type": "execute_result"
    }
   ],
   "source": [
    "genus=sorted(list(df['genus'].unique()))\n",
    "genus[0:5]\n",
    "families=sorted(list(df['new Plant family'].unique()))\n",
    "families.index(\"Rhamnaceae\")"
   ]
  },
  {
   "cell_type": "code",
   "execution_count": 25,
   "id": "f4340f93-b7bb-4f84-8d19-d6268978ab44",
   "metadata": {
    "tags": []
   },
   "outputs": [],
   "source": [
    "family_dict={}\n",
    "for i in range(0,len(families_all)):\n",
    "    genu=genus_all[i]\n",
    "    family=families_all[i]\n",
    "    family_dict[genu]=family"
   ]
  },
  {
   "cell_type": "code",
   "execution_count": 26,
   "id": "7b2c3fcd-dc7c-4d19-8d6e-c901134d9567",
   "metadata": {
    "tags": []
   },
   "outputs": [],
   "source": [
    "# family_dict"
   ]
  },
  {
   "cell_type": "code",
   "execution_count": 27,
   "id": "e8bd70bf-a489-4eba-a389-9c5581e6fa34",
   "metadata": {
    "tags": []
   },
   "outputs": [],
   "source": [
    "# families_all=list(df['new Plant family'])\n",
    "genus_all=list(df['genus'])"
   ]
  },
  {
   "cell_type": "code",
   "execution_count": 28,
   "id": "a87f88df-5174-4c05-947d-9ec7238793a0",
   "metadata": {
    "tags": []
   },
   "outputs": [
    {
     "data": {
      "text/plain": [
       "212"
      ]
     },
     "execution_count": 28,
     "metadata": {},
     "output_type": "execute_result"
    }
   ],
   "source": [
    "genus_all.index('Crossandra')\n",
    "# families=families_all.un\n",
    "# families=sorted(list(df['new Plant family'].unique()))"
   ]
  },
  {
   "cell_type": "code",
   "execution_count": 29,
   "id": "efcef122-d0ff-44ee-a0a6-bda7cb2a4474",
   "metadata": {
    "tags": []
   },
   "outputs": [],
   "source": [
    "with open('plant_families.sql','w') as myfile:\n",
    "    myfile.write(\"INSERT INTO plant_families(id,family_name)\" + \"\\n\"+\"VALUES \"+\"\\n\")\n",
    "\n",
    "    for i in range(0,len(families)):\n",
    "        if i!=len(families)-1:\n",
    "            myfile.write(\"    \"+\"(\" + \"'\"+families[i].strip() + \"'\"+\")\"+ \",\"+\"\\n\")\n",
    "            # i+=1\n",
    "        else:\n",
    "            myfile.write(\"    \"+\"(\" + \"'\"+families[i].strip() + \"'\"+\")\"+\"\\n\")\n",
    "\n",
    "    myfile.write(\"RETURNING *;\")"
   ]
  },
  {
   "cell_type": "code",
   "execution_count": 30,
   "id": "ec9d2692-36b6-450c-aae4-4414cc181a3d",
   "metadata": {
    "tags": []
   },
   "outputs": [
    {
     "data": {
      "text/plain": [
       "'Rhamnaceae'"
      ]
     },
     "execution_count": 30,
     "metadata": {},
     "output_type": "execute_result"
    }
   ],
   "source": [
    "with open('plant_genera.sql','w') as myfile:\n",
    "    myfile.write(\"INSERT INTO plant_genera(genus_name,family_id)\" + \"\\n\"+\"VALUES \"+\"\\n\")\n",
    "    for index, value in enumerate(genus):\n",
    "        if index==880:\n",
    "            print(value)\n",
    "        # print(value)\n",
    "        #get the index of the row in file\n",
    "        # i=genus_all.index(value)\n",
    "        # get corresponding family name of the plant in row_id i\n",
    "        g=family_dict.get(value)\n",
    "        # if g==\"Ziziphus\":\n",
    "        #     print(g)\n",
    "        # get the id of the family in the families list\n",
    "        family_id=families.index(g)+1\n",
    "        # print(family_id)\n",
    "        if index!=len(genus)-1:\n",
    "            myfile.write(\"    \"+\"(\" + \"'\"+value + \"'\"+ \",\"+str(family_id)+\")\"+ \",\"+\"\\n\")       \n",
    "        else:\n",
    "            myfile.write(\"    \"+\"(\"+ \"'\"+value + \"'\"+\",\" +str(family_id)+\")\"+\"\\n\")\n",
    "\n",
    "    myfile.write(\"RETURNING *;\")\n",
    "    # for key, value in enumerate(genus):\n",
    "    #     #get the index of the row in file\n",
    "    #     i=genus_all.index(value)\n",
    "    #     g=families_all[i]\n",
    "    #     family_id=families.index(g)+1\n",
    "    #     print(family_id)\n",
    "families[97]"
   ]
  },
  {
   "cell_type": "code",
   "execution_count": 31,
   "id": "6ca9d255-a355-4647-98ac-5f39bdf86903",
   "metadata": {
    "tags": []
   },
   "outputs": [
    {
     "data": {
      "text/plain": [
       "'Malvaceae'"
      ]
     },
     "execution_count": 31,
     "metadata": {},
     "output_type": "execute_result"
    }
   ],
   "source": [
    "families[66]"
   ]
  },
  {
   "cell_type": "code",
   "execution_count": 32,
   "id": "e52ccce6-ef9b-467f-92d7-8c65dc80ee39",
   "metadata": {
    "tags": []
   },
   "outputs": [
    {
     "data": {
      "text/plain": [
       "array(['simple', 'compound', nan, 'simple ', 'none', 'simple,compound',\n",
       "       'compound,lobed'], dtype=object)"
      ]
     },
     "execution_count": 32,
     "metadata": {},
     "output_type": "execute_result"
    }
   ],
   "source": [
    "df['leaf type'].unique()"
   ]
  },
  {
   "cell_type": "code",
   "execution_count": 33,
   "id": "518d5285-1e8a-40b7-b600-8957d19bc8e6",
   "metadata": {
    "tags": []
   },
   "outputs": [],
   "source": [
    "# #Extract all rows for genus\n",
    "# genus_all=list(df['genus'])\n",
    "# #Extract unique fsmilis and genusd names\n",
    "# genus=sorted(list(df['genus'].unique()))\n",
    "\n",
    "species_all=df['species name'].to_list()\n",
    "description=df['description'].to_list()\n",
    "leaf_type=df['leaf type'].to_list()\n",
    "# compound=df['compound leaf type'].to_list()\n",
    "# description=df['description'].to_list()\n",
    "max_lat=df['Maximum altitude'].to_list()\n",
    "min_lat=df['Minimum altitude'].to_list()"
   ]
  },
  {
   "cell_type": "code",
   "execution_count": 34,
   "id": "92ce8c20-e75a-415d-9439-45a217d68cb0",
   "metadata": {
    "tags": []
   },
   "outputs": [
    {
     "data": {
      "text/plain": [
       "57"
      ]
     },
     "execution_count": 34,
     "metadata": {},
     "output_type": "execute_result"
    }
   ],
   "source": [
    "species_all_name_to_sp=df['Plant species with new names merged'].to_list()\n",
    "p=[]\n",
    "for i in species_all_name_to_sp:\n",
    "    y=i.split()[-1]\n",
    "    if len(y) <=3:\n",
    "        if y == \"Lye\":\n",
    "            pass\n",
    "        elif y==\"Pax\":\n",
    "            pass\n",
    "        elif y==\"L.\":\n",
    "            p.append(y)\n",
    "        elif y==\"sp.\":\n",
    "            p.append(y)\n",
    "len(p)  "
   ]
  },
  {
   "cell_type": "markdown",
   "id": "da8bb160-2ce6-4f63-be5d-01b966f3b383",
   "metadata": {},
   "source": [
    "# Total numbe of plant records with no duplicates are 873"
   ]
  },
  {
   "cell_type": "code",
   "execution_count": 35,
   "id": "3af9db59-982f-44d9-b669-aeacb487eb8d",
   "metadata": {
    "tags": []
   },
   "outputs": [
    {
     "data": {
      "text/plain": [
       "873"
      ]
     },
     "execution_count": 35,
     "metadata": {},
     "output_type": "execute_result"
    }
   ],
   "source": [
    "len(set(species_all_name_to_sp))"
   ]
  },
  {
   "cell_type": "code",
   "execution_count": 36,
   "id": "5f710ade-ca0e-44b3-bf35-1c53e591850a",
   "metadata": {
    "tags": []
   },
   "outputs": [],
   "source": [
    "# with open('plants.sql','w') as myfile:\n",
    "#     myfile.write(\"INSERT INTO plants(id, species_name,leaf_type,description,max_latitude,min_latitude,genus_id)\" + \"\\n\"+\"VALUES \"+\"\\n\")\n",
    "#     for index, value in enumerate(species_all):\n",
    "#         #get the index of the row in file\n",
    "#         i=species_all.index(value)\n",
    "#         species=species_all[i]\n",
    "#         genus_name=genus_all[i]\n",
    "#         # print(genus_name)\n",
    "#         #get the id of the genus from genus list\n",
    "#         genus_id=genus.index(genus_name)+1\n",
    "#         #print(genus_id)\n",
    "#         # # get the id of the family in the families list\n",
    "#         descrip=description[i]\n",
    "#         leaf_typ=leaf_type[i]\n",
    "#         max_latitude=max_lat[i]\n",
    "#         min_latitude=min_lat[i]\n",
    "#         #print(descrip)\n",
    "\n",
    "#         if index!=len(species_all)-1:\n",
    "#             if len(value)>100:\n",
    "#                 print(len(value))\n",
    "#             # names with apostrophees\n",
    "#             if \"'\" in value:\n",
    "#                 pass\n",
    "#                 # myfile.write(f'    ({str(index+1)},\"{value}\",\"{str(leaf_typ)}\",\"{str(descrip)}\", \"{str(max_latitude)}\",\"{str(min_latitude)}\",{str(genus_id)}),\\n')       \n",
    "#             else:\n",
    "#                 if str(max_latitude)=='nan' and str(min_latitude)=='nan':\n",
    "#                     myfile.write(f\"    ({str(index+1)},'{value}','{str(leaf_typ)}','{str(descrip)}',NULL,NULL,{str(genus_id)}),\\n\")       \n",
    "    \n",
    "#                 elif str(max_latitude)=='nan':\n",
    "#                     myfile.write(f\"    ({str(index+1)},'{value}','{str(leaf_typ)}','{str(descrip)}', NULL,{(min_latitude)},{str(genus_id)}),\\n\")       \n",
    "#                 elif str(min_latitude)=='nan':\n",
    "#                     myfile.write(f\"    ({str(index+1)},'{value}','{str(leaf_typ)}','{str(descrip)}', {max_latitude},NULL,{str(genus_id)}),\\n\")               \n",
    "#                 else:\n",
    "#                     myfile.write(f\"    ({str(index+1)},'{value}','{str(leaf_typ)}','{str(descrip)}', {max_latitude},{(min_latitude)},{str(genus_id)}),\\n\")       \n",
    " \n",
    "#                 # myfile.write(\"    \"+\"(\"+str(index+1)+ \",\" + \"'\"+ value + \"'\" +\",\"+\"'\"+str(leaf_typ)+\"'\"+\",\"+\"'\"+str(descrip)+\"'\"+\",\"+\"'\"+ str(max_latitude)+\"'\"+\",\"+\"'\"+str(min_latitude)+\"'\"+\",\"+str(genus_id)+\")\"+ \",\"+\"\\n\")       \n",
    "   \n",
    "#         else:\n",
    "#             myfile.write(f\"    ({str(index+1)},'{value}','{str(leaf_typ)}','{str(descrip)}', {(max_latitude)},{(min_latitude)},{str(genus_id)})\\n\")       \n",
    "\n",
    "\n",
    "#             # myfile.write(\"    \"+\"(\"+str(index+1)+ \",\" + \"'\"+ value + \"'\" +\",\"+\"'\"+str(leaf_typ)+\"'\"+\"'\"+str(descrip)+\"'\"+\"'\"+str(max_latitude)+\"'\"+\"'\"+str(min_latitude)+\"'\"+\",\"+str(genus_id)+\")\"+\"\\n\")       \n",
    "\n",
    "\n",
    "#     myfile.write(\"RETURNING *;\")\n"
   ]
  },
  {
   "cell_type": "code",
   "execution_count": 37,
   "id": "e2fcbfd9-6ae0-4c2d-9f95-afcb59fb8429",
   "metadata": {
    "tags": []
   },
   "outputs": [],
   "source": [
    "# # download rbcl and matk sequences and remove gaps\n",
    "# rbcl_all=df['rbcl'].str.replace(\"-\",\"\").to_list()\n",
    "# matk_all=df['matk'].str.replace(\"-\",\"\").to_list()"
   ]
  },
  {
   "cell_type": "code",
   "execution_count": 38,
   "id": "d05cfff6-e2e3-4fb9-923a-a72fc88afa7d",
   "metadata": {
    "tags": []
   },
   "outputs": [],
   "source": [
    "# y=[]\n",
    "# for i in rbcl_all:\n",
    "#     if i==\"Nan\":\n",
    "#         # print(i)\n",
    "#         pass\n",
    "#     else:\n",
    "#         y.append(i)\n",
    "# len(y)    \n",
    "# v=[]\n",
    "# for i in matk_all:\n",
    "#     if i==\"Nan\":\n",
    "#         # print(i)\n",
    "#         pass\n",
    "#     else:\n",
    "#         v.append(i)\n",
    "# len(v) "
   ]
  },
  {
   "cell_type": "code",
   "execution_count": 39,
   "id": "7892e277-81ca-45b8-90e8-a5676b3e87e9",
   "metadata": {
    "tags": []
   },
   "outputs": [
    {
     "data": {
      "text/plain": [
       "'spina-christi (L.) Desf.'"
      ]
     },
     "execution_count": 39,
     "metadata": {},
     "output_type": "execute_result"
    }
   ],
   "source": [
    "species_all[-1]\n",
    "# genus_all[797]"
   ]
  },
  {
   "cell_type": "code",
   "execution_count": 40,
   "id": "f5ecace8-51d6-4581-9d6d-c671753ecae8",
   "metadata": {
    "tags": []
   },
   "outputs": [
    {
     "data": {
      "text/plain": [
       "['hirtum (Lam.) Sweet',\n",
       " 'mauritianum (Jacq.) Medic. sensu lato',\n",
       " 'neptunica Müll. Arg.',\n",
       " 'pubescens (Engl.) C.B. Clarke',\n",
       " 'eminens C. B. Clarke']"
      ]
     },
     "execution_count": 40,
     "metadata": {},
     "output_type": "execute_result"
    }
   ],
   "source": [
    "species_all[0:5]"
   ]
  },
  {
   "cell_type": "code",
   "execution_count": 41,
   "id": "604b3a9d-6633-40ac-97f1-95fc896983e6",
   "metadata": {
    "tags": []
   },
   "outputs": [
    {
     "data": {
      "text/plain": [
       "2"
      ]
     },
     "execution_count": 41,
     "metadata": {},
     "output_type": "execute_result"
    }
   ],
   "source": [
    "genus.index(\"Abutilon\")"
   ]
  },
  {
   "cell_type": "markdown",
   "id": "e467ba17-05be-43a2-aa7f-5c08dee30b08",
   "metadata": {},
   "source": [
    "# Plants table"
   ]
  },
  {
   "cell_type": "code",
   "execution_count": 42,
   "id": "6b62c373-f828-4275-a5ce-5df3e129ca9e",
   "metadata": {
    "tags": []
   },
   "outputs": [
    {
     "name": "stdout",
     "output_type": "stream",
     "text": [
      "v hirtum (Lam.) Sweet\n",
      "Abutilon\n",
      "3\n",
      "dodecandra L'Hér.\n",
      "prinoides L'Hér.\n"
     ]
    }
   ],
   "source": [
    "## REmove duplicate names\n",
    "with open('plants.sql','w') as myfile:\n",
    "    myfile.write(\"INSERT INTO plants(id, species_name,leaf_type,description,max_latitude,min_latitude,genus_id,rbcl,matk)\" + \"\\n\"+\"VALUES \"+\"\\n\")\n",
    "    for index, value in enumerate(species_all):\n",
    "        # print(value)       \n",
    "        #get the index of the row in file\n",
    "        # i=species_all.index(value)\n",
    "        if index==0:\n",
    "            print(f\"v {value}\")\n",
    "            print(genus_all[index])\n",
    "            print(genus.index(genus_all[index])+1)\n",
    "        species=species_all[index]\n",
    "        genus_name=genus_all[index]\n",
    "        # print(genus_name)\n",
    "        #get the id of the genus from genus list\n",
    "        genus_id=genus.index(genus_name)+1\n",
    "        #print(genus_id)\n",
    "        # # get the id of the family in the families list\n",
    "        descrip=description[index]\n",
    "        leaf_typ=leaf_type[index]\n",
    "        max_latitude=max_lat[index]\n",
    "        min_latitude=min_lat[index]\n",
    "        #print(descrip)\n",
    "        # rbcl=rbcl_all[index]\n",
    "        # matk=matk_all[index]\n",
    "\n",
    "        if index!=len(species_all)-1:\n",
    "            # if len(value)>100:\n",
    "            #     print(len(value))\n",
    "            # names with apostrophees\n",
    "            if \"'\" in value:\n",
    "                if str(max_latitude)=='nan' and str(min_latitude)=='nan':\n",
    "                    myfile.write(f\"    ('{value.split()[0]}','{str(leaf_typ)}','{str(descrip)}',NULL,NULL,{str(genus_id)}),\\n\")       \n",
    "                elif str(max_latitude)=='nan':\n",
    "                    myfile.write(f\"    ('{value.split()[0]}','{str(leaf_typ)}','{str(descrip)}',NULL,{str(min_latitude)},{str(genus_id)}),\\n\")       \n",
    "                elif str(min_latitude)=='nan':\n",
    "                    myfile.write(f\"    ('{value.split()[0]}','{str(leaf_typ)}','{str(descrip)}', {str(max_latitude)},NULL,{str(genus_id)}),\\n\")               \n",
    "                else:\n",
    "                    myfile.write(f\"    ('{value.split()[0]}','{str(leaf_typ)}','{str(descrip)}', {str(max_latitude)},{str(min_latitude)},{str(genus_id)}),\\n\")       \n",
    "                # myfile.write(\"    \"+\"(\"+str(index+1)+ \",\" + \"'\"+ value + \"'\" +\",\"+\"'\"+str(leaf_typ)+\"'\"+\",\"+\"'\"+str(descrip)+\"'\"+\",\"+\"'\"+ str(max_latitude)+\"'\"+\",\"+\"'\"+str(min_latitude)+\"'\"+\",\"+str(genus_id)\n",
    "                print(value)\n",
    "                # print(genus_name)\n",
    "                pass\n",
    "                # myfile.write(f'    ({str(index+1)},\"{value}\",\"{str(leaf_typ)}\",\"{str(descrip)}\", \"{str(max_latitude)}\",\"{str(min_latitude)}\",{str(genus_id)}),\\n')       \n",
    "            else:\n",
    "                if str(max_latitude)=='nan' and str(min_latitude)=='nan':\n",
    "                    myfile.write(f\"    ('{value}','{str(leaf_typ)}','{str(descrip)}',NULL,NULL,{str(genus_id)}),\\n\")       \n",
    "                elif str(max_latitude)=='nan':\n",
    "                    myfile.write(f\"    ('{value}','{str(leaf_typ)}','{str(descrip)}',NULL,{str(min_latitude)},{str(genus_id)}),\\n\")       \n",
    "                elif str(min_latitude)=='nan':\n",
    "                    myfile.write(f\"    ('{value}','{str(leaf_typ)}','{str(descrip)}', {str(max_latitude)},NULL,{str(genus_id)}),\\n\")               \n",
    "                else:\n",
    "                    myfile.write(f\"    ('{value}','{str(leaf_typ)}','{str(descrip)}', {str(max_latitude)},{str(min_latitude)},{str(genus_id)}),\\n\")       \n",
    "                # myfile.write(\"    \"+\"(\"+str(index+1)+ \",\" + \"'\"+ value + \"'\" +\",\"+\"'\"+str(leaf_typ)+\"'\"+\",\"+\"'\"+str(descrip)+\"'\"+\",\"+\"'\"+ str(max_latitude)+\"'\"+\",\"+\"'\"+str(min_latitude)+\"'\"+\",\"+str(genus_id)+\")\"+ \",\"+\"\\n\")       \n",
    "\n",
    "        else:\n",
    "            myfile.write(f\"    ('{value}','{str(leaf_typ)}','{str(descrip)}', {str(max_latitude)},{str(min_latitude)},{str(genus_id)})\\n\")       \n",
    "\n",
    "            # myfile.write(\"    \"+\"(\"+str(index+1)+ \",\" + \"'\"+ value + \"'\" +\",\"+\"'\"+str(leaf_typ)+\"'\"+\"'\"+str(descrip)+\"'\"+\"'\"+str(max_latitude)+\"'\"+\"'\"+str(min_latitude)+\"'\"+\",\"+str(genus_id)+\")\"+\"\\n\")       \n",
    "\n",
    "\n",
    "    myfile.write(\"RETURNING *;\")\n"
   ]
  },
  {
   "cell_type": "code",
   "execution_count": 43,
   "id": "0b4681dd-b329-4b2b-9532-9eb43c3ce958",
   "metadata": {
    "tags": []
   },
   "outputs": [
    {
     "data": {
      "text/plain": [
       "402"
      ]
     },
     "execution_count": 43,
     "metadata": {},
     "output_type": "execute_result"
    }
   ],
   "source": [
    "all_insec_species=insects[\"SPECIES\"].to_list()\n",
    "all_insec_genus=insects[\"GENUS\"].to_list()\n",
    "\n",
    "not_sp=[]\n",
    "for i in all_insec_species:\n",
    "    g=str(i).split(\" \")[0]\n",
    "    if len(g)<=4:\n",
    "        not_sp.append(g)\n",
    "len(not_sp)"
   ]
  },
  {
   "cell_type": "code",
   "execution_count": 44,
   "id": "57531adb-d789-428f-8832-14bf871f36fc",
   "metadata": {
    "tags": []
   },
   "outputs": [
    {
     "data": {
      "text/plain": [
       "'Rhizophora'"
      ]
     },
     "execution_count": 44,
     "metadata": {},
     "output_type": "execute_result"
    }
   ],
   "source": [
    "genus[349]"
   ]
  },
  {
   "cell_type": "code",
   "execution_count": 45,
   "id": "1c0dfbca-b10c-41a9-8967-7750d7cf0a44",
   "metadata": {
    "tags": []
   },
   "outputs": [
    {
     "data": {
      "text/plain": [
       "595"
      ]
     },
     "execution_count": 45,
     "metadata": {},
     "output_type": "execute_result"
    }
   ],
   "source": [
    "name=[]\n",
    "for key, value in enumerate(all_insec_genus):\n",
    "    # print(value)\n",
    "    name.append(str(value)+ \" \"+ str(all_insec_species[key]))\n",
    "    # name.append(str(value)} {all_insec_species[key]})\n",
    "len(name)    "
   ]
  },
  {
   "cell_type": "markdown",
   "id": "cf4412be-65f7-4c23-a36b-167b2adfc146",
   "metadata": {},
   "source": [
    "# loading insects records"
   ]
  },
  {
   "cell_type": "code",
   "execution_count": 46,
   "id": "a41a5579-98e0-4761-8be2-40cd99f4c9c6",
   "metadata": {
    "tags": []
   },
   "outputs": [
    {
     "data": {
      "text/html": [
       "<div>\n",
       "<style scoped>\n",
       "    .dataframe tbody tr th:only-of-type {\n",
       "        vertical-align: middle;\n",
       "    }\n",
       "\n",
       "    .dataframe tbody tr th {\n",
       "        vertical-align: top;\n",
       "    }\n",
       "\n",
       "    .dataframe thead th {\n",
       "        text-align: right;\n",
       "    }\n",
       "</style>\n",
       "<table border=\"1\" class=\"dataframe\">\n",
       "  <thead>\n",
       "    <tr style=\"text-align: right;\">\n",
       "      <th></th>\n",
       "      <th>ID</th>\n",
       "      <th>Image code1</th>\n",
       "      <th>image code 2</th>\n",
       "      <th>image code 3</th>\n",
       "      <th>image code 4</th>\n",
       "      <th>ORDER</th>\n",
       "      <th>FAMILY</th>\n",
       "      <th>SUBFAMILY</th>\n",
       "      <th>TRIBE</th>\n",
       "      <th>GENUS</th>\n",
       "      <th>SUBGENUS</th>\n",
       "      <th>SPECIES</th>\n",
       "      <th>images and data entered in Access tables?</th>\n",
       "      <th>coll. #</th>\n",
       "      <th>Unnamed: 14</th>\n",
       "      <th>Unnamed: 15</th>\n",
       "    </tr>\n",
       "  </thead>\n",
       "  <tbody>\n",
       "    <tr>\n",
       "      <th>0</th>\n",
       "      <td>Aga</td>\n",
       "      <td>NaN</td>\n",
       "      <td>NaN</td>\n",
       "      <td>NaN</td>\n",
       "      <td>NaN</td>\n",
       "      <td>Hymenoptera</td>\n",
       "      <td>Braconidae</td>\n",
       "      <td>Agathidinae</td>\n",
       "      <td>NaN</td>\n",
       "      <td>Agathis</td>\n",
       "      <td>NaN</td>\n",
       "      <td>sp.</td>\n",
       "      <td>NaN</td>\n",
       "      <td>NaN</td>\n",
       "      <td>NaN</td>\n",
       "      <td>NaN</td>\n",
       "    </tr>\n",
       "    <tr>\n",
       "      <th>1</th>\n",
       "      <td>agat</td>\n",
       "      <td>NaN</td>\n",
       "      <td>NaN</td>\n",
       "      <td>NaN</td>\n",
       "      <td>NaN</td>\n",
       "      <td>Hymenoptera</td>\n",
       "      <td>Braconidae</td>\n",
       "      <td>Agathidinae</td>\n",
       "      <td>NaN</td>\n",
       "      <td>NaN</td>\n",
       "      <td>NaN</td>\n",
       "      <td>NaN</td>\n",
       "      <td>NaN</td>\n",
       "      <td>NaN</td>\n",
       "      <td>NaN</td>\n",
       "      <td>NaN</td>\n",
       "    </tr>\n",
       "    <tr>\n",
       "      <th>2</th>\n",
       "      <td>Alcsp</td>\n",
       "      <td>NaN</td>\n",
       "      <td>NaN</td>\n",
       "      <td>NaN</td>\n",
       "      <td>NaN</td>\n",
       "      <td>Coleoptera</td>\n",
       "      <td>Curculionidae</td>\n",
       "      <td>Molytinae</td>\n",
       "      <td>Mecysolobini</td>\n",
       "      <td>Alcidodes</td>\n",
       "      <td>NaN</td>\n",
       "      <td>sp.</td>\n",
       "      <td>NaN</td>\n",
       "      <td>NaN</td>\n",
       "      <td>NaN</td>\n",
       "      <td>NaN</td>\n",
       "    </tr>\n",
       "    <tr>\n",
       "      <th>3</th>\n",
       "      <td>Ale</td>\n",
       "      <td>NaN</td>\n",
       "      <td>NaN</td>\n",
       "      <td>NaN</td>\n",
       "      <td>NaN</td>\n",
       "      <td>Hymenoptera</td>\n",
       "      <td>Braconidae</td>\n",
       "      <td>Rogadinae</td>\n",
       "      <td>NaN</td>\n",
       "      <td>Aleiodes</td>\n",
       "      <td>NaN</td>\n",
       "      <td>sp.</td>\n",
       "      <td>NaN</td>\n",
       "      <td>NaN</td>\n",
       "      <td>NaN</td>\n",
       "      <td>NaN</td>\n",
       "    </tr>\n",
       "    <tr>\n",
       "      <th>4</th>\n",
       "      <td>alti</td>\n",
       "      <td>NaN</td>\n",
       "      <td>NaN</td>\n",
       "      <td>NaN</td>\n",
       "      <td>NaN</td>\n",
       "      <td>Coleoptera</td>\n",
       "      <td>Chrysomelidae</td>\n",
       "      <td>Alticiniae</td>\n",
       "      <td>NaN</td>\n",
       "      <td>NaN</td>\n",
       "      <td>NaN</td>\n",
       "      <td>NaN</td>\n",
       "      <td>NaN</td>\n",
       "      <td>NaN</td>\n",
       "      <td>NaN</td>\n",
       "      <td>NaN</td>\n",
       "    </tr>\n",
       "  </tbody>\n",
       "</table>\n",
       "</div>"
      ],
      "text/plain": [
       "      ID Image code1 image code 2 image code 3 image code 4        ORDER  \\\n",
       "0    Aga         NaN          NaN          NaN          NaN  Hymenoptera   \n",
       "1   agat         NaN          NaN          NaN          NaN  Hymenoptera   \n",
       "2  Alcsp         NaN          NaN          NaN          NaN   Coleoptera   \n",
       "3    Ale         NaN          NaN          NaN          NaN  Hymenoptera   \n",
       "4   alti         NaN          NaN          NaN          NaN   Coleoptera   \n",
       "\n",
       "          FAMILY    SUBFAMILY         TRIBE      GENUS SUBGENUS SPECIES  \\\n",
       "0     Braconidae  Agathidinae           NaN    Agathis      NaN     sp.   \n",
       "1     Braconidae  Agathidinae           NaN        NaN      NaN     NaN   \n",
       "2  Curculionidae    Molytinae  Mecysolobini  Alcidodes      NaN     sp.   \n",
       "3     Braconidae    Rogadinae           NaN   Aleiodes      NaN     sp.   \n",
       "4  Chrysomelidae   Alticiniae           NaN        NaN      NaN     NaN   \n",
       "\n",
       "  images and data entered in Access tables? coll. # Unnamed: 14 Unnamed: 15  \n",
       "0                                       NaN     NaN         NaN         NaN  \n",
       "1                                       NaN     NaN         NaN         NaN  \n",
       "2                                       NaN     NaN         NaN         NaN  \n",
       "3                                       NaN     NaN         NaN         NaN  \n",
       "4                                       NaN     NaN         NaN         NaN  "
      ]
     },
     "execution_count": 46,
     "metadata": {},
     "output_type": "execute_result"
    }
   ],
   "source": [
    "insects_df=pd.read_excel('Insect codes with names.xls')\n",
    "insects_df.head()"
   ]
  },
  {
   "cell_type": "code",
   "execution_count": 47,
   "id": "4faea424-75f3-45af-a51b-d36430dc9748",
   "metadata": {
    "tags": []
   },
   "outputs": [
    {
     "name": "stdout",
     "output_type": "stream",
     "text": [
      "595 insects records\n"
     ]
    }
   ],
   "source": [
    "# Insect records are 595 with no duplicates\n",
    "print(f\"{insects.shape[0]} insects records\")"
   ]
  },
  {
   "cell_type": "markdown",
   "id": "0745ad00-40c4-47f5-8d84-5ff5bf83dd0e",
   "metadata": {},
   "source": [
    "# Insects codes from master file \n",
    "1. Lepidoptera Colum"
   ]
  },
  {
   "cell_type": "code",
   "execution_count": 48,
   "id": "6c9c3534-0665-4748-9ff1-7be0c3d42e0f",
   "metadata": {
    "tags": []
   },
   "outputs": [
    {
     "data": {
      "text/plain": [
       "80"
      ]
     },
     "execution_count": 48,
     "metadata": {},
     "output_type": "execute_result"
    }
   ],
   "source": [
    "lep=list(df['lep species codes'])\n",
    "lep_list=[]\n",
    "for i in lep:\n",
    "    if ',' in str(i):\n",
    "        y= i.split(\",\")\n",
    "        for v in y:\n",
    "            lep_list.append(v)\n",
    "    elif str(i)=='nan':\n",
    "        pass\n",
    "    else:\n",
    "        lep_list.append(i)\n",
    "lep_set=set(lep_list)\n",
    "len(set(lep_list))"
   ]
  },
  {
   "cell_type": "markdown",
   "id": "72454a72-24b8-4e74-8b89-c83698dd6f44",
   "metadata": {},
   "source": [
    "Coleoptera"
   ]
  },
  {
   "cell_type": "code",
   "execution_count": 49,
   "id": "8212ec87-b287-4528-9b5a-5404f3b2e6bd",
   "metadata": {
    "tags": []
   },
   "outputs": [
    {
     "data": {
      "text/plain": [
       "28"
      ]
     },
     "execution_count": 49,
     "metadata": {},
     "output_type": "execute_result"
    }
   ],
   "source": [
    "#Coleoptera\n",
    "col=list(df['Coleoptera species codes'])\n",
    "col_list=[]\n",
    "for i in col:\n",
    "    if ',' in str(i):\n",
    "        y= i.split(\",\")\n",
    "        for v in y:\n",
    "            col_list.append(v)\n",
    "    elif str(i)=='nan':\n",
    "        pass\n",
    "    else:\n",
    "        col_list.append(i)\n",
    "col_set=set(col_list)\n",
    "len(set(col_list))"
   ]
  },
  {
   "cell_type": "code",
   "execution_count": 50,
   "id": "a3f4b980-e00c-4490-a083-a94ec48044fc",
   "metadata": {
    "tags": []
   },
   "outputs": [
    {
     "data": {
      "text/plain": [
       "47"
      ]
     },
     "execution_count": 50,
     "metadata": {},
     "output_type": "execute_result"
    }
   ],
   "source": [
    "len(col_list)"
   ]
  },
  {
   "cell_type": "markdown",
   "id": "e8cdbe80-3025-468e-b112-c3f77b0778db",
   "metadata": {},
   "source": [
    "# Hymenoptera opiine codes"
   ]
  },
  {
   "cell_type": "code",
   "execution_count": 51,
   "id": "b49c7e5b-da9a-4ab9-afc2-90e2f894039d",
   "metadata": {
    "tags": []
   },
   "outputs": [
    {
     "data": {
      "text/plain": [
       "31"
      ]
     },
     "execution_count": 51,
     "metadata": {},
     "output_type": "execute_result"
    }
   ],
   "source": [
    "# Hymenoptera opiine codes\n",
    "Hym_opine=list(df['Hymenoptera opiine codes'])\n",
    "Hym_opine_list=[]\n",
    "for i in Hym_opine:\n",
    "    if ',' in str(i):\n",
    "        y= i.split(\",\")\n",
    "        for v in y:\n",
    "            Hym_opine_list.append(v)\n",
    "    elif str(i)=='nan':\n",
    "        pass\n",
    "    else:\n",
    "        Hym_opine_list.append(i)\n",
    "Hym_opiine_set=set(Hym_opine_list)\n",
    "len(Hym_opiine_set)"
   ]
  },
  {
   "cell_type": "markdown",
   "id": "885b4c10-d99b-423d-9af5-370505c45ba0",
   "metadata": {},
   "source": [
    "Hymenoptera non opiine codes\n"
   ]
  },
  {
   "cell_type": "code",
   "execution_count": 52,
   "id": "93a25d09-5685-47cb-aee5-5c8265699f6b",
   "metadata": {
    "tags": []
   },
   "outputs": [
    {
     "data": {
      "text/plain": [
       "158"
      ]
     },
     "execution_count": 52,
     "metadata": {},
     "output_type": "execute_result"
    }
   ],
   "source": [
    "# Hymenoptera non opiine codes\n",
    "hym_nonopiine=list(df['Hymenoptera non-opiine codes'])\n",
    "hym_nonopiine_list=[]\n",
    "for i in hym_nonopiine:\n",
    "    if ',' in str(i):\n",
    "        y= i.split(\",\")\n",
    "        for v in y:\n",
    "            hym_nonopiine_list.append(v)\n",
    "    elif str(i)=='nan':\n",
    "        pass\n",
    "    else:\n",
    "        hym_nonopiine_list.append(i)\n",
    "hym_nonopiine_set=set(hym_nonopiine_list)\n",
    "len(set(hym_nonopiine_set))"
   ]
  },
  {
   "cell_type": "code",
   "execution_count": 53,
   "id": "00d0fd93-2570-4ce7-b92c-9128111a3896",
   "metadata": {
    "tags": []
   },
   "outputs": [],
   "source": [
    "# # ALTER TABLE \n",
    "# ADD CONSTRAINT plants_genus_id_fkey FOREIGN KEY (genus_id)\n",
    "# REFERENCES plant_genera(id);\n",
    "# ALTER TABLE\n"
   ]
  },
  {
   "cell_type": "markdown",
   "id": "bb87970b-5848-4843-a79c-7095efe564b0",
   "metadata": {},
   "source": [
    "non-tephritid Diptera species codes\n"
   ]
  },
  {
   "cell_type": "code",
   "execution_count": 54,
   "id": "6c97c207-d882-4e80-8673-591c02ff0c4b",
   "metadata": {
    "tags": []
   },
   "outputs": [
    {
     "data": {
      "text/plain": [
       "20"
      ]
     },
     "execution_count": 54,
     "metadata": {},
     "output_type": "execute_result"
    }
   ],
   "source": [
    "non_tephritid_Diptera=list(df['non-tephritid Diptera species codes'])\n",
    "non_tephritid_Diptera_list=[]\n",
    "for i in non_tephritid_Diptera:\n",
    "    if ',' in str(i):\n",
    "        y= i.split(\",\")\n",
    "        for v in y:\n",
    "            non_tephritid_Diptera_list.append(v)\n",
    "    elif str(i)=='nan':\n",
    "        pass\n",
    "    else:\n",
    "        non_tephritid_Diptera_list.append(i)\n",
    "non_tephritid_Diptera_list_set=set(non_tephritid_Diptera_list)\n",
    "len(set(non_tephritid_Diptera_list_set))"
   ]
  },
  {
   "cell_type": "markdown",
   "id": "ecece172-57bf-465d-896e-3f29e33c4d34",
   "metadata": {},
   "source": [
    "Tephritid species codes\n"
   ]
  },
  {
   "cell_type": "code",
   "execution_count": 55,
   "id": "72b10d27-9f53-418a-8844-c2c0cf6089d6",
   "metadata": {
    "tags": []
   },
   "outputs": [
    {
     "data": {
      "text/plain": [
       "106"
      ]
     },
     "execution_count": 55,
     "metadata": {},
     "output_type": "execute_result"
    }
   ],
   "source": [
    "# Tephritid species codes\n",
    "tephritid=list(df['Tephritid species codes'])\n",
    "tephritid_list=[]\n",
    "for i in tephritid:\n",
    "    if ',' in str(i):\n",
    "        y= i.split(\",\")\n",
    "        for v in y:\n",
    "            tephritid_list.append(v)\n",
    "    elif str(i)=='nan':\n",
    "        pass\n",
    "    else:\n",
    "        tephritid_list.append(i)\n",
    "tephritid_set=set(tephritid_list)\n",
    "len(set(tephritid_set))\n"
   ]
  },
  {
   "cell_type": "markdown",
   "id": "e2ea281a-2c86-4296-a933-e96311e6f673",
   "metadata": {},
   "source": [
    "# all insects codes"
   ]
  },
  {
   "cell_type": "code",
   "execution_count": 56,
   "id": "1623c82b-53d4-4a53-ba02-e743607466d1",
   "metadata": {
    "tags": []
   },
   "outputs": [
    {
     "data": {
      "text/plain": [
       "1605"
      ]
     },
     "execution_count": 56,
     "metadata": {},
     "output_type": "execute_result"
    }
   ],
   "source": [
    "all_insects_1=tephritid_list+non_tephritid_Diptera_list+hym_nonopiine_list+hym_nonopiine_list+lep_list+col_list\n",
    "len(all_insects_1)\n"
   ]
  },
  {
   "cell_type": "code",
   "execution_count": 57,
   "id": "9942badb-d7c0-4f4e-9a06-7df41953972e",
   "metadata": {
    "tags": []
   },
   "outputs": [
    {
     "data": {
      "text/plain": [
       "423"
      ]
     },
     "execution_count": 57,
     "metadata": {},
     "output_type": "execute_result"
    }
   ],
   "source": [
    "all_insects=list(lep_set)+list(col_set)+list(Hym_opiine_set)+ list(hym_nonopiine_set)+list(non_tephritid_Diptera_list_set)+list(tephritid_set)\n",
    "len(all_insects)"
   ]
  },
  {
   "cell_type": "code",
   "execution_count": 58,
   "id": "5523b566-d183-415e-ab60-e9bb6cf5ce96",
   "metadata": {
    "tags": []
   },
   "outputs": [
    {
     "name": "stdout",
     "output_type": "stream",
     "text": [
      "375 insect records has associated plant records\n",
      "48 insect records has no associated plant records\n"
     ]
    }
   ],
   "source": [
    "#check insects table only and insevts all\n",
    "insects_table_only=insects['ID'].to_list()\n",
    "insects_table_only\n",
    "all_insects\n",
    "insects_not_found_in_insects_table=[]\n",
    "insects_found_in_insects_table=[]\n",
    "\n",
    "for i in all_insects:\n",
    "    if i not in insects_table_only:\n",
    "        # print(i)\n",
    "        insects_not_found_in_insects_table.append(i)\n",
    "    else:\n",
    "        insects_found_in_insects_table.append(i)\n",
    "print(f'{len(insects_found_in_insects_table)} insect records has associated plant records')\n",
    "print(f'{len(insects_not_found_in_insects_table)} insect records has no associated plant records')"
   ]
  },
  {
   "cell_type": "code",
   "execution_count": 59,
   "id": "b8b0fad7-e89e-4f5f-bd00-feb38f55203d",
   "metadata": {
    "tags": []
   },
   "outputs": [
    {
     "data": {
      "text/plain": [
       "(190, 16)"
      ]
     },
     "execution_count": 59,
     "metadata": {},
     "output_type": "execute_result"
    }
   ],
   "source": [
    "mask=insects['images and data entered in Access tables?']=='y'\n",
    "ins=insects[mask]\n",
    "ins.shape"
   ]
  },
  {
   "cell_type": "code",
   "execution_count": 60,
   "id": "4f10bf9a-32fe-42a7-906a-e447bf6c26d6",
   "metadata": {
    "tags": []
   },
   "outputs": [
    {
     "data": {
      "text/plain": [
       "['Hymenoptera', 'Coleoptera', 'Lepidoptera', 'Diptera', nan]"
      ]
     },
     "execution_count": 60,
     "metadata": {},
     "output_type": "execute_result"
    }
   ],
   "source": [
    "order=list(insects[\"ORDER\"].unique())\n",
    "order"
   ]
  },
  {
   "cell_type": "code",
   "execution_count": 61,
   "id": "96204bf3-934c-4fd0-926c-a74a2e59078f",
   "metadata": {
    "tags": []
   },
   "outputs": [],
   "source": [
    "# df=pd.DataFrame()\n",
    "# # df['insects']=all_insects\n",
    "# df['all_insects']=all_insects_1\n",
    "# df.head()\n",
    "# df.value_counts()"
   ]
  },
  {
   "cell_type": "markdown",
   "id": "243c5f03-38e6-41ea-bdd1-d03ab4c1bb6e",
   "metadata": {},
   "source": [
    "# Insect Order"
   ]
  },
  {
   "cell_type": "code",
   "execution_count": 62,
   "id": "2f2b0fe7-c4ec-4f3b-a550-9fd6314719f4",
   "metadata": {
    "tags": []
   },
   "outputs": [],
   "source": [
    "g=insects[\"ID\"]\n",
    "index=0\n",
    "for i in g:\n",
    "    pass\n",
    "\n",
    "with open('insect_orders.sql','w') as myfile:\n",
    "    myfile.write(\"INSERT INTO insect_orders(order_name)\" + \"\\n\"+\"VALUES \"+\"\\n\")\n",
    "\n",
    "    for i in range(0,len(order)):\n",
    "        if i!=len(order)-1:\n",
    "            myfile.write(\"    \"+ \"(\"+\"'\"+str(order[i]) + \"'\"+\")\"+ \",\"+\"\\n\")\n",
    "            # i+=1\n",
    "        else:\n",
    "            myfile.write(\"    \"+\"(\"+ \"'\"+str(order[i]) + \"'\"+\")\"+\"\\n\")\n",
    "\n",
    "    myfile.write(\"RETURNING *;\")"
   ]
  },
  {
   "cell_type": "code",
   "execution_count": null,
   "id": "d9ac0d82-25f8-4adc-9e32-6c2c604ccfe9",
   "metadata": {},
   "outputs": [],
   "source": []
  },
  {
   "cell_type": "markdown",
   "id": "8caca8d7-8448-4fea-99a1-6913ed1bc290",
   "metadata": {},
   "source": [
    "# Insect families"
   ]
  },
  {
   "cell_type": "code",
   "execution_count": 63,
   "id": "2fa598f7-8d76-4df9-990a-7dff4a206bf6",
   "metadata": {
    "tags": []
   },
   "outputs": [],
   "source": [
    "order_all=list(insects['ORDER'])\n",
    "family_all=list(insects['FAMILY'])\n",
    "insect_order=list(insects[\"ORDER\"].unique())\n",
    "insect_families=list(insects['FAMILY'].unique())\n",
    "insect_families\n",
    "\n",
    "with open('insect_families.sql','w') as myfile:\n",
    "    myfile.write(\"INSERT INTO insect_families(family_name)\" + \"\\n\"+\"VALUES \"+\"\\n\")\n",
    "    for index, value in enumerate(insect_families):\n",
    "        #get the index of the row in file\n",
    "        row_id=family_all.index(value)\n",
    "        # get corresponding order name of insect in the row_id\n",
    "        order=order_all[row_id]\n",
    "        # get the id of the order in the oder list\n",
    "        order_id=insect_order.index(order)+1\n",
    "        # print(family_id)\n",
    "        if index!=len(insect_families)-1:\n",
    "            myfile.write(\"    \"+\"(\"+  \"'\"+str(value) + \"'\"+\")\"+ \",\"+\"\\n\")       \n",
    "        else:\n",
    "            myfile.write(\"    \"+\"(\"+ \"'\"+ str(value) + \"'\" +\")\"+\"\\n\")\n",
    "\n",
    "    myfile.write(\"RETURNING *;\")"
   ]
  },
  {
   "cell_type": "markdown",
   "id": "1d1c9844-a20c-4231-9411-40d642ed3996",
   "metadata": {},
   "source": [
    "# subfamily"
   ]
  },
  {
   "cell_type": "code",
   "execution_count": 64,
   "id": "dd04aad3-bcc8-4f83-98a5-8eb336705e0a",
   "metadata": {
    "tags": []
   },
   "outputs": [],
   "source": [
    "family_all=list(insects['FAMILY'])\n",
    "sub_family_all=list(insects['SUBFAMILY'])\n",
    "insect_families=list(insects[\"FAMILY\"].unique())\n",
    "insect_sub_families=list(insects['SUBFAMILY'].unique())\n",
    "insect_sub_families\n",
    "# unique_list=[]\n",
    "with open('insect_sub_families.sql','w') as myfile:\n",
    "    myfile.write(\"INSERT INTO insect_sub_families(sub_family_name)\" + \"\\n\"+\"VALUES \"+\"\\n\")\n",
    "    for index, value in enumerate(insect_sub_families):\n",
    "        #get the index of the row in file\n",
    "        row_id=sub_family_all.index(value)\n",
    "        # get corresponding order name of insect in the row_id\n",
    "        family=family_all[row_id]\n",
    "        # get the id of the order in the oder list\n",
    "        family_id=insect_families.index(family)+1\n",
    "        if index!=len(insect_sub_families)-1:\n",
    "            myfile.write(\"    \"+\"(\" + \"'\"+str(value) + \"'\"+\")\"+ \",\"+\"\\n\")  \n",
    "            # unique_list.append(unique)\n",
    "        else:\n",
    "            myfile.write(\"    \"+\"(\" + \"'\"+ str(value) + \"'\" +\")\"+\"\\n\")\n",
    "            # unique_list.append(unique)\n",
    "\n",
    "    myfile.write(\"RETURNING *;\")"
   ]
  },
  {
   "cell_type": "markdown",
   "id": "6a0ba934-f42a-41b1-b3cb-ebbff0751c98",
   "metadata": {},
   "source": [
    "# insect genera"
   ]
  },
  {
   "cell_type": "code",
   "execution_count": 65,
   "id": "02efcb6e-391b-4149-8bb3-846034bcbfb3",
   "metadata": {
    "tags": []
   },
   "outputs": [],
   "source": [
    "sub_family_all=list(insects['SUBFAMILY'])\n",
    "genus_all=list(insects['GENUS'])\n",
    "insect_sub_families=list(insects[\"SUBFAMILY\"].unique())\n",
    "insect_genera=list(insects['GENUS'].unique())\n",
    "insect_genera\n",
    "\n",
    "with open('insect_genera.sql','w') as myfile:\n",
    "    myfile.write(\"INSERT INTO insect_genera(genus_name)\" + \"\\n\"+\"VALUES \"+\"\\n\")\n",
    "    for index, value in enumerate(insect_genera):\n",
    "        #get the index of the row in file\n",
    "        row_id=genus_all.index(value)\n",
    "        # get corresponding order name of insect in the row_id\n",
    "        sub_family=sub_family_all[row_id]\n",
    "        # get the id of the order in the oder list\n",
    "        sub_family_id=insect_sub_families.index(sub_family)+1\n",
    "        # print(family_id)\n",
    "        if index!=len(insect_genera)-1:\n",
    "            myfile.write(\"    \"+\"(\"+ \"'\"+str(value) + \"'\"+\")\"+ \",\"+\"\\n\")       \n",
    "        else:\n",
    "            myfile.write(\"    \"+\"(\"+ \"'\"+ str(value) + \"'\"+\")\"+\"\\n\")\n",
    "\n",
    "    myfile.write(\"RETURNING *;\")"
   ]
  },
  {
   "cell_type": "markdown",
   "id": "0831d6b5-240f-4023-8dbf-1d8d2867b872",
   "metadata": {
    "tags": []
   },
   "source": [
    "# Insect species"
   ]
  },
  {
   "cell_type": "code",
   "execution_count": 66,
   "id": "936e47c7-a794-44d8-bcb0-c06505c4a80e",
   "metadata": {
    "tags": []
   },
   "outputs": [],
   "source": [
    "insects_all=list(insects['SPECIES'])\n",
    "photos=pd.read_excel(\"../Project-data/insect codes and image numbers.xls\")\n",
    "unique=list(insects['ID'])"
   ]
  },
  {
   "cell_type": "code",
   "execution_count": 67,
   "id": "00c74978-c8bc-4133-8d1d-e003bd0ce0c0",
   "metadata": {
    "tags": []
   },
   "outputs": [],
   "source": [
    "insect_photos=list(photos['taxon code'])\n",
    "sex_list=list(photos['sex in photo'])\n",
    "photo_name=list(photos['photo number'])\n",
    "for i in insect_photos:\n",
    "    if i in insects_all:\n",
    "        print(i)"
   ]
  },
  {
   "cell_type": "code",
   "execution_count": null,
   "id": "92a19ed5-1ffd-4d8d-afc3-d7031df1925c",
   "metadata": {},
   "outputs": [],
   "source": []
  },
  {
   "cell_type": "markdown",
   "id": "1743cc7d-607c-4f16-b79b-0209c6ae86f4",
   "metadata": {},
   "source": [
    "# Insect photos"
   ]
  },
  {
   "cell_type": "code",
   "execution_count": 68,
   "id": "1dec315d-f2a1-43bf-abc4-7c5e56ef45f1",
   "metadata": {
    "tags": []
   },
   "outputs": [],
   "source": [
    "insect_photos=list(photos['taxon code'])\n",
    "\n",
    "## REmove duplicate names\n",
    "with open('insect_photos.sql','w') as myfile:\n",
    "    myfile.write(\"INSERT INTO insect_photos(insect_id, photo_id,sex)\" + \"\\n\"+\"VALUES \"+\"\\n\")\n",
    "    for index, value in enumerate(insect_photos):\n",
    "        if value in unique:\n",
    "            # print(value) \n",
    "            # print(value)       \n",
    "            #get the index of the row in file\n",
    "            # row_id=insect_photos.index(value)\n",
    "            taxon=insect_photos[index]\n",
    "            photo=photo_name[index]\n",
    "            taxon_id=unique.index(taxon)+1\n",
    "            sex=sex_list[index]\n",
    "            if index!=len(insect_photos)-1:\n",
    "                myfile.write(f\"    ({str(taxon_id)},'{str(photo)}','{sex}'),\\n\")       \n",
    "                    # myfile.write(\"    \"+\"(\"+str(index+1)+ \",\" + \"'\"+ value + \"'\" +\",\"+\"'\"+str(leaf_typ)+\"'\"+\",\"+\"'\"+str(descrip)+\"'\"+\",\"+\"'\"+ str(max_latitude)+\"'\"+\",\"+\"'\"+str(min_latitude)+\"'\"+\",\"+str(genus_id)+\")\"+ \",\"+\"\\n\")       \n",
    "\n",
    "            else:\n",
    "                myfile.write(f\"    ({str(taxon_id+1)},'{str(photo)}','{sex}')\\n\")       \n",
    "            # myfile.write(\"    \"+\"(\"+str(index+1)+ \",\" + \"'\"+ value + \"'\" +\",\"+\"'\"+str(leaf_typ)+\"'\"+\"'\"+str(descrip)+\"'\"+\"'\"+str(max_latitude)+\"'\"+\"'\"+str(min_latitude)+\"'\"+\",\"+str(genus_id)+\")\"+\"\\n\")       \n",
    "    myfile.write(\"RETURNING *;\")\n",
    "    # else:\n",
    "    #         pass\n",
    "    #     # print(i)"
   ]
  },
  {
   "cell_type": "markdown",
   "id": "8f8cb6e3-2f98-4d27-a893-7aab7c103e6e",
   "metadata": {},
   "source": [
    "# Insects table"
   ]
  },
  {
   "cell_type": "code",
   "execution_count": 69,
   "id": "9cc108ad-a43e-4940-8275-a17367b412ba",
   "metadata": {
    "tags": []
   },
   "outputs": [],
   "source": [
    "## REmove duplicate names\n",
    "with open('insects.sql','w') as myfile:\n",
    "    myfile.write(\"INSERT INTO insects(unique_code,species_name,genus_id,sub_family_id,family_id,order_id)\" + \"\\n\"+\"VALUES \"+\"\\n\")\n",
    "    for index, value in enumerate(insects_all):\n",
    "        # print(value)       \n",
    "        #get the index of the row in file\n",
    "        row_id=insects_all.index(value)\n",
    "        # print(row_id)\n",
    "        species=insects_all[index]\n",
    "        # print(species)\n",
    "        genus_name=genus_all[index]\n",
    "        # print(genus_name)\n",
    "        #get the id of the genus from genus list\n",
    "        genus_id=insect_genera.index(genus_name)+1\n",
    "        # print(genus_id)\n",
    "        #get family id\n",
    "        family_name=family_all[index]\n",
    "        family_id=insect_families.index(family_name)+1\n",
    "        # print(f\" family id {family_id}\")\n",
    "        # get sub_family_id\n",
    "        sub_family=sub_family_all[index]\n",
    "        sub_family_id=insect_sub_families.index(sub_family)+1\n",
    "        # print(f\" sub family id {sub_family_id}\")\n",
    "        # get order id\n",
    "        order_name=order_all[index]\n",
    "        order_id=insect_order.index(order_name)+1\n",
    "        unique_code=unique[index]\n",
    "        # get sex of the insect\n",
    "        sex=\"male\"\n",
    "        #print(genus_id)\n",
    "        # # get the id of the family in the families list\n",
    "        #print(descrip)\n",
    "\n",
    "        if index!=len(insects_all)-1:\n",
    "            myfile.write(f\"    ('{str(unique_code)}','{value}',{str(genus_id)},{sub_family_id},{str(family_id)},{str(order_id)}),\\n\")       \n",
    "                # myfile.write(\"    \"+\"(\"+str(index+1)+ \",\" + \"'\"+ value + \"'\" +\",\"+\"'\"+str(leaf_typ)+\"'\"+\",\"+\"'\"+str(descrip)+\"'\"+\",\"+\"'\"+ str(max_latitude)+\"'\"+\",\"+\"'\"+str(min_latitude)+\"'\"+\",\"+str(genus_id)+\")\"+ \",\"+\"\\n\")       \n",
    "\n",
    "        else:\n",
    "            myfile.write(f\"    ('{str(unique_code)}','{value}',{str(genus_id)},{sub_family_id},{str(family_id)},{str(order_id)})\\n\")       \n",
    "\n",
    "            # myfile.write(\"    \"+\"(\"+str(index+1)+ \",\" + \"'\"+ value + \"'\" +\",\"+\"'\"+str(leaf_typ)+\"'\"+\"'\"+str(descrip)+\"'\"+\"'\"+str(max_latitude)+\"'\"+\"'\"+str(min_latitude)+\"'\"+\",\"+str(genus_id)+\")\"+\"\\n\")       \n",
    "\n",
    "\n",
    "    myfile.write(\"RETURNING *;\")\n"
   ]
  },
  {
   "cell_type": "code",
   "execution_count": 70,
   "id": "be4bb43d-feea-4f90-afb9-cfd7505e28ae",
   "metadata": {
    "tags": []
   },
   "outputs": [
    {
     "data": {
      "text/plain": [
       "476"
      ]
     },
     "execution_count": 70,
     "metadata": {},
     "output_type": "execute_result"
    }
   ],
   "source": [
    "unique.index(\"t\")"
   ]
  },
  {
   "cell_type": "markdown",
   "id": "2f1009d5-3368-4acb-9908-7cd4e5fdffa4",
   "metadata": {
    "tags": []
   },
   "source": [
    "# plants and insects table"
   ]
  },
  {
   "cell_type": "code",
   "execution_count": 71,
   "id": "72aa0043-f8f0-4489-a3a2-3d54f3d1db36",
   "metadata": {
    "tags": []
   },
   "outputs": [],
   "source": [
    "# use plat table to extrat the codes\n",
    "lep=list(df['lep species codes'])\n",
    "cole=list(df['Coleoptera species codes'])\n",
    "hym_opiinae=list(df['Hymenoptera opiine codes'])\n",
    "hym_non_opinae=list(df['Hymenoptera non-opiine codes'])\n",
    "dip_non_tephritidae=list(df['non-tephritid Diptera species codes'])\n",
    "dip_tephritidae=list(df['Tephritid species codes'])\n",
    "plant_insect=[]\n",
    "# use codes for index\n",
    "for key,value in enumerate(lep):\n",
    "    hym_opi=hym_opiinae[key]\n",
    "    co=cole[key]\n",
    "    dip_non_teph=dip_non_tephritidae[key]\n",
    "    dip_teph=dip_tephritidae[key]\n",
    "    hym_non_opi=hym_non_opinae[key]\n",
    "    all_insects=f\"{value},{hym_opi},{co},{dip_non_teph},{dip_teph},{hym_non_opi}\"\n",
    "    plant_insect.append(all_insects)\n",
    "    # print(all_insects)\n",
    "    # print(key)\n",
    "# plant_insect"
   ]
  },
  {
   "cell_type": "markdown",
   "id": "1786d0d3-b7ac-4eb7-8fd4-c742ae0659f9",
   "metadata": {},
   "source": []
  },
  {
   "cell_type": "code",
   "execution_count": 72,
   "id": "23632461-3178-4fd1-8073-6bc9cfb228d1",
   "metadata": {
    "tags": []
   },
   "outputs": [],
   "source": [
    "species_all=df['species name'].to_list()\n",
    "# Lepidoptera species\n",
    "plant_insect=plant_insect\n",
    "\n",
    "# lep_list=[]\n",
    "# for i in lep:\n",
    "#     if ',' in str(i):\n",
    "#         y= i.split(\",\")\n",
    "#         for v in y:\n",
    "#             lep_list.append(v)\n",
    "#     elif str(i)=='nan':\n",
    "#         # print(i)\n",
    "#         pass\n",
    "#     else:\n",
    "#         lep_list.append(i)\n",
    "\n",
    "unique=list(insects['ID'])       \n",
    "with open('plants_insects.sql','w') as myfile:\n",
    "    myfile.write(\"INSERT INTO plants_insects(plant_id,insect_id)\" + \"\\n\"+\"VALUES \"+\"\\n\")\n",
    "    for i in range(0,len(species_all)):\n",
    "        if i!=len(species_all)-1:\n",
    "            insect=str(plant_insect[i])\n",
    "            if ',' in str(insect):\n",
    "                # print(col)\n",
    "                b=str(insect).split(\",\")\n",
    "                v=0\n",
    "                for j in b:\n",
    "                    if j not in unique:\n",
    "                        pass\n",
    "                    elif type(j)==float:\n",
    "                        # i+=1\n",
    "                        # print(j)\n",
    "                        pass\n",
    "                    elif str(j)=='nan':\n",
    "                        pass\n",
    "                    else:                         \n",
    "                        # print(j)\n",
    "                        plant_id=i+1\n",
    "                        # print(plant_id)\n",
    "                        s_type=unique.index(j)+1\n",
    "\n",
    "                        myfile.write(\" \"+\"(\"+str(plant_id)+ \",\" +str(s_type) +\")\"+ \",\"+\"\\n\")\n",
    "                        \n",
    "               \n",
    "\n",
    "            else:\n",
    "                if str(insect)!='nan':\n",
    "                    # print(insect)\n",
    "                    plant_id=i+1\n",
    "                    if str(insect) not in unique:\n",
    "                        pass\n",
    "                    else:\n",
    "                        print(i)\n",
    "                        # print(unique.index(col))\n",
    "                        myfile.write(\" \"+\"(\"+str(i+1)+ \",\" +str(unique.index(insect)) +\")\"+ \",\"+\"\\n\")\n",
    "\n",
    "\n",
    "\n",
    "        else:\n",
    "            insect=str(plant_insect[i])\n",
    "            if str(insect) not in unique:\n",
    "                pass\n",
    "            elif ',' in str(insect):\n",
    "                print(insect)\n",
    "                # print(col)\n",
    "                b=insect.split(\",\")\n",
    "                v=0\n",
    "                for j in b:\n",
    "                    plant_id=i+1\n",
    "                    s_type=unique.index(j)+1\n",
    "\n",
    "                    myfile.write(\" \"+\"(\"+str(plant_id)+ \",\" +str(s_type) +\")\"+\"\\n\")\n",
    "                # i+=1\n",
    "\n",
    "           \n",
    "            else:\n",
    "                plant_id=i+1\n",
    "                s_type=unique.index(insect)+1\n",
    "\n",
    "                myfile.write(\" \"+\"(\"+str(plant_id)+ \",\"  +str(s_type) +\")\"+\"\\n\")\n",
    "\n",
    "\n",
    "    myfile.write(\"RETURNING *;\")\n"
   ]
  },
  {
   "cell_type": "code",
   "execution_count": 73,
   "id": "25ded7b6-1067-4419-973f-6decaba6ef81",
   "metadata": {
    "tags": []
   },
   "outputs": [],
   "source": [
    "# lep=list(df['lep species codes'])\n",
    "# col=list(df['Coleoptera species codes'])\n",
    "# hym_opiinae=list(df['Hymenoptera opiine codes'])\n",
    "# hym_non_opinae=list(df['Hymenoptera non-opiine codes'])\n",
    "# dip_non_tephritidae=list(df['non-tephritid Diptera species codes'])\n",
    "# dip_tephritidae=list(df['Tephritid species codes'])\n",
    "# plant_insect=[]\n",
    "# for key,value in enumerate(lep):\n",
    "#     hym_opi=hym_opiinae[key]\n",
    "#     co=col[key]\n",
    "#     dip_non_teph=dip_non_tephritidae[key]\n",
    "#     dip_teph=dip_tephritidae[key]\n",
    "#     hym_non_opi=hym_non_opinae[key]\n",
    "#     all_insects=f\"{value},{hym_opi},{co},{dip_non_teph},{dip_teph},{hym_non_opi}\"\n",
    "#     plant_insect.append(all_insects)\n",
    "#     # print(type(all_insects))\n",
    "# # plant_insect"
   ]
  },
  {
   "cell_type": "markdown",
   "id": "5c21d222-eba3-4d93-9e41-6de26f886735",
   "metadata": {},
   "source": [
    "# Insect Regions"
   ]
  },
  {
   "cell_type": "code",
   "execution_count": 74,
   "id": "52ad20b5-4e70-4ade-8f64-9a5ca8948fd7",
   "metadata": {
    "tags": []
   },
   "outputs": [],
   "source": [
    "regions_all=pd.read_excel(\"../Project-data/Insects Geographical Distribution.xls\")\n",
    "# regions_all.head()\n",
    "# Regions of collection of plants from the master excel file and insect distributions\n",
    "regions = [\n",
    "    'central mid-altitude',\n",
    "    'central highlands',\n",
    "    'eastern',\n",
    "    'western mid-altitude',\n",
    "    'western highlands',\n",
    "    'rift valley',\n",
    "    'northern lowlands',\n",
    "    'coastal lowlands',\n",
    "    'eastern highlands',\n",
    "    'eastern mid-altitude',\n",
    "    'coastal highlands',\n",
    "    'western lowlands',\n",
    "    'northern highlands',\n",
    "    'northern mid-altitude',\n",
    "    'coastal'\n",
    "]\n",
    "\n",
    "\n",
    "col=list(regions_all.columns[8:])\n",
    "df_reg=regions_all[col]\n",
    "# Loop over each row and extract only values that are not NaN in 'col1'\n",
    "# regions_r=[]\n",
    "region_modified={}\n",
    "with open('insects_regions.sql','w') as myfile:\n",
    "    myfile.write(\"INSERT INTO insects_regions(insect_id,region_id)\" + \"\\n\"+\"VALUES \"+\"\\n\")\n",
    "    for index, row in df_reg.iterrows():\n",
    "        insect=regions_all['ID'][index]\n",
    "        reg=row.values\n",
    "        # print(reg)\n",
    "        if insect not in unique:\n",
    "            pass\n",
    "        else:\n",
    "            insect_id=unique.index(insect)+1\n",
    "            for k,v in enumerate(reg):\n",
    "                if str(v)=='nan':\n",
    "                    pass\n",
    "                else:\n",
    "                    region=' '.join(col[k].lower().replace('\\n',' ').split())\n",
    "                    # print(region.replace('\\n',''))\n",
    "                    region_id=regions.index(region)+1\n",
    "                    # print(insect_id)\n",
    "                    myfile.write(\" \"+\"(\"+str(insect_id)+ \",\" +str(region_id) +\"),\"+\"\\n\")\n"
   ]
  },
  {
   "cell_type": "code",
   "execution_count": 75,
   "id": "f08170a0-ec70-4ac6-a459-824f3b98c657",
   "metadata": {
    "tags": []
   },
   "outputs": [
    {
     "data": {
      "text/plain": [
       "595"
      ]
     },
     "execution_count": 75,
     "metadata": {},
     "output_type": "execute_result"
    }
   ],
   "source": [
    "len(insects_all)"
   ]
  },
  {
   "cell_type": "code",
   "execution_count": 76,
   "id": "c8f348c0-bdb1-4a6d-99c9-093ea57210a1",
   "metadata": {
    "tags": []
   },
   "outputs": [
    {
     "data": {
      "text/html": [
       "<div>\n",
       "<style scoped>\n",
       "    .dataframe tbody tr th:only-of-type {\n",
       "        vertical-align: middle;\n",
       "    }\n",
       "\n",
       "    .dataframe tbody tr th {\n",
       "        vertical-align: top;\n",
       "    }\n",
       "\n",
       "    .dataframe thead th {\n",
       "        text-align: right;\n",
       "    }\n",
       "</style>\n",
       "<table border=\"1\" class=\"dataframe\">\n",
       "  <thead>\n",
       "    <tr style=\"text-align: right;\">\n",
       "      <th></th>\n",
       "      <th>ID</th>\n",
       "      <th>ORDER</th>\n",
       "      <th>FAMILY</th>\n",
       "      <th>SUBFAMILY</th>\n",
       "      <th>TRIBE</th>\n",
       "      <th>GENUS</th>\n",
       "      <th>SUBGENUS</th>\n",
       "      <th>SPECIES</th>\n",
       "      <th>Central \\nhighlands</th>\n",
       "      <th>Central \\nmid-altitude</th>\n",
       "      <th>Coastal\\nlowlands</th>\n",
       "      <th>Eastern \\nHighlands</th>\n",
       "      <th>Eastern \\nmid-altitude</th>\n",
       "      <th>Northern \\nHighlands</th>\n",
       "      <th>Northern \\nmid-altitude</th>\n",
       "      <th>Rift\\nValley</th>\n",
       "      <th>Western \\nHighlands</th>\n",
       "      <th>Western \\nmid-altitude</th>\n",
       "    </tr>\n",
       "  </thead>\n",
       "  <tbody>\n",
       "    <tr>\n",
       "      <th>0</th>\n",
       "      <td>Alucitid1</td>\n",
       "      <td>Lepidoptera</td>\n",
       "      <td>Alucitidae</td>\n",
       "      <td>NaN</td>\n",
       "      <td>NaN</td>\n",
       "      <td>NaN</td>\n",
       "      <td>NaN</td>\n",
       "      <td>NaN</td>\n",
       "      <td>NaN</td>\n",
       "      <td>NaN</td>\n",
       "      <td>NaN</td>\n",
       "      <td>NaN</td>\n",
       "      <td>NaN</td>\n",
       "      <td>NaN</td>\n",
       "      <td>NaN</td>\n",
       "      <td>NaN</td>\n",
       "      <td>NaN</td>\n",
       "      <td>NaN</td>\n",
       "    </tr>\n",
       "    <tr>\n",
       "      <th>1</th>\n",
       "      <td>Alucitid2</td>\n",
       "      <td>Lepidoptera</td>\n",
       "      <td>Alucitidae</td>\n",
       "      <td>NaN</td>\n",
       "      <td>NaN</td>\n",
       "      <td>NaN</td>\n",
       "      <td>NaN</td>\n",
       "      <td>NaN</td>\n",
       "      <td>NaN</td>\n",
       "      <td>NaN</td>\n",
       "      <td>NaN</td>\n",
       "      <td>NaN</td>\n",
       "      <td>NaN</td>\n",
       "      <td>NaN</td>\n",
       "      <td>NaN</td>\n",
       "      <td>NaN</td>\n",
       "      <td>NaN</td>\n",
       "      <td>NaN</td>\n",
       "    </tr>\n",
       "    <tr>\n",
       "      <th>2</th>\n",
       "      <td>DanSylsp</td>\n",
       "      <td>Diptera</td>\n",
       "      <td>Anisopodidae</td>\n",
       "      <td>NaN</td>\n",
       "      <td>NaN</td>\n",
       "      <td>Sylvicola</td>\n",
       "      <td>NaN</td>\n",
       "      <td>sp.</td>\n",
       "      <td>x</td>\n",
       "      <td>NaN</td>\n",
       "      <td>NaN</td>\n",
       "      <td>NaN</td>\n",
       "      <td>NaN</td>\n",
       "      <td>NaN</td>\n",
       "      <td>NaN</td>\n",
       "      <td>NaN</td>\n",
       "      <td>NaN</td>\n",
       "      <td>NaN</td>\n",
       "    </tr>\n",
       "    <tr>\n",
       "      <th>3</th>\n",
       "      <td>Arafas</td>\n",
       "      <td>Coleoptera</td>\n",
       "      <td>Anthribidae</td>\n",
       "      <td>NaN</td>\n",
       "      <td>NaN</td>\n",
       "      <td>Araecerus</td>\n",
       "      <td>NaN</td>\n",
       "      <td>fascicularis</td>\n",
       "      <td>NaN</td>\n",
       "      <td>NaN</td>\n",
       "      <td>NaN</td>\n",
       "      <td>NaN</td>\n",
       "      <td>NaN</td>\n",
       "      <td>NaN</td>\n",
       "      <td>NaN</td>\n",
       "      <td>NaN</td>\n",
       "      <td>NaN</td>\n",
       "      <td>NaN</td>\n",
       "    </tr>\n",
       "    <tr>\n",
       "      <th>4</th>\n",
       "      <td>anthr</td>\n",
       "      <td>Coleoptera</td>\n",
       "      <td>Anthribidae</td>\n",
       "      <td>NaN</td>\n",
       "      <td>NaN</td>\n",
       "      <td>NaN</td>\n",
       "      <td>NaN</td>\n",
       "      <td>NaN</td>\n",
       "      <td>NaN</td>\n",
       "      <td>NaN</td>\n",
       "      <td>x</td>\n",
       "      <td>NaN</td>\n",
       "      <td>NaN</td>\n",
       "      <td>NaN</td>\n",
       "      <td>NaN</td>\n",
       "      <td>NaN</td>\n",
       "      <td>NaN</td>\n",
       "      <td>NaN</td>\n",
       "    </tr>\n",
       "  </tbody>\n",
       "</table>\n",
       "</div>"
      ],
      "text/plain": [
       "          ID        ORDER        FAMILY SUBFAMILY TRIBE      GENUS SUBGENUS  \\\n",
       "0  Alucitid1  Lepidoptera    Alucitidae       NaN   NaN        NaN      NaN   \n",
       "1  Alucitid2  Lepidoptera    Alucitidae       NaN   NaN        NaN      NaN   \n",
       "2   DanSylsp      Diptera  Anisopodidae       NaN   NaN  Sylvicola      NaN   \n",
       "3     Arafas   Coleoptera   Anthribidae       NaN   NaN  Araecerus      NaN   \n",
       "4      anthr   Coleoptera   Anthribidae       NaN   NaN        NaN      NaN   \n",
       "\n",
       "        SPECIES Central \\nhighlands Central \\nmid-altitude Coastal\\nlowlands  \\\n",
       "0           NaN                 NaN                    NaN               NaN   \n",
       "1           NaN                 NaN                    NaN               NaN   \n",
       "2           sp.                   x                    NaN               NaN   \n",
       "3  fascicularis                 NaN                    NaN               NaN   \n",
       "4           NaN                 NaN                    NaN                 x   \n",
       "\n",
       "  Eastern \\nHighlands Eastern \\nmid-altitude Northern \\nHighlands  \\\n",
       "0                 NaN                    NaN                  NaN   \n",
       "1                 NaN                    NaN                  NaN   \n",
       "2                 NaN                    NaN                  NaN   \n",
       "3                 NaN                    NaN                  NaN   \n",
       "4                 NaN                    NaN                  NaN   \n",
       "\n",
       "  Northern \\nmid-altitude Rift\\nValley Western \\nHighlands  \\\n",
       "0                     NaN          NaN                 NaN   \n",
       "1                     NaN          NaN                 NaN   \n",
       "2                     NaN          NaN                 NaN   \n",
       "3                     NaN          NaN                 NaN   \n",
       "4                     NaN          NaN                 NaN   \n",
       "\n",
       "  Western \\nmid-altitude  \n",
       "0                    NaN  \n",
       "1                    NaN  \n",
       "2                    NaN  \n",
       "3                    NaN  \n",
       "4                    NaN  "
      ]
     },
     "execution_count": 76,
     "metadata": {},
     "output_type": "execute_result"
    }
   ],
   "source": [
    "regions_all.head()"
   ]
  },
  {
   "cell_type": "markdown",
   "id": "5c47fa89-6923-456c-8885-1a0f76811476",
   "metadata": {},
   "source": [
    "# Stem type"
   ]
  },
  {
   "cell_type": "markdown",
   "id": "a6dfcbe7-a608-4395-a15f-6809a378a7b5",
   "metadata": {},
   "source": [
    "# Reading dataframe"
   ]
  },
  {
   "cell_type": "code",
   "execution_count": 77,
   "id": "b68b63a6-5dd8-4fb1-9fa3-42780ddfe118",
   "metadata": {
    "tags": []
   },
   "outputs": [],
   "source": [
    "# df=pd.read_excel('updated_master_file_version1.xlsx')\n",
    "df=pd.read_excel('master_file_updated_may_version1.xlsx')"
   ]
  },
  {
   "cell_type": "code",
   "execution_count": 78,
   "id": "12f2538f-cc59-4a18-af21-1f58180a04d1",
   "metadata": {
    "tags": []
   },
   "outputs": [
    {
     "data": {
      "text/plain": [
       "nan"
      ]
     },
     "execution_count": 78,
     "metadata": {},
     "output_type": "execute_result"
    }
   ],
   "source": [
    "sum(df['tree, shrub, climber, creeper, liana, herb,parasite'].str.contains(\"laian\"))"
   ]
  },
  {
   "cell_type": "code",
   "execution_count": 79,
   "id": "77993295-ceaa-4d2b-98d4-2261d28c0dfb",
   "metadata": {
    "tags": []
   },
   "outputs": [
    {
     "data": {
      "text/plain": [
       "8"
      ]
     },
     "execution_count": 79,
     "metadata": {},
     "output_type": "execute_result"
    }
   ],
   "source": [
    "stem_type_list=[]\n",
    "stem_type=list(df['tree, shrub, climber, creeper, liana, herb,parasite'])\n",
    "for i in stem_type:\n",
    "    if ',' in str(i):\n",
    "        y=i.split(\",\")\n",
    "        for v in y:\n",
    "            if v.lower()==\"laian\":\n",
    "                # print(v)\n",
    "                stem_type_list.append(\"liana\")\n",
    "            else:\n",
    "                stem_type_list.append(v.lower())\n",
    "\n",
    "                # print(v)\n",
    "            stem_type_list.append(\"liana\")\n",
    "    elif type(i) ==float:\n",
    "        # stem_type_list.append('unknown')\n",
    "        pass\n",
    "    else:\n",
    "        # if i==\"laian\":\n",
    "            # print(i)\n",
    "        stem_type_list.append(str(i).lower())\n",
    "set_stem_type_list=set(stem_type_list)\n",
    "set_stem_type_list\n",
    "list_stem_type=list(set_stem_type_list)\n",
    "len(list_stem_type)"
   ]
  },
  {
   "cell_type": "code",
   "execution_count": 80,
   "id": "f6546699-2ada-44a5-9378-902e1f5fde7d",
   "metadata": {
    "tags": []
   },
   "outputs": [
    {
     "data": {
      "text/plain": [
       "nan"
      ]
     },
     "execution_count": 80,
     "metadata": {},
     "output_type": "execute_result"
    }
   ],
   "source": [
    "sum(df['tree, shrub, climber, creeper, liana, herb,parasite'].str.contains('parasite'))"
   ]
  },
  {
   "cell_type": "code",
   "execution_count": 81,
   "id": "16be60e6-df9e-42ea-801e-eb297673ee5b",
   "metadata": {
    "tags": []
   },
   "outputs": [
    {
     "data": {
      "text/plain": [
       "['trailer', 'herb', 'creeper', 'liana', 'parasite', 'tree', 'shrub', 'climber']"
      ]
     },
     "execution_count": 81,
     "metadata": {},
     "output_type": "execute_result"
    }
   ],
   "source": [
    "list_stem_type"
   ]
  },
  {
   "cell_type": "code",
   "execution_count": 82,
   "id": "2631ab48-e2e9-4531-a7b1-3b591adbfae8",
   "metadata": {
    "tags": []
   },
   "outputs": [],
   "source": [
    "species_all=df['species name'].to_list()"
   ]
  },
  {
   "cell_type": "code",
   "execution_count": 83,
   "id": "79c2d510-019c-4f1c-85f8-93e99f43a4de",
   "metadata": {
    "tags": []
   },
   "outputs": [],
   "source": [
    "with open('shrub_climbings.sql','w') as myfile:\n",
    "    myfile.write(\"INSERT INTO shrub_climbings(id,tree_type)\" + \"\\n\"+\"VALUES \"+\"\\n\")\n",
    "\n",
    "    for i in range(0,len(list_stem_type)):\n",
    "        if i!=len(list_stem_type)-1:\n",
    "            myfile.write(\"    \"+\"(\"+str(i+1)+ \",\" + \"'\"+list_stem_type[i].strip() + \"'\"+\")\"+ \",\"+\"\\n\")\n",
    "            i+=1\n",
    "        else:\n",
    "            myfile.write(\"    \"+\"(\"+str(i+1)+ \",\" + \"'\"+list_stem_type[i].strip() + \"'\"+\")\"+\"\\n\")\n",
    "\n",
    "    myfile.write(\"RETURNING *;\")"
   ]
  },
  {
   "cell_type": "markdown",
   "id": "16dd43f9-8c0c-4e75-91bc-eb4fcd8753be",
   "metadata": {},
   "source": [
    "# Plants_shrub_climbings"
   ]
  },
  {
   "cell_type": "code",
   "execution_count": 84,
   "id": "ba97402f-4220-4cf6-922a-5e0264b93e49",
   "metadata": {
    "tags": []
   },
   "outputs": [],
   "source": [
    "stem_type=df['tree, shrub, climber, creeper, liana, herb,parasite'].to_list()\n",
    "list_stem_type=list(set_stem_type_list)\n",
    "test=[]\n",
    "v=0\n",
    "for i in range(0,len(species_all)):\n",
    "    stem=stem_type[i]\n",
    "    if ',' in str(stem):\n",
    "        b=stem.split(\",\")\n",
    "        v=0\n",
    "        for j in b:\n",
    "            # print(j)\n",
    "            plant_id=i+1\n",
    "            s_type=list_stem_type.index(j.lower())+1\n",
    "            i+=1\n",
    "            # print(plant_id)\n",
    "            # print(s_type)\n",
    "            # break \n",
    "            \n",
    "        \n",
    "    elif str(stem)=='nan':\n",
    "        plant_id=i+1\n",
    "        s_type='nan'\n",
    "        i+=1\n",
    "    else:\n",
    "        plant_id=i+1\n",
    "        stype='Unknown'\n",
    "     \n",
    "        # print(plant_id)\n",
    "        # print(s_type)\n",
    "len(test)\n",
    "# \n",
    "del stem_type"
   ]
  },
  {
   "cell_type": "code",
   "execution_count": 85,
   "id": "5407e49f-27fb-4b0e-9c90-b09a19c121f4",
   "metadata": {
    "tags": []
   },
   "outputs": [],
   "source": [
    "stem_type=df['tree, shrub, climber, creeper, liana, herb,parasite'].to_list()\n",
    "with open('plants_shrub_climbings.sql','w') as myfile:\n",
    "    myfile.write(\"INSERT INTO plants_shrub_climbings(plant_id,shrub_id)\" + \"\\n\"+\"VALUES \"+\"\\n\")\n",
    "    for i in range(0,len(species_all)):\n",
    "        if i!=len(species_all)-1:\n",
    "            stem=stem_type[i]\n",
    "            if ',' in str(stem):\n",
    "                b=stem.split(\",\")\n",
    "                v=0\n",
    "                for j in b:\n",
    "                    plant_id=i+1\n",
    "                    s_type=list_stem_type.index(j.lower())+1\n",
    "            \n",
    "                    myfile.write(\"    \"+\"(\"+str(plant_id)+ \",\" +str(s_type) +\")\"+ \",\"+\"\\n\")\n",
    "                i+=1\n",
    "        \n",
    "            elif str(stem)!='nan':\n",
    "                plant_id=i+1\n",
    "                s_type=list_stem_type.index(str(stem.lower()))+1\n",
    "                myfile.write(\"    \"+\"(\"+str(plant_id)+ \",\" +str(s_type) +\")\"+\",\"+\"\\n\")\n",
    "                i+=1\n",
    "            else:\n",
    "                pass\n",
    "#                 if str(stem)=='nan':\n",
    "#                     plant_id=i+1\n",
    "#                     s_type=list_stem_type.index('unknown')+1\n",
    "#                     myfile.write(\"    \"+\"(\"+str(plant_id)+ \",\" +str(s_type) +\")\"+\",\"+\"\\n\")\n",
    "#                     i+=1\n",
    "# #         else:\n",
    "#             if ',' in str(stem):\n",
    "#                 b=stem.split(\",\")\n",
    "#                 v=0\n",
    "#                 for j in b:\n",
    "#                     plant_id=i+1\n",
    "#                     s_type=list_stem_type.index(j.lower())+1\n",
    "            \n",
    "#                     myfile.write(\"    \"+\"(\"+str(plant_id)+ \",\" + \"'\"+str(s_type) + \"'\"+\")\"+\"\\n\")\n",
    "        else:\n",
    "            if ',' in str(stem):\n",
    "                b=stem.split(\",\")\n",
    "                v=0\n",
    "                for j in b:\n",
    "                    plant_id=i+1\n",
    "                    s_type=list_stem_type.index(j.lower())+1\n",
    "\n",
    "                    myfile.write(\"    \"+\"(\"+str(plant_id)+ \",\" +str(s_type) +\")\"+\"\\n\")\n",
    "                i+=1\n",
    "\n",
    "            # elif str(stem)=='nan':\n",
    "            #     plant_id=i+1\n",
    "            #     s_type=list_stem_type.index('unknown')+1\n",
    "            #     myfile.write(\"    \"+\"(\"+str(plant_id)+ \",\" + str(s_type) +\")\"+\"\\n\")\n",
    "            #     i+=1\n",
    "            else:\n",
    "                plant_id=i+1\n",
    "                s_type=list_stem_type.index(j.lower())+1\n",
    "\n",
    "                myfile.write(\"    \"+\"(\"+str(plant_id)+ \",\"  +str(s_type) +\")\"+\"\\n\")\n",
    "                i+=1\n",
    "\n",
    "\n",
    "    myfile.write(\"RETURNING *;\")"
   ]
  },
  {
   "cell_type": "markdown",
   "id": "a8640fe3-50a9-4926-aed3-bc58cfefdfa1",
   "metadata": {},
   "source": [
    "# Thorn, priddes or spines"
   ]
  },
  {
   "cell_type": "code",
   "execution_count": 86,
   "id": "c40485a6-4a88-46d4-99fb-fff3a9d580c4",
   "metadata": {
    "tags": []
   },
   "outputs": [
    {
     "data": {
      "text/plain": [
       "{'n', 'n,y', nan, 'y', 'y,n'}"
      ]
     },
     "execution_count": 86,
     "metadata": {},
     "output_type": "execute_result"
    }
   ],
   "source": [
    "thorns=list(df['spines, thorns, prickles or spiny leaf margins'])\n",
    "thorns_set=set(thorns)\n",
    "thorns_set"
   ]
  },
  {
   "cell_type": "code",
   "execution_count": 87,
   "id": "4015a53f-0df2-4d6b-b04a-ea42e6f4ad8b",
   "metadata": {
    "tags": []
   },
   "outputs": [
    {
     "data": {
      "text/plain": [
       "3"
      ]
     },
     "execution_count": 87,
     "metadata": {},
     "output_type": "execute_result"
    }
   ],
   "source": [
    "spine_type_list=[]\n",
    "spine_type=list(df['spines, thorns, prickles or spiny leaf margins'])\n",
    "for i in spine_type:\n",
    "    if ',' in str(i):\n",
    "        y=i.split(\",\")\n",
    "        for v in y:\n",
    "            spine_type_list.append(v.lower())\n",
    "    elif type(i) ==float:\n",
    "        spine_type_list.append('unknown')\n",
    "    else:\n",
    "            spine_type_list.append(str(i).lower())\n",
    "set_spine_type_list=set(spine_type_list)\n",
    "set_spine_type_list\n",
    "list_spine_type=list(set_spine_type_list)\n",
    "len(list_spine_type)"
   ]
  },
  {
   "cell_type": "code",
   "execution_count": 88,
   "id": "477bbab9-b1c6-4cee-9a02-03d33192abcf",
   "metadata": {
    "tags": []
   },
   "outputs": [],
   "source": [
    "species_all=df['species name'].to_list()\n"
   ]
  },
  {
   "cell_type": "code",
   "execution_count": 89,
   "id": "6e006d13-faee-4057-a51f-5f4950e047aa",
   "metadata": {
    "tags": []
   },
   "outputs": [],
   "source": [
    "with open('spines_thorns.sql','w') as myfile:\n",
    "    myfile.write(\"INSERT INTO spines_thorns(thorn_id,thorns_spines)\" + \"\\n\"+\"VALUES \"+\"\\n\")\n",
    "\n",
    "    for i in range(0,len(list_spine_type)):\n",
    "        if i!=len(list_spine_type)-1:\n",
    "            if list_spine_type[i].strip()=='y':\n",
    "                myfile.write(\"    \"+\"(\"+str(i+1)+ \",\" + \"'\"+\"present\" + \"'\"+\")\"+ \",\"+\"\\n\")\n",
    "                i+=1\n",
    "            else:\n",
    "                if list_spine_type[i].strip()=='n':\n",
    "                    myfile.write(\"    \"+\"(\"+str(i+1)+ \",\" + \"'\"+\"absent\" + \"'\"+\")\"+ \",\"+\"\\n\")\n",
    "                    i+=1\n",
    "                else:\n",
    "                    myfile.write(\"    \"+\"(\"+str(i+1)+ \",\" + \"'\"+\"unkwown\" + \"'\"+\")\"+ \",\"+\"\\n\")\n",
    "                    i+=1\n",
    "                \n",
    "        else:\n",
    "            if list_spine_type[i].strip()=='y':\n",
    "                myfile.write(\"    \"+\"(\"+str(i+1)+ \",\" + \"'\"+\"present\" + \"'\"+\")\"+\"\\n\")\n",
    "\n",
    "            elif list_spine_type[i].strip()=='n':\n",
    "                myfile.write(\"    \"+\"(\"+str(i+1)+ \",\" + \"'\"+\"absent\" + \"'\"+\")\"+\"\\n\")\n",
    "            else:\n",
    "                myfile.write(\"    \"+\"(\"+str(i+1)+ \",\" + \"'\"+\"unkwown\" + \"'\"+\")\"+\"\\n\")\n",
    "            \n",
    "\n",
    "    myfile.write(\"RETURNING *;\")"
   ]
  },
  {
   "cell_type": "code",
   "execution_count": 90,
   "id": "0046b2aa-4625-45b7-a0fd-72b793146ea3",
   "metadata": {
    "tags": []
   },
   "outputs": [],
   "source": [
    "spine_type=df['spines, thorns, prickles or spiny leaf margins'].to_list()\n",
    "list_spine_type=list(set_spine_type_list)"
   ]
  },
  {
   "cell_type": "code",
   "execution_count": 91,
   "id": "fd5f4c63-856f-453b-b8a0-90bf6b491a49",
   "metadata": {
    "tags": []
   },
   "outputs": [],
   "source": [
    "with open('plants_spines_thorns.sql','w') as myfile:\n",
    "    myfile.write(\"INSERT INTO plants_spines_thorns(plant_id,thorn_id)\" + \"\\n\"+\"VALUES \"+\"\\n\")\n",
    "    for i in range(0,len(species_all)):\n",
    "        if i!=len(species_all)-1:\n",
    "            spine=spine_type[i]\n",
    "            if ',' in str(spine):\n",
    "                b=spine.split(\",\")\n",
    "                v=0\n",
    "                for j in b:\n",
    "                    plant_id=i+1\n",
    "                    s_type=list_spine_type.index(j.lower())+1\n",
    "            \n",
    "                    myfile.write(\"    \"+\"(\"+str(plant_id)+ \",\" +str(s_type) +\")\"+ \",\"+\"\\n\")\n",
    "                i+=1\n",
    "        \n",
    "            elif str(spine)!='nan':\n",
    "                plant_id=i+1\n",
    "                s_type=list_spine_type.index(str(spine.lower()))+1\n",
    "                myfile.write(\"    \"+\"(\"+str(plant_id)+ \",\" +str(s_type) +\")\"+\",\"+\"\\n\")\n",
    "                i+=1\n",
    "            else:\n",
    "                if str(spine)=='nan':\n",
    "                    plant_id=i+1\n",
    "                    s_type=list_spine_type.index('unknown')+1\n",
    "                    myfile.write(\"    \"+\"(\"+str(plant_id)+ \",\" +str(s_type) +\")\"+\",\"+\"\\n\")\n",
    "                    i+=1\n",
    "#         else:\n",
    "#             if ',' in str(stem):\n",
    "#                 b=stem.split(\",\")\n",
    "#                 v=0\n",
    "#                 for j in b:\n",
    "#                     plant_id=i+1\n",
    "#                     s_type=list_stem_type.index(j.lower())+1\n",
    "            \n",
    "#                     myfile.write(\"    \"+\"(\"+str(plant_id)+ \",\" + \"'\"+str(s_type) + \"'\"+\")\"+\"\\n\")\n",
    "        else:\n",
    "            if ',' in str(spine):\n",
    "                b=stem.split(\",\")\n",
    "                v=0\n",
    "                for j in b:\n",
    "                    plant_id=i+1\n",
    "                    s_type=list_spine_type.index(j.lower())+1\n",
    "\n",
    "                    myfile.write(\"    \"+\"(\"+str(plant_id)+ \",\" +str(s_type) +\")\"+\"\\n\")\n",
    "                i+=1\n",
    "\n",
    "            elif str(spine)=='nan':\n",
    "                plant_id=i+1\n",
    "                s_type=list_spine_type.index('unknown')+1\n",
    "                myfile.write(\"    \"+\"(\"+str(plant_id)+ \",\" + str(s_type) +\")\"+\"\\n\")\n",
    "                i+=1\n",
    "            else:\n",
    "                plant_id=i+1\n",
    "                s_type=list_spine_type.index(j.lower())+1\n",
    "\n",
    "                myfile.write(\"    \"+\"(\"+str(plant_id)+ \",\"  +str(s_type) +\")\"+\"\\n\")\n",
    "                i+=1\n",
    "\n",
    "\n",
    "    myfile.write(\"RETURNING *;\")"
   ]
  },
  {
   "cell_type": "markdown",
   "id": "8acbce45-0ddb-4f22-b467-b00d564e1180",
   "metadata": {},
   "source": [
    "# Woody or harbaceous\n"
   ]
  },
  {
   "cell_type": "code",
   "execution_count": 92,
   "id": "ee8cb242-335a-418d-bf35-dd6bb460803a",
   "metadata": {
    "tags": []
   },
   "outputs": [
    {
     "data": {
      "text/plain": [
       "3"
      ]
     },
     "execution_count": 92,
     "metadata": {},
     "output_type": "execute_result"
    }
   ],
   "source": [
    "woody_herbaceous_type_list=[]\n",
    "woody_herbaceous_type=list(df['woody or herbaceous'])\n",
    "for i in woody_herbaceous_type:\n",
    "    if ',' in str(i):\n",
    "        y=i.split(\",\")\n",
    "        for v in y:\n",
    "            if v =='n':\n",
    "                woody_herbaceous_type_list.append('unknown')\n",
    "            else:\n",
    "                woody_herbaceous_type_list.append(v.strip().lower())\n",
    "    elif i =='n':\n",
    "        woody_herbaceous_type_list.append('unknown')     \n",
    "    elif type(i) ==float:\n",
    "        woody_herbaceous_type_list.append('unknown')\n",
    "    else:\n",
    "        woody_herbaceous_type_list.append(str(i).strip().lower())\n",
    "set_woody_herbaceous_type_list=set(woody_herbaceous_type_list)\n",
    "set_woody_herbaceous_type_list\n",
    "list_woody_herbaceous_type=list(set_woody_herbaceous_type_list)\n",
    "len(list_woody_herbaceous_type)"
   ]
  },
  {
   "cell_type": "code",
   "execution_count": 93,
   "id": "a3310155-e1fd-45e4-8a9e-35cc5d6bb345",
   "metadata": {
    "tags": []
   },
   "outputs": [
    {
     "data": {
      "text/plain": [
       "['h', 'w', 'unknown']"
      ]
     },
     "execution_count": 93,
     "metadata": {},
     "output_type": "execute_result"
    }
   ],
   "source": [
    "list_woody_herbaceous_type"
   ]
  },
  {
   "cell_type": "code",
   "execution_count": 94,
   "id": "6fb453d3-577a-445d-9c4a-e752e936a43b",
   "metadata": {
    "tags": []
   },
   "outputs": [],
   "source": [
    "with open('woody_herbaceous.sql','w') as myfile:\n",
    "    myfile.write(\"INSERT INTO woody_herbaceous(id,)\" + \"\\n\"+\"VALUES \"+\"\\n\")\n",
    "\n",
    "    for i in range(0,len(list_woody_herbaceous_type)):\n",
    "        if i!=len(list_woody_herbaceous_type)-1:\n",
    "            if list_woody_herbaceous_type[i].lower().strip()=='h':\n",
    "                myfile.write(\" \"+\"(\"+str(i+1)+ \",\" + \"'\"+\"herbaceous\" + \"'\"+\")\"+ \",\"+\"\\n\")\n",
    "                i+=1\n",
    "            else:\n",
    "                if list_woody_herbaceous_type[i].lower().strip()=='w':\n",
    "                    myfile.write(\"\"+ \"(\"+str(i+1)+ \",\" + \"'\"+\"woody\" + \"'\"+\")\"+ \",\"+\"\\n\")\n",
    "                    i+=1\n",
    "                else:\n",
    "                    myfile.write(\" \"+\"(\"+str(i+1)+ \",\" + \"'\"+\"unkwown\" + \"'\"+\")\"+ \",\"+\"\\n\")\n",
    "                    i+=1\n",
    "        else:\n",
    "            if list_woody_herbaceous_type[i].lower().strip()=='h':\n",
    "                myfile.write(\" \"+\"(\"+str(i+1)+ \",\" + \"'\"+\"herbaceous\" + \"'\"+\")\"+\"\\n\")\n",
    "\n",
    "            elif list_woody_herbaceous_type[i].lower().strip()=='w':\n",
    "                myfile.write(\" \"+\"(\"+str(i+1)+ \",\" + \"'\"+\"woody\" + \"'\"+\")\"+\"\\n\")\n",
    "            else:\n",
    "                myfile.write(\" \"+\"(\"+str(i+1)+ \",\" + \"'\"+\"unkwown\" + \"'\"+\")\"+\"\\n\")\n",
    "       \n",
    "\n",
    "    myfile.write(\"RETURNING *;\")\n"
   ]
  },
  {
   "cell_type": "code",
   "execution_count": 95,
   "id": "b7c4d0c3-0473-4b9b-b045-769bf1bed1a4",
   "metadata": {
    "tags": []
   },
   "outputs": [],
   "source": [
    "with open('plants_woody_herbaceous_thorns.sql','w') as myfile:\n",
    "    myfile.write(\"INSERT INTO plants_woody_herbaceous(plant_id,back_id)\" + \"\\n\"+\"VALUES \"+\"\\n\")\n",
    "    for i in range(0,len(species_all)):\n",
    "        if i!=len(species_all)-1:\n",
    "            woody_herbaceous=woody_herbaceous_type[i]\n",
    "            if ',' in str(woody_herbaceous).strip():\n",
    "                b=str(woody_herbaceous).strip().split(\",\")\n",
    "                v=0\n",
    "                for j in b:\n",
    "                    plant_id=i+1\n",
    "                    s_type=list_woody_herbaceous_type.index(j.strip().lower())+1\n",
    "       \n",
    "                    myfile.write(\" \"+\"(\"+str(plant_id)+ \",\" +str(s_type) +\")\"+ \",\"+\"\\n\")\n",
    "                i+=1\n",
    "\n",
    "            elif str(woody_herbaceous).strip().lower()!='nan':\n",
    "                if str(woody_herbaceous).strip().lower()!='n':\n",
    "                    plant_id=i+1\n",
    "                    s_type=list_woody_herbaceous_type.index(str(woody_herbaceous.strip().lower()))+1\n",
    "                    myfile.write(\" \"+\"(\"+str(plant_id)+ \",\" +str(s_type) +\")\"+\",\"+\"\\n\")\n",
    "                    i+=1\n",
    "\n",
    "                elif str(woody_herbaceous).strip().lower()=='n':\n",
    "                    plant_id=i+1\n",
    "                    s_type=list_woody_herbaceous_type.index('unknown')+1\n",
    "                    myfile.write(\" \"+\"(\"+str(plant_id)+ \",\" +str(s_type) +\")\"+\",\"+\"\\n\")\n",
    "                    i+=1\n",
    "            else:\n",
    "                if str(woody_herbaceous).strip().lower()=='nan' or str(woody_herbaceous).strip().lower()=='nan':\n",
    "                    plant_id=i+1\n",
    "                    s_type=list_woody_herbaceous_type.index('unknown')+1\n",
    "                    myfile.write(\" \"+\"(\"+str(plant_id)+ \",\" +str(s_type) +\")\"+\",\"+\"\\n\")\n",
    "                    i+=1\n",
    "\n",
    "        else:\n",
    "            woody_herbaceous=woody_herbaceous_type[i]\n",
    "            if ',' in str(woody_herbaceous).strip().lower():\n",
    "                b=stem.split(\",\")\n",
    "                v=0\n",
    "                for j in b:\n",
    "                    plant_id=i+1\n",
    "                    s_type=list_woody_herbaceous_type.index(j.strip().lower())+1\n",
    "\n",
    "                    myfile.write(\" \"+\"(\"+str(plant_id)+ \",\" +str(s_type) +\")\"+\"\\n\")\n",
    "                i+=1\n",
    "\n",
    "            elif str(woody_herbaceous).strip()=='nan':\n",
    "                plant_id=i+1\n",
    "                s_type=list_woody_herbaceous_type.index('unknown')+1\n",
    "                myfile.write(\" \"+\"(\"+str(plant_id)+ \",\" + str(s_type) +\")\"+\"\\n\")\n",
    "                i+=1\n",
    "            else:\n",
    "                plant_id=i+1\n",
    "                s_type=list_woody_herbaceous_type.index(woody_herbaceous.lower())+1\n",
    "\n",
    "                myfile.write(\" \"+\"(\"+str(plant_id)+ \",\"  +str(s_type) +\")\"+\"\\n\")\n",
    "                i+=1\n",
    "\n",
    "\n",
    "    myfile.write(\"RETURNING *;\")\n"
   ]
  },
  {
   "cell_type": "markdown",
   "id": "f4f995fa-13e0-4e02-aacc-6bff78fd39fb",
   "metadata": {},
   "source": [
    "# Latex"
   ]
  },
  {
   "cell_type": "code",
   "execution_count": 96,
   "id": "32863638-ad42-4115-af2d-d0819a57baba",
   "metadata": {
    "tags": []
   },
   "outputs": [
    {
     "data": {
      "text/plain": [
       "3"
      ]
     },
     "execution_count": 96,
     "metadata": {},
     "output_type": "execute_result"
    }
   ],
   "source": [
    "latex_type_list=[]\n",
    "latex_type=list(df['latex'])\n",
    "for i in latex_type:\n",
    "    if ',' in str(i):\n",
    "        y=str(i).split(\",\")\n",
    "        for v in y:\n",
    "            if v =='n':\n",
    "                latex_type_list.append('absent')\n",
    "            if v =='y':\n",
    "                latex_type_list.append('present')\n",
    "            if v =='y?':\n",
    "                latex_type_list.append('present')\n",
    "            if v =='1':\n",
    "                latex_type_list.append('present')\n",
    "            else:\n",
    "                latex_type_list.append('absent')\n",
    "    elif i =='n':\n",
    "        latex_type_list.append('absent')\n",
    "    elif i =='nn':\n",
    "        latex_type_list.append('absent')\n",
    "    elif i =='y':\n",
    "        latex_type_list.append('present')\n",
    "    elif i =='y?':\n",
    "        latex_type_list.append('present')\n",
    "    elif i =='1':\n",
    "        latex_type_list.append('present')   \n",
    "    elif type(i) ==float:\n",
    "        latex_type_list.append('unknown')\n",
    "    else:\n",
    "        latex_type_list.append('absent')\n",
    "set_latex_type_list=set(latex_type_list)\n",
    "set_latex_type_list\n",
    "list_latex_type=list(set_latex_type_list)\n",
    "len(list_latex_type)\n"
   ]
  },
  {
   "cell_type": "code",
   "execution_count": 97,
   "id": "e5bd45ab-5c5f-4c7f-ac28-8d4fc3d1d854",
   "metadata": {
    "tags": []
   },
   "outputs": [
    {
     "data": {
      "text/plain": [
       "2"
      ]
     },
     "execution_count": 97,
     "metadata": {},
     "output_type": "execute_result"
    }
   ],
   "source": [
    "list_latex_type.index('present')+1\n",
    "list_latex_type.index('absent')+1"
   ]
  },
  {
   "cell_type": "code",
   "execution_count": 98,
   "id": "01aaf0e8-a114-4b01-8825-244bc4660c54",
   "metadata": {
    "tags": []
   },
   "outputs": [
    {
     "data": {
      "text/plain": [
       "['present', 'absent', 'unknown']"
      ]
     },
     "execution_count": 98,
     "metadata": {},
     "output_type": "execute_result"
    }
   ],
   "source": [
    "list_latex_type"
   ]
  },
  {
   "cell_type": "code",
   "execution_count": 99,
   "id": "19a02dc9-dd59-4c00-8cef-894b7519f20f",
   "metadata": {
    "tags": []
   },
   "outputs": [],
   "source": [
    "with open('plants_latex_thorns.sql','w') as myfile:\n",
    "    myfile.write(\"INSERT INTO plants_latex(plant_id,fruit_latex_id)\" + \"\\n\"+\"VALUES \"+\"\\n\")\n",
    "    for i in range(0,len(species_all)):\n",
    "        # check if i is nit in the last position\n",
    "        if i!=len(species_all)-1:\n",
    "            latex=latex_type[i]\n",
    "            # print(latex)\n",
    "            if ',' in str(latex).strip():\n",
    "                # print(latex)\n",
    "                # print(plant_id)\n",
    "                b=str(latex).strip().split(\",\")\n",
    "                v=0\n",
    "                for j in b:\n",
    "                    if j=='y':\n",
    "                        plant_id=i+1\n",
    "                        s_type=list_latex_type.index('present')+1\n",
    "                        # print(s_type)\n",
    "                        myfile.write(\" \"+\"(\"+str(plant_id)+ \",\" +str(s_type) +\")\"+ \",\"+\"\\n\")\n",
    "                        # i+=1\n",
    "                    elif j=='n':\n",
    "                        plant_id=i+1\n",
    "                        s_type=list_latex_type.index('absent')+1\n",
    "                        # print(s_type)\n",
    "                        myfile.write(\" \"+\"(\"+str(plant_id)+ \",\" +str(s_type) +\")\"+ \",\"+\"\\n\")\n",
    "                        # i+=1\n",
    "\n",
    "            elif str(latex).strip().lower()!='nan':\n",
    "                if str(latex).strip().lower()=='y?':\n",
    "                    plant_id=i+1\n",
    "                    s_type=list_latex_type.index('present')+1\n",
    "                    myfile.write(\" \"+\"(\"+str(plant_id)+ \",\" +str(s_type) +\")\"+\",\"+\"\\n\")\n",
    "                    # i+=1\n",
    "                elif str(latex).strip().lower()=='y':\n",
    "                    plant_id=i+1\n",
    "                    s_type=list_latex_type.index('present')+1\n",
    "                    myfile.write(\" \"+\"(\"+str(plant_id)+ \",\" +str(s_type) +\")\"+\",\"+\"\\n\")\n",
    "                    # i+=1\n",
    "\n",
    "                elif str(latex).strip().lower()=='n':\n",
    "                    plant_id=i+1\n",
    "                    s_type=list_latex_type.index('absent')+1\n",
    "                    myfile.write(\" \"+\"(\"+str(plant_id)+ \",\" +str(s_type) +\")\"+\",\"+\"\\n\")\n",
    "                    # i+=1\n",
    "                elif str(latex).strip().lower()=='nn':\n",
    "                    plant_id=i+1\n",
    "                    s_type=list_latex_type.index('absent')+1\n",
    "                    myfile.write(\" \"+\"(\"+str(plant_id)+ \",\" +str(s_type) +\")\"+\",\"+\"\\n\")\n",
    "                    i+=1\n",
    "\n",
    "                elif str(latex).strip().lower()=='1':\n",
    "                    plant_id=i+1\n",
    "                    s_type=list_latex_type.index('present')+1\n",
    "                    myfile.write(\" \"+\"(\"+str(plant_id)+ \",\" +str(s_type) +\")\"+\",\"+\"\\n\")\n",
    "                    i+=1\n",
    "\n",
    "                elif str(latex).strip().lower()=='y?':\n",
    "                    plant_id=i+1\n",
    "                    s_type=list_latex_type.index('present')+1\n",
    "                    myfile.write(\" \"+\"(\"+str(plant_id)+ \",\" +str(s_type) +\")\"+\",\"+\"\\n\")\n",
    "                    i+=1\n",
    "            else:\n",
    "                if str(latex).strip().lower()=='nan' or str(latex).strip().lower()=='nan':\n",
    "                    plant_id=i+1\n",
    "                    s_type=list_latex_type.index('unknown')+1\n",
    "                    myfile.write(\" \"+\"(\"+str(plant_id)+ \",\" +str(s_type) +\")\"+\",\"+\"\\n\")\n",
    "                    i+=1\n",
    "\n",
    "        else:\n",
    "            if i!=len(species_all)-1:\n",
    "                latex=latex_type[i]\n",
    "                if ',' in str(latex).strip():\n",
    "                    b=str(latex).strip().split(\",\")\n",
    "                    v=0\n",
    "                    for j in b:\n",
    "                        if j=='y':\n",
    "                            plant_id=i+1\n",
    "                            s_type=list_latex_type.index('present')+1\n",
    "                            myfile.write(\" \"+\"(\"+str(plant_id)+ \",\" +str(s_type) +\")\"+ \",\"+\"\\n\")\n",
    "                            i+=1\n",
    "                        elif j=='n':\n",
    "                            plant_id=i+1\n",
    "                            s_type=list_latex_type.index('absent')+1\n",
    "                            myfile.write(\" \"+\"(\"+str(plant_id)+ \",\" +str(s_type) +\")\"+\"\\n\")\n",
    "                            # i+=1\n",
    "\n",
    "                elif str(latex).strip().lower()!='nan':\n",
    "                    if str(latex).strip().lower()=='y?':\n",
    "                        plant_id=i+1\n",
    "                        s_type=list_latex_type.index('present')+1\n",
    "                        myfile.write(\" \"+\"(\"+str(plant_id)+ \",\" +str(s_type) +\")\"+\"\\n\")\n",
    "                        # i+=1\n",
    "                    elif str(latex).strip().lower()=='y':\n",
    "                        plant_id=i+1\n",
    "                        s_type=list_latex_type.index('present')+1\n",
    "                        myfile.write(\" \"+\"(\"+str(plant_id)+ \",\" +str(s_type) +\")\"+\"\\n\")\n",
    "                        # i+=1\n",
    "\n",
    "                    elif str(latex).strip().lower()=='n':\n",
    "                        plant_id=i+1\n",
    "                        s_type=list_latex_type.index('absent')+1\n",
    "                        myfile.write(\" \"+\"(\"+str(plant_id)+ \",\" +str(s_type) +\")\"+\"\\n\")\n",
    "                        # i+=1\n",
    "                    elif str(latex).strip().lower()=='nn':\n",
    "                        plant_id=i+1\n",
    "                        s_type=list_latex_type.index('absent')+1\n",
    "                        myfile.write(\" \"+\"(\"+str(plant_id)+ \",\" +str(s_type) +\")\"+\"\\n\")\n",
    "                        # i+=1\n",
    "\n",
    "                    elif str(latex).strip().lower()=='1':\n",
    "                        plant_id=i+1\n",
    "                        s_type=list_latex_type.index('present')+1\n",
    "                        myfile.write(\" \"+\"(\"+str(plant_id)+ \",\" +str(s_type) +\")\"+\"\\n\")\n",
    "                        # i+=1\n",
    "\n",
    "                    elif str(latex).strip().lower()=='y?':\n",
    "                        plant_id=i+1\n",
    "                        s_type=list_latex_type.index('present')+1\n",
    "                        myfile.write(\" \"+\"(\"+str(plant_id)+ \",\" +str(s_type) +\")\"+\"\\n\")\n",
    "                        # i+=1\n",
    "                else:\n",
    "                    if str(latex).strip().lower()=='nan' or str(latex).strip().lower()=='nan':\n",
    "                        plant_id=i+1\n",
    "                        s_type=list_latex_type.index('unknown')+1\n",
    "                        myfile.write(\" \"+\"(\"+str(plant_id)+ \",\" +str(s_type) +\")\"+\"\\n\")\n",
    "                        # i+=1\n",
    "\n",
    "\n",
    "\n",
    "\n",
    "    myfile.write(\"RETURNING *;\")\n",
    "\n",
    "\n"
   ]
  },
  {
   "cell_type": "code",
   "execution_count": 100,
   "id": "5f24e4cb-c254-440b-ac96-4a887835999e",
   "metadata": {
    "tags": []
   },
   "outputs": [],
   "source": [
    "with open('latex.sql','w') as myfile:\n",
    "    myfile.write(\"INSERT INTO latex(fruit_latex_id,latex_description)\" + \"\\n\"+\"VALUES \"+\"\\n\")\n",
    "\n",
    "    for i in range(0,len(list_latex_type)):\n",
    "        if i!=len(list_latex_type)-1:\n",
    "            if list_latex_type[i].lower().strip()=='present':\n",
    "                myfile.write(\" \"+\"(\"+str(i+1)+ \",\" + \"'\"+\"pressent\" + \"'\"+\")\"+ \",\"+\"\\n\")\n",
    "                i+=1\n",
    "            else:\n",
    "                if list_latex_type[i].lower().strip()=='absent':\n",
    "                    myfile.write(\"\"+ \"(\"+str(i+1)+ \",\" + \"'\"+\"absent\" + \"'\"+\")\"+ \",\"+\"\\n\")\n",
    "                    i+=1\n",
    "                else:\n",
    "                    myfile.write(\" \"+\"(\"+str(i+1)+ \",\" + \"'\"+\"unkwown\" + \"'\"+\")\"+ \",\"+\"\\n\")\n",
    "                    i+=1\n",
    "        else:\n",
    "            if list_latex_type[i].lower().strip()=='absent':\n",
    "                myfile.write(\" \"+\"(\"+str(i+1)+ \",\" + \"'\"+\"absent\" + \"'\"+\")\"+\"\\n\")\n",
    "\n",
    "            elif list_latex_type[i].lower().strip()=='present':\n",
    "                myfile.write(\" \"+\"(\"+str(i+1)+ \",\" + \"'\"+\"present\" + \"'\"+\")\"+\"\\n\")\n",
    "            else:\n",
    "                myfile.write(\" \"+\"(\"+str(i+1)+ \",\" + \"'\"+\"unkwown\" + \"'\"+\")\"+\"\\n\")\n",
    "  \n",
    "\n",
    "    myfile.write(\"RETURNING *;\")\n",
    "\n",
    "\n"
   ]
  },
  {
   "cell_type": "markdown",
   "id": "25780181-96a6-4367-afda-c3777495829c",
   "metadata": {},
   "source": [
    "# Fruiting momths"
   ]
  },
  {
   "cell_type": "code",
   "execution_count": 101,
   "id": "4663b845-422d-4edd-9842-1de62e65ec41",
   "metadata": {
    "tags": []
   },
   "outputs": [
    {
     "data": {
      "text/plain": [
       "13"
      ]
     },
     "execution_count": 101,
     "metadata": {},
     "output_type": "execute_result"
    }
   ],
   "source": [
    "fruiting_month_type_list=[]\n",
    "fruiting_month_type=list(df['fruiting months'])\n",
    "for i in fruiting_month_type:\n",
    "    if ',' in str(i):\n",
    "        y=str(i).split(\",\")\n",
    "        for v in y:\n",
    "            if v =='1':\n",
    "                fruiting_month_type_list.append('JAN')\n",
    "            if v =='2':\n",
    "                fruiting_month_type_list.append('FEB')\n",
    "            if v =='3':\n",
    "                fruiting_month_type_list.append('MARCH')\n",
    "            if v =='4':\n",
    "                fruiting_month_type_list.append('APR')\n",
    "            if v =='5':\n",
    "                fruiting_month_type_list.append('MAY')\n",
    "            if v =='6':\n",
    "                fruiting_month_type_list.append('JUNE')\n",
    "            if v =='7':\n",
    "                fruiting_month_type_list.append('JULY')\n",
    "            if v =='8':\n",
    "                fruiting_month_type_list.append('AUG')\n",
    "            if v =='9':\n",
    "                fruiting_month_type_list.append('SEP')\n",
    "            if v =='10':\n",
    "                fruiting_month_type_list.append('OCT')\n",
    "            if v =='11':\n",
    "                fruiting_month_type_list.append('NOV')\n",
    "            if v =='12':\n",
    "                fruiting_month_type_list.append('DEC')\n",
    "            else:\n",
    "                fruiting_month_type_list.append('unknown')\n",
    "        if v =='1':\n",
    "            fruiting_month_type_list.append('JAN')\n",
    "        if v =='2':\n",
    "            fruiting_month_type_list.append('FEB')\n",
    "        if v =='3':\n",
    "            fruiting_month_type_list.append('MARCH')\n",
    "        if v =='4':\n",
    "            fruiting_month_type_list.append('APR')\n",
    "        if v =='5':\n",
    "            fruiting_month_type_list.append('MAY')\n",
    "        if v =='6':\n",
    "            fruiting_month_type_list.append('JUNE')\n",
    "        if v =='7':\n",
    "            fruiting_month_type_list.append('JULY')\n",
    "        if v =='8':\n",
    "            fruiting_month_type_list.append('AUG')\n",
    "        if v =='9':\n",
    "            fruiting_month_type_list.append('SEP')\n",
    "        if v =='10':\n",
    "            fruiting_month_type_list.append('OCT')\n",
    "        if v =='11':\n",
    "            fruiting_month_type_list.append('NOV')\n",
    "        if v =='12':\n",
    "            fruiting_month_type_list.append('DEC')\n",
    "    else:\n",
    "        fruiting_month_type_list.append('unknown')\n",
    "set_fruiting_month_type_list=set(fruiting_month_type_list)\n",
    "set_fruiting_month_type_list\n",
    "list_fruiting_month_type=list(set_fruiting_month_type_list)\n",
    "len(list_fruiting_month_type)\n",
    "\n",
    "\n",
    "\n"
   ]
  },
  {
   "cell_type": "code",
   "execution_count": 102,
   "id": "68a5a70c-d02f-49ab-ad2c-ff18a7e5257f",
   "metadata": {
    "tags": []
   },
   "outputs": [
    {
     "data": {
      "text/plain": [
       "['MAY',\n",
       " 'NOV',\n",
       " 'DEC',\n",
       " 'APR',\n",
       " 'MARCH',\n",
       " 'JULY',\n",
       " 'AUG',\n",
       " 'SEP',\n",
       " 'unknown',\n",
       " 'FEB',\n",
       " 'JUNE',\n",
       " 'JAN',\n",
       " 'OCT']"
      ]
     },
     "execution_count": 102,
     "metadata": {},
     "output_type": "execute_result"
    }
   ],
   "source": [
    "list_fruiting_month_type"
   ]
  },
  {
   "cell_type": "code",
   "execution_count": 103,
   "id": "b6432964-42a8-46cf-9199-af4cd7753d14",
   "metadata": {
    "tags": []
   },
   "outputs": [],
   "source": [
    "list_fruiting_month_type=['JAN','FEB','MARCH','APR','MAY','JUNE','JULY','AUG','SEP','OCT','NOV','DEC','unknown']"
   ]
  },
  {
   "cell_type": "code",
   "execution_count": 104,
   "id": "bd940629-89b4-448d-9b12-2ea58081bfa7",
   "metadata": {
    "tags": []
   },
   "outputs": [],
   "source": [
    "with open('fruiting_months.sql','w') as myfile:\n",
    "    myfile.write(\"INSERT INTO fruiting_months(fruiting_month_id,month)\" + \"\\n\"+\"VALUES \"+\"\\n\")\n",
    "\n",
    "    for i in range(0,len(list_fruiting_month_type)):\n",
    "        if i!=len(list_fruiting_month_type)-1:\n",
    "            myfile.write(\"    \"+\"(\"+str(i+1)+ \",\" + \"'\"+list_fruiting_month_type[i].strip() + \"'\"+\")\"+ \",\"+\"\\n\")\n",
    "            i+=1\n",
    "        else:\n",
    "            myfile.write(\"    \"+\"(\"+str(i+1)+ \",\" + \"'\"+list_fruiting_month_type[i].strip() + \"'\"+\")\"+\"\\n\")\n",
    "\n",
    "    myfile.write(\"RETURNING *;\")"
   ]
  },
  {
   "cell_type": "code",
   "execution_count": 105,
   "id": "b6f30481-3778-438f-9e3a-0bbbc4a6ab16",
   "metadata": {
    "tags": []
   },
   "outputs": [
    {
     "data": {
      "text/plain": [
       "882"
      ]
     },
     "execution_count": 105,
     "metadata": {},
     "output_type": "execute_result"
    }
   ],
   "source": [
    "len(species_all)\n",
    "len(fruiting_month_type)"
   ]
  },
  {
   "cell_type": "code",
   "execution_count": 106,
   "id": "26903b31-fe11-4305-b688-6f4912e9a936",
   "metadata": {
    "tags": []
   },
   "outputs": [
    {
     "data": {
      "text/plain": [
       "['JAN',\n",
       " 'FEB',\n",
       " 'MARCH',\n",
       " 'APR',\n",
       " 'MAY',\n",
       " 'JUNE',\n",
       " 'JULY',\n",
       " 'AUG',\n",
       " 'SEP',\n",
       " 'OCT',\n",
       " 'NOV',\n",
       " 'DEC',\n",
       " 'unknown']"
      ]
     },
     "execution_count": 106,
     "metadata": {},
     "output_type": "execute_result"
    }
   ],
   "source": [
    "list_fruiting_month_type"
   ]
  },
  {
   "cell_type": "code",
   "execution_count": 107,
   "id": "08c76f7c-71b0-4ddd-8f38-5ecbedfb1bee",
   "metadata": {
    "tags": []
   },
   "outputs": [],
   "source": [
    "fruiting_month_type=df['fruiting months'].to_list()\n"
   ]
  },
  {
   "cell_type": "code",
   "execution_count": null,
   "id": "8174f377-0bc5-4449-bd40-d21cfb7e081f",
   "metadata": {},
   "outputs": [],
   "source": []
  },
  {
   "cell_type": "code",
   "execution_count": 108,
   "id": "ebf5a3ed-39d0-49f3-b13c-05c56105a686",
   "metadata": {
    "tags": []
   },
   "outputs": [
    {
     "data": {
      "text/plain": [
       "1"
      ]
     },
     "execution_count": 108,
     "metadata": {},
     "output_type": "execute_result"
    }
   ],
   "source": [
    "list_fruiting_month_type.index('JAN')+1"
   ]
  },
  {
   "cell_type": "code",
   "execution_count": 109,
   "id": "965496da-2c49-4a65-bea9-a4b664fe1dd5",
   "metadata": {
    "tags": []
   },
   "outputs": [
    {
     "name": "stdout",
     "output_type": "stream",
     "text": [
      "5\n"
     ]
    }
   ],
   "source": [
    "p=[]\n",
    "with open('plants_fruiting_months.sql','w') as myfile:\n",
    "    myfile.write(\"INSERT INTO plants_fruiting_months(plant_id,fruiting_month_id)\" + \"\\n\"+\"VALUES \"+\"\\n\")\n",
    "    for i in range(0,len(species_all)):\n",
    "        # print(i)\n",
    "        if i!=len(species_all)-1:\n",
    "            stem=fruiting_month_type[i]\n",
    "            # print(species_all[i])\n",
    "            if ',' in str(stem):\n",
    "                # print(stem)\n",
    "                b=stem.split(\",\")\n",
    "                for v in b:\n",
    "                    # print(b)\n",
    "                    plant_id=species_all.index(species_all[i])+1\n",
    "\n",
    "                    if v =='1':\n",
    "                        plant_id=i+1\n",
    "                        # print(plant_id)\n",
    "                        s_type=list_fruiting_month_type.index('JAN')+1\n",
    "                        myfile.write(\"    \"+\"(\"+str(plant_id)+ \",\" +str(s_type) +\")\"+ \",\"+\"\\n\")\n",
    "                        p.append(s_type)\n",
    "                    elif v =='2':\n",
    "                        # print(v)\n",
    "                        s_type=list_fruiting_month_type.index('FEB')+1\n",
    "                        myfile.write(\"    \"+\"(\"+str(plant_id)+ \",\" +str(s_type) +\")\"+ \",\"+\"\\n\")\n",
    "                    elif v =='3':            \n",
    "                        s_type=list_fruiting_month_type.index('MARCH')+1\n",
    "                        myfile.write(\"    \"+\"(\"+str(plant_id)+ \",\" +str(s_type) +\")\"+ \",\"+\"\\n\")\n",
    "                    elif v =='4':\n",
    "                        plant_id=i+1\n",
    "                        s_type=list_fruiting_month_type.index('APR')+1\n",
    "                        myfile.write(\"    \"+\"(\"+str(plant_id)+ \",\" +str(s_type) +\")\"+ \",\"+\"\\n\")\n",
    "                    elif v =='5':\n",
    "                        s_type=list_fruiting_month_type.index('MAY')+1\n",
    "                        myfile.write(\"    \"+\"(\"+str(plant_id)+ \",\" +str(s_type) +\")\"+ \",\"+\"\\n\")\n",
    "                    elif v =='6':\n",
    "                        s_type=list_fruiting_month_type.index('JUNE')+1\n",
    "                        myfile.write(\"    \"+\"(\"+str(plant_id)+ \",\" +str(s_type) +\")\"+ \",\"+\"\\n\")\n",
    "                    elif v =='7':\n",
    "                        s_type=list_fruiting_month_type.index('JULY')+1\n",
    "                        myfile.write(\"    \"+\"(\"+str(plant_id)+ \",\" +str(s_type) +\")\"+ \",\"+\"\\n\")\n",
    "                    elif v =='8':\n",
    "                        s_type=list_fruiting_month_type.index('AUG')+1\n",
    "                        myfile.write(\"    \"+\"(\"+str(plant_id)+ \",\" +str(s_type) +\")\"+ \",\"+\"\\n\")\n",
    "                    elif v =='9':\n",
    "                        s_type=list_fruiting_month_type.index('SEP')+1\n",
    "                        myfile.write(\"    \"+\"(\"+str(plant_id)+ \",\" +str(s_type) +\")\"+ \",\"+\"\\n\")\n",
    "                    elif v =='10':\n",
    "                        s_type=list_fruiting_month_type.index('OCT')+1\n",
    "                        myfile.write(\"    \"+\"(\"+str(plant_id)+ \",\" +str(s_type) +\")\"+ \",\"+\"\\n\")\n",
    "                    elif v =='11':\n",
    "                        s_type=list_fruiting_month_type.index('NOV')+1\n",
    "                        myfile.write(\"    \"+\"(\"+str(plant_id)+ \",\" +str(s_type) +\")\"+ \",\"+\"\\n\")\n",
    "                    elif v =='12':\n",
    "                        s_type=list_fruiting_month_type.index('DEC')+1\n",
    "                        myfile.write(\"    \"+\"(\"+str(plant_id)+ \",\" +str(s_type) +\")\"+ \",\"+\"\\n\")\n",
    "                    else:\n",
    "                        plant_id=i+1\n",
    "                        s_type=list_fruiting_month_type.index('unknown')+1\n",
    "                        myfile.write(\"    \"+\"(\"+str(plant_id)+ \",\" +str(s_type) +\")\"+ \",\"+\"\\n\")\n",
    "            else:\n",
    "                stem=fruiting_month_type[i]\n",
    "                plant_id=i+1\n",
    "                if stem =='1':\n",
    "                    s_type=list_fruiting_month_type.index('JAN')+1\n",
    "                    myfile.write(\"    \"+\"(\"+str(plant_id)+ \",\" +str(s_type) +\")\"+ \",\"+\"\\n\")\n",
    "                elif stem =='2':\n",
    "                    s_type=list_fruiting_month_type.index('FEB')+1\n",
    "                    myfile.write(\"    \"+\"(\"+str(plant_id)+ \",\" +str(s_type) +\")\"+ \",\"+\"\\n\")\n",
    "                elif stem =='3':\n",
    "                    s_type=list_fruiting_month_type.index('MARCH')+1\n",
    "                    myfile.write(\"    \"+\"(\"+str(plant_id)+ \",\" +str(s_type) +\")\"+ \",\"+\"\\n\")\n",
    "                elif stem =='4':\n",
    "                    s_type=list_fruiting_month_type.index('APR')+1\n",
    "                    myfile.write(\"    \"+\"(\"+str(plant_id)+ \",\" +str(s_type) +\")\"+ \",\"+\"\\n\")\n",
    "                elif stem =='5':\n",
    "                    s_type=list_fruiting_month_type.index('MAY')+1\n",
    "                    myfile.write(\"    \"+\"(\"+str(plant_id)+ \",\" +str(s_type) +\")\"+ \",\"+\"\\n\")\n",
    "\n",
    "                elif stem =='6':\n",
    "                    s_type=list_fruiting_month_type.index('JUNE')+1\n",
    "                    myfile.write(\"    \"+\"(\"+str(plant_id)+ \",\" +str(s_type) +\")\"+ \",\"+\"\\n\")\n",
    "\n",
    "                elif stem =='7':\n",
    "                    s_type=list_fruiting_month_type.index('JULY')+1\n",
    "                    myfile.write(\"    \"+\"(\"+str(plant_id)+ \",\" +str(s_type) +\")\"+ \",\"+\"\\n\")\n",
    "\n",
    "                elif stem =='8':\n",
    "                    s_type=list_fruiting_month_type.index('AUG')+1\n",
    "                    myfile.write(\"    \"+\"(\"+str(plant_id)+ \",\" +str(s_type) +\")\"+ \",\"+\"\\n\")\n",
    "                elif stem =='9':\n",
    "                    s_type=list_fruiting_month_type.index('SEP')+1\n",
    "                    myfile.write(\"    \"+\"(\"+str(plant_id)+ \",\" +str(s_type) +\")\"+ \",\"+\"\\n\")\n",
    "\n",
    "                elif stem =='10':\n",
    "                    s_type=list_fruiting_month_type.index('OCT')+1\n",
    "                    myfile.write(\"    \"+\"(\"+str(plant_id)+ \",\" +str(s_type) +\")\"+ \",\"+\"\\n\")\n",
    "                elif stem =='11':\n",
    "                    s_type=list_fruiting_month_type.index('NOV')+1\n",
    "                    myfile.write(\"    \"+\"(\"+str(plant_id)+ \",\" +str(s_type) +\")\"+ \",\"+\"\\n\")\n",
    "                    s_type=list_fruiting_month_type.index('DEC')+1\n",
    "                    myfile.write(\"    \"+\"(\"+str(plant_id)+ \",\" +str(s_type) +\")\"+ \",\"+\"\\n\")\n",
    "        # i+=1\n",
    "                # else:\n",
    "                #     plant_id=i+1\n",
    "                #     s_type=list_fruiting_month_type.index('unknown')+1\n",
    "                #     myfile.write(\"    \"+\"(\"+str(plant_id)+ \",\" +str(s_type) +\")\"+ \",\"+\"\\n\")\n",
    "                #     i+=1\n",
    "#         else:\n",
    "#             if ',' in str(stem):\n",
    "#                 b=stem.split(\",\")\n",
    "#                 v=0\n",
    "#                 for j in b:\n",
    "#                     plant_id=i+1\n",
    "#                     s_type=list_stem_type.index(j.lower())+1\n",
    "            \n",
    "#                     myfile.write(\"    \"+\"(\"+str(plant_id)+ \",\" + \"'\"+str(s_type) + \"'\"+\")\"+\"\\n\")\n",
    "    else:\n",
    "        stem=fruiting_month_type[i]\n",
    "        plant_id=i+1\n",
    "        if stem =='1':\n",
    "            s_type=list_fruiting_month_type.index('JAN')+1\n",
    "            myfile.write(\"    \"+\"(\"+str(plant_id)+ \",\" +str(s_type) +\")\"+\"\\n\")\n",
    "            i+=1\n",
    "        elif stem =='2':\n",
    "            s_type=list_fruiting_month_type.index('FEB')+1\n",
    "            myfile.write(\"    \"+\"(\"+str(plant_id)+ \",\" +str(s_type) +\")\"+\"\\n\")\n",
    "\n",
    "        elif stem =='3':\n",
    "            s_type=list_fruiting_month_type.index('MARCH')+1\n",
    "            myfile.write(\"    \"+\"(\"+str(plant_id)+ \",\" +str(s_type) +\")\"+\"\\n\")\n",
    "            i+=1\n",
    "        elif stem =='4':\n",
    "            s_type=list_fruiting_month_type.index('APR')+1\n",
    "            myfile.write(\"    \"+\"(\"+str(plant_id)+ \",\" +str(s_type) +\")\"+\"\\n\")\n",
    "\n",
    "        elif stem =='5':\n",
    "            print(stem)\n",
    "            s_type=list_fruiting_month_type.index('MAY')+1\n",
    "            myfile.write(\"    \"+\"(\"+str(plant_id)+ \",\" +str(s_type) +\")\"+ \"\\n\")\n",
    "\n",
    "        elif stem =='6':\n",
    "            s_type=list_fruiting_month_type.index('JUNE')+1\n",
    "            myfile.write(\"    \"+\"(\"+str(plant_id)+ \",\" +str(s_type) +\")\"+\"\\n\")\n",
    "\n",
    "        elif stem =='7':\n",
    "            s_type=list_fruiting_month_type.index('JULY')+1\n",
    "            myfile.write(\"    \"+\"(\"+str(plant_id)+ \",\" +str(s_type) +\")\"+\"\\n\")\n",
    "\n",
    "        elif stem =='8':\n",
    "            s_type=list_fruiting_month_type.index('AUG')+1\n",
    "            myfile.write(\"    \"+\"(\"+str(plant_id)+ \",\" +str(s_type) +\")\"+\"\\n\")\n",
    "\n",
    "        elif stem =='9':\n",
    "            s_type=list_fruiting_month_type.index('SEP')+1\n",
    "            myfile.write(\"    \"+\"(\"+str(plant_id)+ \",\" +str(s_type) +\")\"+\"\\n\")\n",
    "\n",
    "        elif stem =='10':\n",
    "            s_type=list_fruiting_month_type.index('OCT')+1\n",
    "            myfile.write(\"    \"+\"(\"+str(plant_id)+ \",\" +str(s_type) +\")\"+\"\\n\")\n",
    "\n",
    "        elif stem =='11':\n",
    "            s_type=list_fruiting_month_type.index('NOV')+1\n",
    "            myfile.write(\"    \"+\"(\"+str(plant_id)+ \",\" +str(s_type) +\")\"+\"\\n\")\n",
    "\n",
    "        elif stem =='12':\n",
    "            s_type=list_fruiting_month_type.index('DEC')+1\n",
    "            myfile.write(\"    \"+\"(\"+str(plant_id)+ \",\" +str(s_type) +\")\"+\"\\n\")\n",
    "\n",
    "        else:\n",
    "            plant_id=i+1\n",
    "            s_type=list_fruiting_month_type.index('unknown')+1\n",
    "            myfile.write(\"    \"+\"(\"+str(plant_id)+ \",\" +str(s_type) +\")\"+\"\\n\")\n",
    "    i+=1\n",
    "\n",
    "    myfile.write(\"RETURNING *;\")\n"
   ]
  },
  {
   "cell_type": "code",
   "execution_count": 110,
   "id": "f7545681-2456-486c-8ed8-7543ae786703",
   "metadata": {
    "tags": []
   },
   "outputs": [],
   "source": [
    "# Color"
   ]
  },
  {
   "cell_type": "code",
   "execution_count": 111,
   "id": "353a1b34-e5d4-4616-bec1-8f405ff88d8e",
   "metadata": {
    "tags": []
   },
   "outputs": [
    {
     "data": {
      "text/plain": [
       "18"
      ]
     },
     "execution_count": 111,
     "metadata": {},
     "output_type": "execute_result"
    }
   ],
   "source": [
    "color=[]\n",
    "color_type=list(df['Fruit color'])\n",
    "for i in color_type:\n",
    "    if ',' in str(i):\n",
    "        y=i.split(\",\")\n",
    "        for v in y:\n",
    "            color.append(v.strip().lower())\n",
    "    elif type(i) ==float:\n",
    "        color.append('unknown')\n",
    "    else:\n",
    "        color.append(str(i).strip().lower())\n",
    "set_color_list=set(color)\n",
    "list_color=list(set_color_list)\n",
    "len(list_color)"
   ]
  },
  {
   "cell_type": "code",
   "execution_count": 112,
   "id": "d18db53c-f16c-42b4-bc9b-0671182b8a99",
   "metadata": {
    "tags": []
   },
   "outputs": [
    {
     "data": {
      "text/plain": [
       "'yellow,brown'"
      ]
     },
     "execution_count": 112,
     "metadata": {},
     "output_type": "execute_result"
    }
   ],
   "source": [
    "color_type[881]"
   ]
  },
  {
   "cell_type": "code",
   "execution_count": 113,
   "id": "c1e5aca8-2009-4444-ba1d-ca748db4c33d",
   "metadata": {
    "tags": []
   },
   "outputs": [],
   "source": [
    "color_type=list(df['Fruit color'])\n",
    "with open('fruit_colors.sql','w') as myfile:\n",
    "    myfile.write(\"INSERT INTO fruit_colors(color_id,color)\" + \"\\n\"+\"VALUES \"+\"\\n\")\n",
    "\n",
    "    for i in range(0,len(list_color)):\n",
    "        if i!=len(list_color)-1:\n",
    "            myfile.write(\"    \"+\"(\"+str(i+1)+ \",\" + \"'\"+list_color[i].strip() + \"'\"+\")\"+ \",\"+\"\\n\")\n",
    "            i+=1\n",
    "        else:\n",
    "            myfile.write(\"    \"+\"(\"+str(i+1)+ \",\" + \"'\"+list_color[i].strip() + \"'\"+\")\"+\"\\n\")\n",
    "\n",
    "    myfile.write(\"RETURNING *;\")"
   ]
  },
  {
   "cell_type": "code",
   "execution_count": 114,
   "id": "5f5cf655-962c-4fca-b219-4b12f51c3c9d",
   "metadata": {
    "tags": []
   },
   "outputs": [
    {
     "data": {
      "text/plain": [
       "882"
      ]
     },
     "execution_count": 114,
     "metadata": {},
     "output_type": "execute_result"
    }
   ],
   "source": [
    "len(color_type)"
   ]
  },
  {
   "cell_type": "code",
   "execution_count": 115,
   "id": "ac5c664c-8496-49e1-959f-0ffc1044d117",
   "metadata": {
    "tags": []
   },
   "outputs": [],
   "source": [
    "# with open('plants_fruit_colors.sql','w') as myfile:\n",
    "#     myfile.write(\"INSERT INTO woody_herbaceous(plant_id,color_id,)\" + \"\\n\"+\"VALUES \"+\"\\n\")\n",
    "\n",
    "#     for i in range(0,len(color_type)):\n",
    "#         if i!=len(color_type)-1:\n",
    "#             colors=color_type[i]\n",
    "#             if list_woody_herbaceous_type[i].lower().strip()=='h':\n",
    "#                 myfile.write(\" \"+\"(\"+str(i+1)+ \",\" + \"'\"+\"herbaceous\" + \"'\"+\")\"+ \",\"+\"\\n\")\n",
    "#                 i+=1\n",
    "#             else:\n",
    "#                 if list_woody_herbaceous_type[i].lower().strip()=='w':\n",
    "#                     myfile.write(\"\"+ \"(\"+str(i+1)+ \",\" + \"'\"+\"woody\" + \"'\"+\")\"+ \",\"+\"\\n\")\n",
    "#                     i+=1\n",
    "#                 else:\n",
    "#                     myfile.write(\" \"+\"(\"+str(i+1)+ \",\" + \"'\"+\"unkwown\" + \"'\"+\")\"+ \",\"+\"\\n\")\n",
    "#                     i+=1\n",
    "#         else:\n",
    "#             if list_woody_herbaceous_type[i].lower().strip()=='h':\n",
    "#                 myfile.write(\" \"+\"(\"+str(i+1)+ \",\" + \"'\"+\"herbaceous\" + \"'\"+\")\"+\"\\n\")\n",
    "\n",
    "#             elif list_woody_herbaceous_type[i].lower().strip()=='w':\n",
    "#                 myfile.write(\" \"+\"(\"+str(i+1)+ \",\" + \"'\"+\"woody\" + \"'\"+\")\"+\"\\n\")\n",
    "#             else:\n",
    "#                 myfile.write(\" \"+\"(\"+str(i+1)+ \",\" + \"'\"+\"unkwown\" + \"'\"+\")\"+\"\\n\")\n",
    "       \n",
    "\n",
    "#     myfile.write(\"RETURNING *;\")\n"
   ]
  },
  {
   "cell_type": "code",
   "execution_count": 116,
   "id": "d0f9a43e-37ca-426d-8f5c-63b621f8d9ad",
   "metadata": {
    "tags": []
   },
   "outputs": [
    {
     "data": {
      "text/plain": [
       "['white',\n",
       " 'golden',\n",
       " 'unknown',\n",
       " 'black',\n",
       " 'grey',\n",
       " 'purple',\n",
       " 'blue',\n",
       " 'yelow',\n",
       " 'greenish-yellow',\n",
       " 'greenish-brown',\n",
       " 'red',\n",
       " 'green',\n",
       " 'yellow',\n",
       " 'brown',\n",
       " 'pink',\n",
       " 'red brown',\n",
       " 'white a green',\n",
       " 'orange']"
      ]
     },
     "execution_count": 116,
     "metadata": {},
     "output_type": "execute_result"
    }
   ],
   "source": [
    "list_color"
   ]
  },
  {
   "cell_type": "code",
   "execution_count": 117,
   "id": "8ef967b6-9df5-47a2-be9f-8226373c8494",
   "metadata": {
    "tags": []
   },
   "outputs": [
    {
     "name": "stdout",
     "output_type": "stream",
     "text": [
      "881\n",
      "yellow,brown\n"
     ]
    }
   ],
   "source": [
    "color_type=df['Fruit color'].to_list()\n",
    "with open('plants_fruit_colors.sql','w') as myfile:\n",
    "    myfile.write(\"INSERT INTO plants_fruit_colors(plant_id,color_id)\" + \"\\n\"+\"VALUES \"+\"\\n\")\n",
    "    for i in range(0,len(species_all)):\n",
    "        if i!=len(species_all)-1:\n",
    "            stem=color_type[i]\n",
    "            if ',' in str(stem):\n",
    "                b=stem.split(\",\")\n",
    "                for j in b:\n",
    "                    plant_id=i+1\n",
    "                    s_type=list_color.index(j.strip().lower())+1\n",
    "                    myfile.write(\"    \"+\"(\"+str(plant_id)+ \",\" +str(s_type) +\")\"+ \",\"+\"\\n\")\n",
    "            else:\n",
    "                if str(stem)=='nan':\n",
    "                    plant_id=i+1\n",
    "                    s_type=list_color.index('unknown')+1\n",
    "                    myfile.write(\"    \"+\"(\"+str(plant_id)+ \",\" + str(s_type) +\"),\"+\"\\n\")\n",
    "                else:\n",
    "                    plant_id=i+1\n",
    "                    s_type=list_color.index(str(stem).strip().lower())+1\n",
    "\n",
    "                myfile.write(\"    \"+\"(\"+str(plant_id)+ \",\" +str(s_type) +\")\"+\",\"+\"\\n\")\n",
    "#         else:\n",
    "\n",
    "#             plant_id=i+1\n",
    "#             s_type=list_color.index(j.strip().lower())+1\n",
    "\n",
    "            # myfile.write(\"    \"+\"(\"+str(plant_id)+ \",\" + \"'\"+str(s_type) + \"'\"+\")\"+\"\\n\")\n",
    "    else:\n",
    "        print(i)\n",
    "        stem=color_type[i]\n",
    "        print(stem)\n",
    "        if ',' in str(stem):\n",
    "            # print(stem)\n",
    "            b=stem.split(\",\")\n",
    "            v=0\n",
    "            for j in b:\n",
    "                plant_id=i+1\n",
    "                s_type=list_color.index(str(j).strip().lower())+1\n",
    "\n",
    "                myfile.write(\"    \"+\"(\"+str(plant_id)+ \",\" +str(s_type) +\")\"+\"\\n\")\n",
    "\n",
    "        elif str(stem)=='nan':\n",
    "            plant_id=i+1\n",
    "            s_type=list_color.index('unknown')+1\n",
    "            myfile.write(\"    \"+\"(\"+str(plant_id)+ \",\" + str(s_type) +\")\"+\"\\n\")\n",
    "        else:\n",
    "            plant_id=i+1\n",
    "            s_type=list_color.index(str(stem).strip().lower())+1\n",
    "\n",
    "            myfile.write(\"    \"+\"(\"+str(plant_id)+ \",\"  +str(s_type) +\")\"+\"\\n\")\n",
    "        i+=1\n",
    "\n",
    "\n",
    "    myfile.write(\"RETURNING *;\")"
   ]
  },
  {
   "cell_type": "code",
   "execution_count": 118,
   "id": "95fa0de7-0cfc-4eb4-b7f6-847e07f83e73",
   "metadata": {
    "tags": []
   },
   "outputs": [
    {
     "data": {
      "text/plain": [
       "'yellow,brown'"
      ]
     },
     "execution_count": 118,
     "metadata": {},
     "output_type": "execute_result"
    }
   ],
   "source": [
    "color_type[881]"
   ]
  },
  {
   "cell_type": "code",
   "execution_count": 119,
   "id": "7886afc9-b77c-4eb9-837e-26e5ff589c47",
   "metadata": {
    "tags": []
   },
   "outputs": [
    {
     "data": {
      "text/plain": [
       "'0001.jpg'"
      ]
     },
     "execution_count": 119,
     "metadata": {},
     "output_type": "execute_result"
    }
   ],
   "source": [
    "image_list=[]\n",
    "with open('image_list.txt', 'r') as f:\n",
    "    contents = f.readlines(\n",
    "    )\n",
    "    for i in contents:\n",
    "        image_list.append(i.replace(\"\\n\",\"\"))\n",
    "image_list [0]  "
   ]
  },
  {
   "cell_type": "code",
   "execution_count": 120,
   "id": "95eea54b-8a60-417b-996e-d696812e34d0",
   "metadata": {
    "tags": []
   },
   "outputs": [
    {
     "data": {
      "text/plain": [
       "765"
      ]
     },
     "execution_count": 120,
     "metadata": {},
     "output_type": "execute_result"
    }
   ],
   "source": [
    "image_list.index(\"01787.jpg\")"
   ]
  },
  {
   "cell_type": "code",
   "execution_count": 121,
   "id": "6fa495cc-4128-429a-9327-d617f5cfb09a",
   "metadata": {
    "tags": []
   },
   "outputs": [
    {
     "data": {
      "text/plain": [
       "2444"
      ]
     },
     "execution_count": 121,
     "metadata": {},
     "output_type": "execute_result"
    }
   ],
   "source": [
    "len(image_list)"
   ]
  },
  {
   "cell_type": "markdown",
   "id": "2fa42183-ea21-4f58-9943-a1b9a8c07a82",
   "metadata": {},
   "source": [
    "# Photos"
   ]
  },
  {
   "cell_type": "code",
   "execution_count": 122,
   "id": "eb64a7c1-0483-44de-89bf-d4edf551ed95",
   "metadata": {
    "tags": []
   },
   "outputs": [
    {
     "name": "stdout",
     "output_type": "stream",
     "text": [
      "44\n",
      "53\n",
      "80\n",
      "131\n",
      "185\n",
      "316\n",
      "321\n",
      "348\n",
      "422\n",
      "466\n",
      "607\n",
      "676\n",
      "815\n"
     ]
    }
   ],
   "source": [
    "# extract insect photo colums\n",
    "species_all=df['species name'].to_list()\n",
    "photos1=df['Fruit photo no. 1'].to_list()\n",
    "photos2=df['Fruit photo no. 2'].to_list()\n",
    "photos3=df['Fruit photo no. 3'].to_list()\n",
    "photos4=df['Fruit photo no. 4'].to_list()\n",
    "all_photos=[photos1,photos2,photos3,photos4]\n",
    "no_photos=[]\n",
    "\n",
    "with open('plant_photos.sql','w') as myfile:\n",
    "    b=1\n",
    "    myfile.write(\"INSERT INTO plants_photos(plant_id,photo_id,photo_name)\" + \"\\n\"+\"VALUES \"+\"\\n\")\n",
    "    for i in range(0,len(species_all)):\n",
    "        plant_id=i\n",
    "        photo_name=[]\n",
    "        photos=[photos1[i],photos2[i],photos3[i],photos4[i]]\n",
    "        #get plants with no photos\n",
    "        l=str(photos).count(\"nan\")\n",
    "        if l==4:\n",
    "            no_photos.append(i)\n",
    "        elif l!= 4:\n",
    "            all_not_in_original = True\n",
    "            for photo in photos:\n",
    "                if len(str(photo)) == 6:\n",
    "                    photo_value = \"0\" + str(photo).split('.')[0] + \".jpg\"\n",
    "                    # print(photo_value)\n",
    "                elif len(str(photo)) == 5:\n",
    "                    photo_value = \"0\" + str(photo).split('.')[0] + \".jpg\"\n",
    "                elif len(str(photo)) == 4:\n",
    "                    photo_value = \"00\" + str(photo).split('.')[0] + \".jpg\"\n",
    "                elif len(str(photo)) == 3:\n",
    "                    photo_value = \"000\" + str(photo).split('.')[0] + \".jpg\"\n",
    "                elif len(str(photo)) == 2:\n",
    "                    photo_value = \"000\" + str(photo).split('.')[0] + \".jpg\"\n",
    "                elif len(str(photo)) == 1:\n",
    "                    photo_value = \"0000\" + str(photo).split('.')[0] + \".jpg\"\n",
    "\n",
    "                if photo_value in image_list:\n",
    "                    # print(photo_value)\n",
    "                    all_not_in_original = False\n",
    "                    break\n",
    "            if all_not_in_original:\n",
    "                no_photos.append(i)\n",
    "                print(i)\n",
    "        else:\n",
    "            pass# else:\n",
    "         #     print(photos)\n",
    "\n",
    "            # print(i+1)\n",
    "        for f in photos:\n",
    "            # print(f)\n",
    "            # print(type(str(f)))\n",
    "            if str(f)=='nan':\n",
    "                # print(photos)\n",
    "                pass\n",
    "            else:\n",
    "                if  len(str(f))==6:\n",
    "                    # print(f)\n",
    "                    k=\"0\"+ str(f).split('.')[0]+ \".jpg\"\n",
    "                    if k in image_list:\n",
    "                        # print(k)\n",
    "                        myfile.write(\"(\" +str(i+1)+\",\" +str(b)+\",\"+\"'\" + \"0\"+ str(f).split('.')[0]+ \".jpg\"+\"'\"+\"),\"+\"\\n\")\n",
    "                        b+=1\n",
    "                        # print(photos)\n",
    "                        # print(k)\n",
    "\n",
    "                elif  len(str(f))==5:\n",
    "                    # print(f)\n",
    "                    k=\"0\"+str(f).split('.')[0]+ \".jpg\"\n",
    "                    # print(k)\n",
    "                    if k in image_list:\n",
    "                        myfile.write(\"(\" +str(i+1)+\",\"+str(b)+\",\" + \"'\"+\"0\"+str(f).split('.')[0]+ \".jpg\" + \"'\"+\"),\"+\"\\n\")\n",
    "                        b+=1\n",
    "                    \n",
    "                elif len(str(f))==4:\n",
    "                    # print(f)\n",
    "                    k=\"00\"+str(f).split('.')[0]+ \".jpg\"\n",
    "\n",
    "                    if k in image_list:\n",
    "                        myfile.write(\"(\" +str(i+1)+\",\" +str(b)+\",\" \"'\"+\"00\"+str(f).split('.')[0]+ \".jpg\" +\"'\"+\"),\"+\"\\n\")\n",
    "                        b+=1\n",
    "                    \n",
    "                elif len(str(f))==3:\n",
    "                    k=\"000\"+str(f).split('.')[0]+ \".jpg\"\n",
    "                    if k in image_list:\n",
    "                        # print(k)\n",
    "                        myfile.write(\"(\" +str(i+1)+\",\" +str(b)+\",\"+\"'\" +\"000\"+str(f).split('.')[0]+ \".jpg\" +\"'\"+\"),\"+\"\\n\")\n",
    "                        b+=1\n",
    "                    \n",
    "                    \n",
    "                elif len(str(f))==2:\n",
    "                    k=\"000\"+str(f).split('.')[0]+ \".jpg\"\n",
    "                    if k in image_list:\n",
    "                        myfile.write(\"(\" +str(i+1)+\",\" +str(b)+\",\"+\"'\" +\"000\"+str(f).split('.')[0]+ \".jpg\" +\"'\"+\"),\"+\"\\n\")\n",
    "                        b+=1\n",
    "                \n",
    "                elif len(str(f))==1:\n",
    "                    k=\"0000\"+str(f).split('.')[0]+ \".jpg\"\n",
    "                    if k in image_list:\n",
    "                        myfile.write(\"(\" +str(i+1)+\",\" +str(b)+\",\"+\"'\"+\"0000\"+str(f).split('.')[0]+ \".jpg\"+ \"'\"+\"),\"+\"\\n\")\n",
    "                        b+=1\n",
    "                 \n",
    "                # print(f)\n",
    "        i+=1\n",
    "        \n",
    "    myfile.write(\"RETURNING *;\")\n",
    "        \n",
    "                    # p_id=i+1\n",
    "                    # photo=str(k).split(\".\")[0]\n",
    "                    # myfile.write(\"    \"+\"(\"+str(plant_id)+ str(b)+\",\" +photo +\")\"+\"\\n\")\n",
    "                    # break\n",
    "                "
   ]
  },
  {
   "cell_type": "code",
   "execution_count": 123,
   "id": "fdd0ba05-a7fb-4244-bc6d-2981ed1347c5",
   "metadata": {
    "tags": []
   },
   "outputs": [],
   "source": [
    "genus_all=df['genus'].to_list()"
   ]
  },
  {
   "cell_type": "markdown",
   "id": "6e0dc8e4-77fe-4a4a-8172-4c96309f0c66",
   "metadata": {},
   "source": [
    "# Plats with no photos "
   ]
  },
  {
   "cell_type": "code",
   "execution_count": 124,
   "id": "b5c67ed8-cd21-4fab-a2e6-718bc6423171",
   "metadata": {
    "tags": []
   },
   "outputs": [],
   "source": [
    "no_photos_plants=[]\n",
    "for i in no_photos:\n",
    "    no_photos_plants.append(genus_all[i]+\" \"+species_all[i])\n",
    "no_photos_plants\n",
    "\n",
    "# List of items\n",
    "\n",
    "# File path\n",
    "\n",
    "# Open the file in write mode\n",
    "with open(\"plants_with_no_photos.txt\", 'w') as file:\n",
    "    # Iterate over the list\n",
    "    for item in no_photos_plants:\n",
    "        # Write each item to a new line in the file\n",
    "        file.write(item + '\\n')\n"
   ]
  },
  {
   "cell_type": "code",
   "execution_count": 125,
   "id": "d98820be-ad34-4c36-a841-b8f14b49a89d",
   "metadata": {
    "tags": []
   },
   "outputs": [
    {
     "data": {
      "text/html": [
       "<div>\n",
       "<style scoped>\n",
       "    .dataframe tbody tr th:only-of-type {\n",
       "        vertical-align: middle;\n",
       "    }\n",
       "\n",
       "    .dataframe tbody tr th {\n",
       "        vertical-align: top;\n",
       "    }\n",
       "\n",
       "    .dataframe thead th {\n",
       "        text-align: right;\n",
       "    }\n",
       "</style>\n",
       "<table border=\"1\" class=\"dataframe\">\n",
       "  <thead>\n",
       "    <tr style=\"text-align: right;\">\n",
       "      <th></th>\n",
       "      <th>old Plant family</th>\n",
       "      <th>new</th>\n",
       "      <th>cf?</th>\n",
       "      <th>new Plant family</th>\n",
       "      <th>Plant species with new names merged</th>\n",
       "      <th>genus</th>\n",
       "      <th>species name</th>\n",
       "      <th>Lepidoptera</th>\n",
       "      <th>Lep species</th>\n",
       "      <th>lep species codes</th>\n",
       "      <th>...</th>\n",
       "      <th>Minimum altitude</th>\n",
       "      <th>Maximum altitude</th>\n",
       "      <th>K sector</th>\n",
       "      <th>UKWF area</th>\n",
       "      <th>leaf type</th>\n",
       "      <th>compound leaf type</th>\n",
       "      <th>leaf(let) margin</th>\n",
       "      <th>leaf arrangement</th>\n",
       "      <th>Region collected</th>\n",
       "      <th>fruiting months</th>\n",
       "    </tr>\n",
       "  </thead>\n",
       "  <tbody>\n",
       "    <tr>\n",
       "      <th>2</th>\n",
       "      <td>Euphorbiaceae</td>\n",
       "      <td>NaN</td>\n",
       "      <td>NaN</td>\n",
       "      <td>Euphorbiaceae</td>\n",
       "      <td>Acalypha neptunica Müll. Arg.</td>\n",
       "      <td>Acalypha</td>\n",
       "      <td>neptunica Müll. Arg.</td>\n",
       "      <td>NaN</td>\n",
       "      <td>NaN</td>\n",
       "      <td>NaN</td>\n",
       "      <td>...</td>\n",
       "      <td>1.0</td>\n",
       "      <td>1800.0</td>\n",
       "      <td>3,4,5,6,7</td>\n",
       "      <td>NaN</td>\n",
       "      <td>simple</td>\n",
       "      <td>NaN</td>\n",
       "      <td>serrate</td>\n",
       "      <td>alternate</td>\n",
       "      <td>co</td>\n",
       "      <td>7</td>\n",
       "    </tr>\n",
       "    <tr>\n",
       "      <th>3</th>\n",
       "      <td>Acanthaceae</td>\n",
       "      <td>2</td>\n",
       "      <td>NaN</td>\n",
       "      <td>Acanthaceae</td>\n",
       "      <td>Acanthopale pubescens (Engl.) C.B. Clarke</td>\n",
       "      <td>Acanthopale</td>\n",
       "      <td>pubescens (Engl.) C.B. Clarke</td>\n",
       "      <td>1.0</td>\n",
       "      <td>Cosmetra taitana</td>\n",
       "      <td>TCos_taita</td>\n",
       "      <td>...</td>\n",
       "      <td>1550.0</td>\n",
       "      <td>2700.0</td>\n",
       "      <td>1,3,4,5,6,7</td>\n",
       "      <td>NaN</td>\n",
       "      <td>simple</td>\n",
       "      <td>NaN</td>\n",
       "      <td>entire</td>\n",
       "      <td>opposite</td>\n",
       "      <td>cohi</td>\n",
       "      <td>8</td>\n",
       "    </tr>\n",
       "    <tr>\n",
       "      <th>12</th>\n",
       "      <td>Passifloraceae</td>\n",
       "      <td>NaN</td>\n",
       "      <td>NaN</td>\n",
       "      <td>Passifloraceae</td>\n",
       "      <td>Adenia lobata (Jacq.) Engl. ssp. rumicifolia (...</td>\n",
       "      <td>Adenia</td>\n",
       "      <td>lobata (Jacq.) Engl. ssp. rumicifolia (Engl. &amp;...</td>\n",
       "      <td>NaN</td>\n",
       "      <td>NaN</td>\n",
       "      <td>NaN</td>\n",
       "      <td>...</td>\n",
       "      <td>350.0</td>\n",
       "      <td>1800.0</td>\n",
       "      <td>1,4,5,6,7</td>\n",
       "      <td>NaN</td>\n",
       "      <td>simple</td>\n",
       "      <td>NaN</td>\n",
       "      <td>lobed,entire</td>\n",
       "      <td>alternate</td>\n",
       "      <td>co</td>\n",
       "      <td>7</td>\n",
       "    </tr>\n",
       "    <tr>\n",
       "      <th>20</th>\n",
       "      <td>Loranthaceae</td>\n",
       "      <td>NaN</td>\n",
       "      <td>cf</td>\n",
       "      <td>Loranthaceae</td>\n",
       "      <td>Agelanthus sp.</td>\n",
       "      <td>Agelanthus</td>\n",
       "      <td>sp.</td>\n",
       "      <td>NaN</td>\n",
       "      <td>NaN</td>\n",
       "      <td>NaN</td>\n",
       "      <td>...</td>\n",
       "      <td>NaN</td>\n",
       "      <td>NaN</td>\n",
       "      <td>NaN</td>\n",
       "      <td>NaN</td>\n",
       "      <td>simple</td>\n",
       "      <td>NaN</td>\n",
       "      <td>entire</td>\n",
       "      <td>opposite</td>\n",
       "      <td>ce</td>\n",
       "      <td>1</td>\n",
       "    </tr>\n",
       "    <tr>\n",
       "      <th>21</th>\n",
       "      <td>Loranthaceae</td>\n",
       "      <td>NaN</td>\n",
       "      <td>NaN</td>\n",
       "      <td>Loranthaceae</td>\n",
       "      <td>Agelanthus zizyphifolius (Engl.) Polhill &amp; Wiens</td>\n",
       "      <td>Agelanthus</td>\n",
       "      <td>zizyphifolius (Engl.) Polhill &amp; Wiens</td>\n",
       "      <td>NaN</td>\n",
       "      <td>NaN</td>\n",
       "      <td>NaN</td>\n",
       "      <td>...</td>\n",
       "      <td>1000.0</td>\n",
       "      <td>2590.0</td>\n",
       "      <td>NaN</td>\n",
       "      <td>hm,ha,hk,mum,rv,nan,emb,mac,kaj</td>\n",
       "      <td>simple</td>\n",
       "      <td>NaN</td>\n",
       "      <td>entire</td>\n",
       "      <td>opposite</td>\n",
       "      <td>cehi</td>\n",
       "      <td>5</td>\n",
       "    </tr>\n",
       "    <tr>\n",
       "      <th>...</th>\n",
       "      <td>...</td>\n",
       "      <td>...</td>\n",
       "      <td>...</td>\n",
       "      <td>...</td>\n",
       "      <td>...</td>\n",
       "      <td>...</td>\n",
       "      <td>...</td>\n",
       "      <td>...</td>\n",
       "      <td>...</td>\n",
       "      <td>...</td>\n",
       "      <td>...</td>\n",
       "      <td>...</td>\n",
       "      <td>...</td>\n",
       "      <td>...</td>\n",
       "      <td>...</td>\n",
       "      <td>...</td>\n",
       "      <td>...</td>\n",
       "      <td>...</td>\n",
       "      <td>...</td>\n",
       "      <td>...</td>\n",
       "      <td>...</td>\n",
       "    </tr>\n",
       "    <tr>\n",
       "      <th>859</th>\n",
       "      <td>Verbenaceae</td>\n",
       "      <td>NaN</td>\n",
       "      <td>NaN</td>\n",
       "      <td>Lamiaceae</td>\n",
       "      <td>Vitex mombassae Vatke</td>\n",
       "      <td>Vitex</td>\n",
       "      <td>mombassae Vatke</td>\n",
       "      <td>NaN</td>\n",
       "      <td>NaN</td>\n",
       "      <td>NaN</td>\n",
       "      <td>...</td>\n",
       "      <td>1.0</td>\n",
       "      <td>450.0</td>\n",
       "      <td>7</td>\n",
       "      <td>NaN</td>\n",
       "      <td>compound</td>\n",
       "      <td>trifoliolate,imparipinnate</td>\n",
       "      <td>entire</td>\n",
       "      <td>opposite</td>\n",
       "      <td>co</td>\n",
       "      <td>6</td>\n",
       "    </tr>\n",
       "    <tr>\n",
       "      <th>860</th>\n",
       "      <td>Verbenaceae</td>\n",
       "      <td>NaN</td>\n",
       "      <td>NaN</td>\n",
       "      <td>Lamiaceae</td>\n",
       "      <td>Vitex payos (Lour.) Merr.</td>\n",
       "      <td>Vitex</td>\n",
       "      <td>payos (Lour.) Merr.</td>\n",
       "      <td>NaN</td>\n",
       "      <td>NaN</td>\n",
       "      <td>NaN</td>\n",
       "      <td>...</td>\n",
       "      <td>1.0</td>\n",
       "      <td>1200.0</td>\n",
       "      <td>4,7</td>\n",
       "      <td>NaN</td>\n",
       "      <td>compound</td>\n",
       "      <td>imparipinnate</td>\n",
       "      <td>entire</td>\n",
       "      <td>opposite</td>\n",
       "      <td>co</td>\n",
       "      <td>7</td>\n",
       "    </tr>\n",
       "    <tr>\n",
       "      <th>861</th>\n",
       "      <td>Verbenaceae</td>\n",
       "      <td>NaN</td>\n",
       "      <td>NaN</td>\n",
       "      <td>Lamiaceae</td>\n",
       "      <td>Vitex schliebenii Moldenke</td>\n",
       "      <td>Vitex</td>\n",
       "      <td>schliebenii Moldenke</td>\n",
       "      <td>NaN</td>\n",
       "      <td>NaN</td>\n",
       "      <td>NaN</td>\n",
       "      <td>...</td>\n",
       "      <td>1.0</td>\n",
       "      <td>300.0</td>\n",
       "      <td>7</td>\n",
       "      <td>NaN</td>\n",
       "      <td>compound</td>\n",
       "      <td>NaN</td>\n",
       "      <td>NaN</td>\n",
       "      <td>opposite</td>\n",
       "      <td>co</td>\n",
       "      <td>7</td>\n",
       "    </tr>\n",
       "    <tr>\n",
       "      <th>874</th>\n",
       "      <td>Cucurbitaceae</td>\n",
       "      <td>NaN</td>\n",
       "      <td>NaN</td>\n",
       "      <td>Cucurbitaceae</td>\n",
       "      <td>Zehneria sp.</td>\n",
       "      <td>Zehneria</td>\n",
       "      <td>sp.</td>\n",
       "      <td>NaN</td>\n",
       "      <td>NaN</td>\n",
       "      <td>NaN</td>\n",
       "      <td>...</td>\n",
       "      <td>2330.0</td>\n",
       "      <td>2330.0</td>\n",
       "      <td>NaN</td>\n",
       "      <td>hn</td>\n",
       "      <td>simple</td>\n",
       "      <td>NaN</td>\n",
       "      <td>serrate</td>\n",
       "      <td>alternate</td>\n",
       "      <td>cehi</td>\n",
       "      <td>5</td>\n",
       "    </tr>\n",
       "    <tr>\n",
       "      <th>881</th>\n",
       "      <td>Rhamnaceae</td>\n",
       "      <td>NaN</td>\n",
       "      <td>NaN</td>\n",
       "      <td>Rhamnaceae</td>\n",
       "      <td>Ziziphus spina-christi (L.) Desf.</td>\n",
       "      <td>Ziziphus</td>\n",
       "      <td>spina-christi (L.) Desf.</td>\n",
       "      <td>NaN</td>\n",
       "      <td>NaN</td>\n",
       "      <td>NaN</td>\n",
       "      <td>...</td>\n",
       "      <td>300.0</td>\n",
       "      <td>600.0</td>\n",
       "      <td>1,2,6,7</td>\n",
       "      <td>NaN</td>\n",
       "      <td>simple</td>\n",
       "      <td>NaN</td>\n",
       "      <td>entire,serrate</td>\n",
       "      <td>alternate</td>\n",
       "      <td>nolo</td>\n",
       "      <td>5</td>\n",
       "    </tr>\n",
       "  </tbody>\n",
       "</table>\n",
       "<p>147 rows × 47 columns</p>\n",
       "</div>"
      ],
      "text/plain": [
       "    old Plant family  new  cf? new Plant family  \\\n",
       "2      Euphorbiaceae  NaN  NaN    Euphorbiaceae   \n",
       "3        Acanthaceae    2  NaN      Acanthaceae   \n",
       "12    Passifloraceae  NaN  NaN   Passifloraceae   \n",
       "20      Loranthaceae  NaN   cf     Loranthaceae   \n",
       "21      Loranthaceae  NaN  NaN     Loranthaceae   \n",
       "..               ...  ...  ...              ...   \n",
       "859      Verbenaceae  NaN  NaN        Lamiaceae   \n",
       "860      Verbenaceae  NaN  NaN        Lamiaceae   \n",
       "861      Verbenaceae  NaN  NaN        Lamiaceae   \n",
       "874    Cucurbitaceae  NaN  NaN    Cucurbitaceae   \n",
       "881       Rhamnaceae  NaN  NaN       Rhamnaceae   \n",
       "\n",
       "                   Plant species with new names merged        genus  \\\n",
       "2                        Acalypha neptunica Müll. Arg.     Acalypha   \n",
       "3            Acanthopale pubescens (Engl.) C.B. Clarke  Acanthopale   \n",
       "12   Adenia lobata (Jacq.) Engl. ssp. rumicifolia (...       Adenia   \n",
       "20                                      Agelanthus sp.   Agelanthus   \n",
       "21    Agelanthus zizyphifolius (Engl.) Polhill & Wiens   Agelanthus   \n",
       "..                                                 ...          ...   \n",
       "859                              Vitex mombassae Vatke        Vitex   \n",
       "860                          Vitex payos (Lour.) Merr.        Vitex   \n",
       "861                         Vitex schliebenii Moldenke        Vitex   \n",
       "874                                       Zehneria sp.     Zehneria   \n",
       "881                  Ziziphus spina-christi (L.) Desf.     Ziziphus   \n",
       "\n",
       "                                          species name  Lepidoptera   \\\n",
       "2                                 neptunica Müll. Arg.           NaN   \n",
       "3                        pubescens (Engl.) C.B. Clarke           1.0   \n",
       "12   lobata (Jacq.) Engl. ssp. rumicifolia (Engl. &...           NaN   \n",
       "20                                                 sp.           NaN   \n",
       "21               zizyphifolius (Engl.) Polhill & Wiens           NaN   \n",
       "..                                                 ...           ...   \n",
       "859                                    mombassae Vatke           NaN   \n",
       "860                                payos (Lour.) Merr.           NaN   \n",
       "861                               schliebenii Moldenke           NaN   \n",
       "874                                                sp.           NaN   \n",
       "881                           spina-christi (L.) Desf.           NaN   \n",
       "\n",
       "          Lep species lep species codes  ... Minimum altitude  \\\n",
       "2                 NaN               NaN  ...              1.0   \n",
       "3    Cosmetra taitana        TCos_taita  ...           1550.0   \n",
       "12                NaN               NaN  ...            350.0   \n",
       "20                NaN               NaN  ...              NaN   \n",
       "21                NaN               NaN  ...           1000.0   \n",
       "..                ...               ...  ...              ...   \n",
       "859               NaN               NaN  ...              1.0   \n",
       "860               NaN               NaN  ...              1.0   \n",
       "861               NaN               NaN  ...              1.0   \n",
       "874               NaN               NaN  ...           2330.0   \n",
       "881               NaN               NaN  ...            300.0   \n",
       "\n",
       "    Maximum altitude     K sector                        UKWF area  leaf type  \\\n",
       "2             1800.0    3,4,5,6,7                              NaN     simple   \n",
       "3             2700.0  1,3,4,5,6,7                              NaN     simple   \n",
       "12            1800.0    1,4,5,6,7                              NaN     simple   \n",
       "20               NaN          NaN                              NaN     simple   \n",
       "21            2590.0          NaN  hm,ha,hk,mum,rv,nan,emb,mac,kaj     simple   \n",
       "..               ...          ...                              ...        ...   \n",
       "859            450.0            7                              NaN   compound   \n",
       "860           1200.0          4,7                              NaN   compound   \n",
       "861            300.0            7                              NaN   compound   \n",
       "874           2330.0          NaN                               hn     simple   \n",
       "881            600.0      1,2,6,7                              NaN     simple   \n",
       "\n",
       "             compound leaf type  leaf(let) margin  leaf arrangement  \\\n",
       "2                           NaN           serrate         alternate   \n",
       "3                           NaN            entire          opposite   \n",
       "12                          NaN      lobed,entire         alternate   \n",
       "20                          NaN            entire          opposite   \n",
       "21                          NaN            entire          opposite   \n",
       "..                          ...               ...               ...   \n",
       "859  trifoliolate,imparipinnate            entire          opposite   \n",
       "860               imparipinnate            entire          opposite   \n",
       "861                         NaN               NaN          opposite   \n",
       "874                         NaN           serrate         alternate   \n",
       "881                         NaN    entire,serrate         alternate   \n",
       "\n",
       "    Region collected  fruiting months  \n",
       "2                 co                7  \n",
       "3               cohi                8  \n",
       "12                co                7  \n",
       "20                ce                1  \n",
       "21              cehi                5  \n",
       "..               ...              ...  \n",
       "859               co                6  \n",
       "860               co                7  \n",
       "861               co                7  \n",
       "874             cehi                5  \n",
       "881             nolo                5  \n",
       "\n",
       "[147 rows x 47 columns]"
      ]
     },
     "execution_count": 125,
     "metadata": {},
     "output_type": "execute_result"
    }
   ],
   "source": [
    "no_photo=[]\n",
    "for i in no_photos:\n",
    "    no_photo.append(i)\n",
    "no_photos_plants\n",
    "\n",
    "# List of items\n",
    "\n",
    "# File path\n",
    "import pandas as pd\n",
    "\n",
    "#Assuming you have a DataFrame called 'df'\n",
    "\n",
    "#List of indices you want to extract\n",
    "index_list = no_photo\n",
    "\n",
    "# Extract rows based on the index list using 'loc'\n",
    "selected_rows = df.loc[index_list]\n",
    "\n",
    "# # Alternatively, you can use 'iloc' if the index list contains the positions\n",
    "# # of the rows rather than their labels\n",
    "# selected_rows = df.iloc[index_list]\n",
    "selected_rows.to_excel('plants_with-no_phoos.xlsx', index=False)\n",
    "selected_rows"
   ]
  },
  {
   "cell_type": "code",
   "execution_count": 126,
   "id": "e5b247e4-0ba6-49ac-9a91-80b4cc88f0d2",
   "metadata": {
    "tags": []
   },
   "outputs": [],
   "source": [
    "# no_photos"
   ]
  },
  {
   "cell_type": "markdown",
   "id": "55573adb-ef6b-46d2-836e-b2c9095a985d",
   "metadata": {},
   "source": [
    "# Fruit shape"
   ]
  },
  {
   "cell_type": "code",
   "execution_count": 127,
   "id": "c5d14af8-7e2e-4d0f-9465-036e9ba8a18d",
   "metadata": {
    "tags": []
   },
   "outputs": [
    {
     "data": {
      "text/plain": [
       "47"
      ]
     },
     "execution_count": 127,
     "metadata": {},
     "output_type": "execute_result"
    }
   ],
   "source": [
    "shape=[]\n",
    "shape_type=list(df['Fruit shape'])\n",
    "for i in shape_type:\n",
    "    if ',' in str(i):\n",
    "        y=i.split(\",\")\n",
    "        for v in y:\n",
    "            shape.append(v.strip().lower())\n",
    "    elif type(i) ==float:\n",
    "        shape.append('unknown')\n",
    "    else:\n",
    "        shape.append(str(i).strip().lower())\n",
    "set_shape_list=set(shape)\n",
    "list_shape=list(set_shape_list)\n",
    "len(list_shape)"
   ]
  },
  {
   "cell_type": "code",
   "execution_count": 128,
   "id": "b63adca2-986e-4022-a34a-2d21cfed9b54",
   "metadata": {
    "tags": []
   },
   "outputs": [],
   "source": [
    "shape_type=list(df['Fruit shape'])\n",
    "with open('fruit_shapes.sql','w') as myfile:\n",
    "    myfile.write(\"INSERT INTO fruit_shapes(fruit_shape_id,shape)\" + \"\\n\"+\"VALUES \"+\"\\n\")\n",
    "\n",
    "    for i in range(0,len(list_shape)):\n",
    "        if i!=len(list_shape)-1:\n",
    "            myfile.write(\"    \"+\"(\"+str(i+1)+ \",\" + \"'\"+list_shape[i].strip() + \"'\"+\")\"+ \",\"+\"\\n\")\n",
    "            i+=1\n",
    "        else:\n",
    "            myfile.write(\"    \"+\"(\"+str(i+1)+ \",\" + \"'\"+list_shape[i].strip() + \"'\"+\")\"+\"\\n\")\n",
    "\n",
    "    myfile.write(\"RETURNING *;\")"
   ]
  },
  {
   "cell_type": "code",
   "execution_count": 129,
   "id": "b2d62a6e-275c-47f1-a37a-9bd507ddd326",
   "metadata": {
    "tags": []
   },
   "outputs": [],
   "source": [
    "# WORKING PERFECTLY\n",
    "shape_type=df['Fruit shape'].to_list()\n",
    "with open('plants_fruit_shapes.sql','w') as myfile:\n",
    "    myfile.write(\"INSERT INTO plants_fruit_shapes(plant_id,fruit_shape_id)\" + \"\\n\"+\"VALUES \"+\"\\n\")\n",
    "    for i in range(0,len(species_all)):\n",
    "        if i!=len(species_all)-1:\n",
    "            stem=shape_type[i]\n",
    "            # print(stem)\n",
    "            if ',' in str(stem):\n",
    "                b=stem.split(\",\")\n",
    "                v=0\n",
    "                for j in b:\n",
    "                    plant_id=i+1\n",
    "                    s_type=list_shape.index(j.strip().lower())+1\n",
    "            \n",
    "                    myfile.write(\"    \"+\"(\"+str(plant_id)+ \",\" +str(s_type) +\")\"+ \",\"+\"\\n\")\n",
    "                \n",
    "            else:\n",
    "                # print(i)\n",
    "                if str(stem)=='nan':\n",
    "                    plant_id=i+1\n",
    "                    s_type=list_shape.index('unknown')+1\n",
    "                    myfile.write(\"    \"+\"(\"+str(plant_id)+ \",\" + str(s_type) +\"),\"+\"\\n\")\n",
    "                else:\n",
    "                    plant_id=i+1\n",
    "                    s_type=list_shape.index(str(stem).strip().lower())+1\n",
    "\n",
    "                    myfile.write(\"    \"+\"(\"+str(plant_id)+ \",\"  +str(s_type) +\"),\"+\"\\n\")\n",
    "        # i+=1\n",
    "            # else:\n",
    "            #     plant_id=i+1\n",
    "            #     s_type=list_shape.index('unknown')+1\n",
    "            #     myfile.write(\"    \"+\"(\"+str(plant_id)+ \",\" +str(s_type) +\")\"+\",\"+\"\\n\")\n",
    "#         else:\n",
    "\n",
    "#             plant_id=i+1\n",
    "#             s_type=list_color.index(j.strip().lower())+1\n",
    "\n",
    "            # myfile.write(\"    \"+\"(\"+str(plant_id)+ \",\" + \"'\"+str(s_type) + \"'\"+\")\"+\"\\n\")\n",
    "    else:\n",
    "        stem=shape_type[i]\n",
    "\n",
    "        # print(i)\n",
    "        if ',' in str(stem):\n",
    "            b=stem.split(\",\")\n",
    "            v=0\n",
    "            for j in b:\n",
    "                plant_id=i+1\n",
    "                s_type=list_shape.index(j.strip().lower())+1\n",
    "\n",
    "                myfile.write(\"    \"+\"(\"+str(plant_id)+ \",\" +str(s_type) +\")\"+\"\\n\")\n",
    "\n",
    "        elif str(stem)=='nan':\n",
    "            plant_id=i+1\n",
    "            s_type=list_shape.index('unknown')+1\n",
    "            myfile.write(\"    \"+\"(\"+str(plant_id)+ \",\" + str(s_type) +\")\"+\"\\n\")\n",
    "        else:\n",
    "            plant_id=i+1\n",
    "            s_type=list_shape.index(str(stem).strip().lower())+1\n",
    "\n",
    "            myfile.write(\"    \"+\"(\"+str(plant_id)+ \",\"  +str(s_type) +\")\"+\"\\n\")\n",
    "    i+=1\n",
    "\n",
    "\n",
    "    myfile.write(\"RETURNING *;\")"
   ]
  },
  {
   "cell_type": "code",
   "execution_count": 130,
   "id": "53ed1bd8-e31b-4136-b07d-3d8cc4bdc489",
   "metadata": {
    "tags": []
   },
   "outputs": [
    {
     "data": {
      "text/html": [
       "<div>\n",
       "<style scoped>\n",
       "    .dataframe tbody tr th:only-of-type {\n",
       "        vertical-align: middle;\n",
       "    }\n",
       "\n",
       "    .dataframe tbody tr th {\n",
       "        vertical-align: top;\n",
       "    }\n",
       "\n",
       "    .dataframe thead th {\n",
       "        text-align: right;\n",
       "    }\n",
       "</style>\n",
       "<table border=\"1\" class=\"dataframe\">\n",
       "  <thead>\n",
       "    <tr style=\"text-align: right;\">\n",
       "      <th></th>\n",
       "      <th>old Plant family</th>\n",
       "      <th>new</th>\n",
       "      <th>cf?</th>\n",
       "      <th>new Plant family</th>\n",
       "      <th>Plant species with new names merged</th>\n",
       "      <th>genus</th>\n",
       "      <th>species name</th>\n",
       "      <th>Lepidoptera</th>\n",
       "      <th>Lep species</th>\n",
       "      <th>lep species codes</th>\n",
       "      <th>...</th>\n",
       "      <th>Minimum altitude</th>\n",
       "      <th>Maximum altitude</th>\n",
       "      <th>K sector</th>\n",
       "      <th>UKWF area</th>\n",
       "      <th>leaf type</th>\n",
       "      <th>compound leaf type</th>\n",
       "      <th>leaf(let) margin</th>\n",
       "      <th>leaf arrangement</th>\n",
       "      <th>Region collected</th>\n",
       "      <th>fruiting months</th>\n",
       "    </tr>\n",
       "  </thead>\n",
       "  <tbody>\n",
       "    <tr>\n",
       "      <th>0</th>\n",
       "      <td>Malvaceae</td>\n",
       "      <td>NaN</td>\n",
       "      <td>NaN</td>\n",
       "      <td>Malvaceae</td>\n",
       "      <td>Abutilon hirtum (Lam.) Sweet</td>\n",
       "      <td>Abutilon</td>\n",
       "      <td>hirtum (Lam.) Sweet</td>\n",
       "      <td>NaN</td>\n",
       "      <td>NaN</td>\n",
       "      <td>NaN</td>\n",
       "      <td>...</td>\n",
       "      <td>1.0</td>\n",
       "      <td>1350.0</td>\n",
       "      <td>1,2,3,4,6,7</td>\n",
       "      <td>NaN</td>\n",
       "      <td>simple</td>\n",
       "      <td>NaN</td>\n",
       "      <td>crenate,serrate</td>\n",
       "      <td>alternate</td>\n",
       "      <td>nomi</td>\n",
       "      <td>1</td>\n",
       "    </tr>\n",
       "    <tr>\n",
       "      <th>1</th>\n",
       "      <td>Malvaceae</td>\n",
       "      <td>NaN</td>\n",
       "      <td>NaN</td>\n",
       "      <td>Malvaceae</td>\n",
       "      <td>Abutilon mauritianum (Jacq.) Medic. sensu lato</td>\n",
       "      <td>Abutilon</td>\n",
       "      <td>mauritianum (Jacq.) Medic. sensu lato</td>\n",
       "      <td>1.0</td>\n",
       "      <td>NaN</td>\n",
       "      <td>t</td>\n",
       "      <td>...</td>\n",
       "      <td>1.0</td>\n",
       "      <td>2050.0</td>\n",
       "      <td>1,3,4,5,7</td>\n",
       "      <td>NaN</td>\n",
       "      <td>simple</td>\n",
       "      <td>NaN</td>\n",
       "      <td>serrate,crenate</td>\n",
       "      <td>alternate</td>\n",
       "      <td>cehi,co</td>\n",
       "      <td>8,11</td>\n",
       "    </tr>\n",
       "    <tr>\n",
       "      <th>2</th>\n",
       "      <td>Euphorbiaceae</td>\n",
       "      <td>NaN</td>\n",
       "      <td>NaN</td>\n",
       "      <td>Euphorbiaceae</td>\n",
       "      <td>Acalypha neptunica Müll. Arg.</td>\n",
       "      <td>Acalypha</td>\n",
       "      <td>neptunica Müll. Arg.</td>\n",
       "      <td>NaN</td>\n",
       "      <td>NaN</td>\n",
       "      <td>NaN</td>\n",
       "      <td>...</td>\n",
       "      <td>1.0</td>\n",
       "      <td>1800.0</td>\n",
       "      <td>3,4,5,6,7</td>\n",
       "      <td>NaN</td>\n",
       "      <td>simple</td>\n",
       "      <td>NaN</td>\n",
       "      <td>serrate</td>\n",
       "      <td>alternate</td>\n",
       "      <td>co</td>\n",
       "      <td>7</td>\n",
       "    </tr>\n",
       "    <tr>\n",
       "      <th>3</th>\n",
       "      <td>Acanthaceae</td>\n",
       "      <td>2</td>\n",
       "      <td>NaN</td>\n",
       "      <td>Acanthaceae</td>\n",
       "      <td>Acanthopale pubescens (Engl.) C.B. Clarke</td>\n",
       "      <td>Acanthopale</td>\n",
       "      <td>pubescens (Engl.) C.B. Clarke</td>\n",
       "      <td>1.0</td>\n",
       "      <td>Cosmetra taitana</td>\n",
       "      <td>TCos_taita</td>\n",
       "      <td>...</td>\n",
       "      <td>1550.0</td>\n",
       "      <td>2700.0</td>\n",
       "      <td>1,3,4,5,6,7</td>\n",
       "      <td>NaN</td>\n",
       "      <td>simple</td>\n",
       "      <td>NaN</td>\n",
       "      <td>entire</td>\n",
       "      <td>opposite</td>\n",
       "      <td>cohi</td>\n",
       "      <td>8</td>\n",
       "    </tr>\n",
       "    <tr>\n",
       "      <th>4</th>\n",
       "      <td>Acanthaceae</td>\n",
       "      <td>NaN</td>\n",
       "      <td>NaN</td>\n",
       "      <td>Acanthaceae</td>\n",
       "      <td>Acanthus eminens C. B. Clarke</td>\n",
       "      <td>Acanthus</td>\n",
       "      <td>eminens C. B. Clarke</td>\n",
       "      <td>1.0</td>\n",
       "      <td>Endothenia ator</td>\n",
       "      <td>TEndoth_ator</td>\n",
       "      <td>...</td>\n",
       "      <td>1500.0</td>\n",
       "      <td>2650.0</td>\n",
       "      <td>2,3,4,5,6</td>\n",
       "      <td>NaN</td>\n",
       "      <td>simple</td>\n",
       "      <td>NaN</td>\n",
       "      <td>spiny</td>\n",
       "      <td>opposite</td>\n",
       "      <td>wehi</td>\n",
       "      <td>2</td>\n",
       "    </tr>\n",
       "  </tbody>\n",
       "</table>\n",
       "<p>5 rows × 47 columns</p>\n",
       "</div>"
      ],
      "text/plain": [
       "  old Plant family  new  cf? new Plant family  \\\n",
       "0        Malvaceae  NaN  NaN        Malvaceae   \n",
       "1        Malvaceae  NaN  NaN        Malvaceae   \n",
       "2    Euphorbiaceae  NaN  NaN    Euphorbiaceae   \n",
       "3      Acanthaceae    2  NaN      Acanthaceae   \n",
       "4      Acanthaceae  NaN  NaN      Acanthaceae   \n",
       "\n",
       "              Plant species with new names merged        genus  \\\n",
       "0                    Abutilon hirtum (Lam.) Sweet     Abutilon   \n",
       "1  Abutilon mauritianum (Jacq.) Medic. sensu lato     Abutilon   \n",
       "2                   Acalypha neptunica Müll. Arg.     Acalypha   \n",
       "3       Acanthopale pubescens (Engl.) C.B. Clarke  Acanthopale   \n",
       "4                   Acanthus eminens C. B. Clarke     Acanthus   \n",
       "\n",
       "                            species name  Lepidoptera        Lep species  \\\n",
       "0                    hirtum (Lam.) Sweet           NaN               NaN   \n",
       "1  mauritianum (Jacq.) Medic. sensu lato           1.0               NaN   \n",
       "2                   neptunica Müll. Arg.           NaN               NaN   \n",
       "3          pubescens (Engl.) C.B. Clarke           1.0  Cosmetra taitana   \n",
       "4                   eminens C. B. Clarke           1.0   Endothenia ator   \n",
       "\n",
       "  lep species codes  ... Minimum altitude Maximum altitude     K sector  \\\n",
       "0               NaN  ...              1.0           1350.0  1,2,3,4,6,7   \n",
       "1                 t  ...              1.0           2050.0    1,3,4,5,7   \n",
       "2               NaN  ...              1.0           1800.0    3,4,5,6,7   \n",
       "3        TCos_taita  ...           1550.0           2700.0  1,3,4,5,6,7   \n",
       "4      TEndoth_ator  ...           1500.0           2650.0    2,3,4,5,6   \n",
       "\n",
       "   UKWF area  leaf type  compound leaf type  leaf(let) margin  \\\n",
       "0        NaN     simple                 NaN   crenate,serrate   \n",
       "1        NaN     simple                 NaN   serrate,crenate   \n",
       "2        NaN     simple                 NaN           serrate   \n",
       "3        NaN     simple                 NaN            entire   \n",
       "4        NaN     simple                 NaN             spiny   \n",
       "\n",
       "   leaf arrangement Region collected  fruiting months  \n",
       "0         alternate             nomi                1  \n",
       "1         alternate          cehi,co             8,11  \n",
       "2         alternate               co                7  \n",
       "3          opposite             cohi                8  \n",
       "4          opposite             wehi                2  \n",
       "\n",
       "[5 rows x 47 columns]"
      ]
     },
     "execution_count": 130,
     "metadata": {},
     "output_type": "execute_result"
    }
   ],
   "source": [
    "df.head()"
   ]
  },
  {
   "cell_type": "markdown",
   "id": "455f99e6-92dc-454d-8c38-34244a62aea2",
   "metadata": {},
   "source": [
    "# Fruit sizes"
   ]
  },
  {
   "cell_type": "code",
   "execution_count": 131,
   "id": "0150f8d1-0655-4bec-970d-5293fc1ace33",
   "metadata": {
    "tags": []
   },
   "outputs": [],
   "source": [
    "sizes=list(df.columns[27:32])"
   ]
  },
  {
   "cell_type": "code",
   "execution_count": 132,
   "id": "36601a7d-3a2c-4f05-b1c6-6fe3576119b5",
   "metadata": {
    "tags": []
   },
   "outputs": [],
   "source": [
    "sizes=[\"less than 10 mm\",\"10-15 mm\",\"15-25 mm\",\"25-40mm\",\"more than 40 mm\"]\n",
    "with open('fruit_sizes.sql','w') as myfile:\n",
    "    myfile.write(\"INSERT INTO fruit_sizes(id,size)\" + \"\\n\"+\"VALUES \"+\"\\n\")\n",
    "\n",
    "    for i in range(0,len(sizes)):\n",
    "        if i!=len(sizes)-1:\n",
    "            myfile.write(\"    \"+\"(\"+str(i+1)+ \",\" + \"'\"+sizes[i].strip() + \"'\"+\")\"+ \",\"+\"\\n\")\n",
    "            i+=1\n",
    "        else:\n",
    "            myfile.write(\"    \"+\"(\"+str(i+1)+ \",\" + \"'\"+sizes[i].strip() + \"'\"+\")\"+\"\\n\")\n",
    "\n",
    "    myfile.write(\"RETURNING *;\")"
   ]
  },
  {
   "cell_type": "code",
   "execution_count": 133,
   "id": "fe574079-b176-4947-9cd4-e920fd76d7eb",
   "metadata": {
    "tags": []
   },
   "outputs": [],
   "source": [
    "species_all=df['species name'].to_list()\n",
    "fruit1=df['fruit less than 10 mm'].to_list()\n",
    "fruit2=df['fruit 10-15 mm'].to_list()\n",
    "fruit3=df['fruit > 15 <25 mm'].to_list()\n",
    "fruit4=df['fruit >25 mm < 40mm'].to_list()\n",
    "fruit5=df['fruit >40mm'].to_list()\n",
    "with open('plants_fruit_sizes.sql','w') as myfile:\n",
    "    b=1\n",
    "    myfile.write(\"INSERT INTO plants_fruit_sizes(plant_id,fruit_size_id)\" + \"\\n\"+\"VALUES \"+\"\\n\")\n",
    "    for i in range(0,len(species_all)):\n",
    "        plant_id=i\n",
    "        photo_name=[]\n",
    "        sizes=[fruit1[i],fruit2[i],fruit3[i],fruit4[i],fruit5[i]]\n",
    "        for key,value in enumerate(sizes):\n",
    "            # print(type(str(f)))\n",
    "            if str(value)=='nan':\n",
    "                pass\n",
    "            else:\n",
    "                # print(key)\n",
    "                myfile.write(\"(\" +str(i+1)+\",\" + str(key+1) +\"),\"+\"\\n\")\n",
    "                b+=1\n",
    "\n",
    "        i+=1\n",
    "        \n",
    "    myfile.write(\"RETURNING *;\")\n",
    "        \n",
    "                    # p_id=i+1\n",
    "                    # photo=str(k).split(\".\")[0]\n",
    "                    # myfile.write(\"    \"+\"(\"+str(plant_id)+ str(b)+\",\" +photo +\")\"+\"\\n\")\n",
    "                    # break\n",
    "                "
   ]
  },
  {
   "cell_type": "markdown",
   "id": "5f9d369a-06df-4a04-8a62-cb35f3fae24f",
   "metadata": {},
   "source": [
    "# Leaf margin type"
   ]
  },
  {
   "cell_type": "code",
   "execution_count": 134,
   "id": "5197d094-b247-4825-95c6-cf31a498b297",
   "metadata": {
    "tags": []
   },
   "outputs": [],
   "source": [
    "leaf_type=df['leaf(let) margin'].to_list()\n",
    "leaf_type_list=[]\n",
    "for i in leaf_type:\n",
    "    if ',' in str(i):\n",
    "        y=i.split(\",\")\n",
    "        for v in y:\n",
    "            leaf_type_list.append(v.lower().strip())\n",
    "    elif type(i) ==float:\n",
    "        leaf_type_list.append('unknown')\n",
    "    else:\n",
    "            leaf_type_list.append(str(i).lower().strip())\n",
    "set_leaf_type_list=set(leaf_type_list)\n",
    "set_leaf_type_list\n",
    "list_leaf_margin=list(set_leaf_type_list)\n",
    "len(list_leaf_margin)\n",
    "list_margin_leaf_type=list_leaf_margin"
   ]
  },
  {
   "cell_type": "code",
   "execution_count": 135,
   "id": "57401a20-451d-4346-83f3-d231a1a8bafc",
   "metadata": {
    "tags": []
   },
   "outputs": [],
   "source": [
    "with open('leaf_margins.sql','w') as myfile:\n",
    "    myfile.write(\"INSERT INTO leaf_margins(leaf_margin_id,type_of_leaf_margin)\" + \"\\n\"+\"VALUES \"+\"\\n\")\n",
    "\n",
    "    for i in range(0,len(list_leaf_margin)):\n",
    "        if i!=len(list_leaf_margin)-1:\n",
    "            myfile.write(\"    \"+\"(\"+str(i+1)+ \",\" + \"'\"+list_leaf_margin[i].strip() + \"'\"+\")\"+ \",\"+\"\\n\")\n",
    "            i+=1\n",
    "        else:\n",
    "            myfile.write(\"    \"+\"(\"+str(i+1)+ \",\" + \"'\"+list_leaf_margin[i].strip() + \"'\"+\")\"+\"\\n\")\n",
    "\n",
    "    myfile.write(\"RETURNING *;\")"
   ]
  },
  {
   "cell_type": "code",
   "execution_count": 136,
   "id": "e2f55ab8-5050-4ccd-ba69-0b170193879a",
   "metadata": {
    "tags": []
   },
   "outputs": [],
   "source": [
    "margin_leaf_type=df['leaf(let) margin'].to_list()\n",
    "list_margin_leaf_type=list_leaf_margin\n",
    "with open('plants_leaf_margins.sql','w') as myfile:\n",
    "    myfile.write(\"INSERT INTO plants_leaf_margins(plant_id,leaf_margin_id)\" + \"\\n\"+\"VALUES \"+\"\\n\")\n",
    "    for i in range(0,len(species_all)):\n",
    "        if i!=len(species_all)-1:\n",
    "            margin_leaf=margin_leaf_type[i]\n",
    "            if ',' in str(margin_leaf).strip():\n",
    "                b=str(margin_leaf).strip().split(\",\")\n",
    "                v=0\n",
    "                for j in b:\n",
    "                    plant_id=i+1\n",
    "                    s_type=list_margin_leaf_type.index(j.strip().lower())+1\n",
    "  \t \n",
    "                    myfile.write(\" \"+\"(\"+str(plant_id)+ \",\" +str(s_type) +\")\"+ \",\"+\"\\n\")\n",
    "                i+=1\n",
    "\n",
    "            elif str(margin_leaf).strip().lower()!='nan':\n",
    "                if str(margin_leaf).strip().lower()!='n':\n",
    "                    plant_id=i+1\n",
    "                    s_type=list_margin_leaf_type.index(str(margin_leaf.strip().lower()))+1\n",
    "                    myfile.write(\" \"+\"(\"+str(plant_id)+ \",\" +str(s_type) +\")\"+\",\"+\"\\n\")\n",
    "                    i+=1\n",
    "\n",
    "                elif str(margin_leaf).strip().lower()=='n':\n",
    "                    plant_id=i+1\n",
    "                    s_type=list_margin_leaf_type.index('unknown')+1\n",
    "                    myfile.write(\" \"+\"(\"+str(plant_id)+ \",\" +str(s_type) +\")\"+\",\"+\"\\n\")\n",
    "                    i+=1\n",
    "            else:\n",
    "                if str(margin_leaf).strip().lower()=='nan' or str(margin_leaf).strip().lower()=='nan':\n",
    "                    plant_id=i+1\n",
    "                    s_type=list_margin_leaf_type.index('unknown')+1\n",
    "                    myfile.write(\" \"+\"(\"+str(plant_id)+ \",\" +str(s_type) +\")\"+\",\"+\"\\n\")\n",
    "                    i+=1\n",
    "\n",
    "        else:\n",
    "            margin_leaf=margin_leaf_type[i]\n",
    "            if ',' in str(margin_leaf).strip().lower():\n",
    "                b=margin_leaf.split(\",\")\n",
    "                v=0\n",
    "                for j in b:\n",
    "                    plant_id=i+1\n",
    "                    s_type=list_margin_leaf_type.index(j.strip().lower())+1\n",
    "\n",
    "                    myfile.write(\" \"+\"(\"+str(plant_id)+ \",\" +str(s_type) +\")\"+\"\\n\")\n",
    "                i+=1\n",
    "\n",
    "            elif str(margin_leaf).strip()=='nan':\n",
    "                plant_id=i+1\n",
    "                s_type=list_margin_leaf_type.index('unknown')+1\n",
    "                myfile.write(\" \"+\"(\"+str(plant_id)+ \",\" + str(s_type) +\")\"+\"\\n\")\n",
    "                i+=1\n",
    "            else:\n",
    "                plant_id=i+1\n",
    "                s_type=list_margin_leaf_type.index(margin_leaf.lower())+1\n",
    "\n",
    "                myfile.write(\" \"+\"(\"+str(plant_id)+ \",\"  +str(s_type) +\")\"+\"\\n\")\n",
    "                i+=1\n",
    "\n",
    "\n",
    "    myfile.write(\"RETURNING *;\")\n",
    "\n",
    "\n"
   ]
  },
  {
   "cell_type": "markdown",
   "id": "a0f18e3b-f41a-4a57-8c5c-9c61f27c5ff1",
   "metadata": {},
   "source": [
    "# Leaf arrangements"
   ]
  },
  {
   "cell_type": "code",
   "execution_count": 137,
   "id": "e4bc8fda-2607-4e09-b28c-3e2fafbd09af",
   "metadata": {
    "tags": []
   },
   "outputs": [],
   "source": [
    "leaf_type=df['leaf arrangement'].to_list()\n",
    "leaf_type_list=[]\n",
    "for i in leaf_type:\n",
    "    if ',' in str(i):\n",
    "        y=i.split(\",\")\n",
    "        for v in y:\n",
    "            leaf_type_list.append(v.lower().strip())\n",
    "    elif type(i) ==float:\n",
    "        leaf_type_list.append('unknown')\n",
    "    else:\n",
    "            leaf_type_list.append(str(i).lower().strip())\n",
    "set_leaf_type_list=set(leaf_type_list)\n",
    "set_leaf_type_list\n",
    "list_leaf_arrangement=list(set_leaf_type_list)\n",
    "len(list_leaf_arrangement)\n",
    "list_arrangement_leaf_type=list_leaf_arrangement\n"
   ]
  },
  {
   "cell_type": "code",
   "execution_count": 138,
   "id": "483c8059-dd60-4fdd-9bbd-63b64d6314f8",
   "metadata": {
    "tags": []
   },
   "outputs": [],
   "source": [
    "with open('leaf_arrangements.sql','w') as myfile:\n",
    "    myfile.write(\"INSERT INTO leaf_arrangements(leaf_arrangement_id,arrangement)\" + \"\\n\"+\"VALUES \"+\"\\n\")\n",
    "\n",
    "    for i in range(0,len(list_leaf_arrangement)):\n",
    "        if i!=len(list_leaf_arrangement)-1:\n",
    "            myfile.write(\"\t\"+\"(\"+str(i+1)+ \",\" + \"'\"+list_leaf_arrangement[i].strip() + \"'\"+\")\"+ \",\"+\"\\n\")\n",
    "            i+=1\n",
    "        else:\n",
    "            myfile.write(\"\t\"+\"(\"+str(i+1)+ \",\" + \"'\"+list_leaf_arrangement[i].strip() + \"'\"+\")\"+\"\\n\")\n",
    "\n",
    "    myfile.write(\"RETURNING *;\")\n"
   ]
  },
  {
   "cell_type": "markdown",
   "id": "ef22b9fe-ee98-4559-a061-5f07610edea4",
   "metadata": {},
   "source": [
    "# Regions collected"
   ]
  },
  {
   "cell_type": "code",
   "execution_count": 139,
   "id": "cfb279b5-03ce-43e0-aa8d-afb531e34ed1",
   "metadata": {
    "tags": []
   },
   "outputs": [],
   "source": [
    "with open('regions.sql','w') as myfile:\n",
    "    myfile.write(\"INSERT INTO regions(id,region,latitude,longitude)\\nVALUES\\n\")\n",
    "    myfile.write(\"('Central Mid-altitude','0.04626','37.65587'),\\n\"\n",
    "                 \"('Central Highlands','0.01667','37.07283'),\\n\"\n",
    "                 \"('Eastern','-1.51667','37.26667'),\\n\"\n",
    "                \"('Western Mid-altitude','0.46005','34.11169'),\\n\"\n",
    "                 \"('Western Highlands',' 0.5635','34.56055'),\\n\"\n",
    "                 \"('Rift Valley','-0.28333','36.06667'),\\n\"\n",
    "                 \"('Northern Lowlands','-0.45275','39.64601'),\\n\"\n",
    "                 \"('Coastal Lowlands','4.0435','39.6682'),\\n\"\n",
    "                 \"('Eastern Highlands','1.01572','35.00622'),\\n\"\n",
    "                 \"('Eastern Mid-altitude','-1.51667','37.26667'),\\n\"\n",
    "                 \"('Coastal Highlands','-3.39605','38.55609'),\\n\"\n",
    "                 \"('Western Lowlands','0.28422','34.75229'),\\n\"\n",
    "                \"('Northern Highlands','3.5216','39.05472'),\\n\"\n",
    "                 \"('Northern Mid-altitude','0.4612','39.6401'),\\n\"\n",
    "                  \"('Coastal','-4.05466','39.66359')\\n\"\n",
    "\n",
    "                )\n",
    "    myfile.write(\"RETURNING *;\")\n"
   ]
  },
  {
   "cell_type": "code",
   "execution_count": 140,
   "id": "33c64035-795c-4d37-9923-88cea100248f",
   "metadata": {
    "tags": []
   },
   "outputs": [],
   "source": [
    "# Regions of collection of plants from the master excel file and insect distributions\n",
    "regions = [\n",
    "    'central mid-altitude',\n",
    "    'central highlands',\n",
    "    'eastern',\n",
    "    'western mid-altitude',\n",
    "    'western highlands',\n",
    "    'rift valley',\n",
    "    'northern lowlands',\n",
    "    'coastal lowlands',\n",
    "    'eastern highlands',\n",
    "    'eastern mid-altitude',\n",
    "    'coastal highlands',\n",
    "    'western lowlands',\n",
    "    'northern highlands',\n",
    "    'northern mid-altitude',\n",
    "    'coastal'\n",
    "]\n",
    "\n"
   ]
  },
  {
   "cell_type": "code",
   "execution_count": 141,
   "id": "62ca1a21-778d-4beb-9b37-ed8187d37c35",
   "metadata": {
    "tags": []
   },
   "outputs": [
    {
     "name": "stdout",
     "output_type": "stream",
     "text": [
      "co\n",
      "co\n",
      "nolo\n"
     ]
    }
   ],
   "source": [
    "species_all=df['species name'].to_list()\n",
    "region__collected=df['Region collected'].to_list()\n",
    "list_region__collected=regions\n",
    "with open('plants_regions.sql','w') as myfile:\n",
    "    myfile.write(\"INSERT INTO plants_regions(plants_id,region_id)\" + \"\\n\"+\"VALUES \"+\"\\n\")\n",
    "    for i in range(0,len(species_all)):\n",
    "        if i!=len(species_all)-1:\n",
    "            region=region__collected[i]\n",
    "            if ',' in str(region).strip():\n",
    "                b=str(region).strip().split(\",\")\n",
    "                v=0\n",
    "                for a in b:\n",
    "                    if a=='nohi':\n",
    "                        j=\"Northern Highlands\"\n",
    "                        plant_id=i+1\n",
    "                        s_collected=list_region__collected.index(j.strip().lower())+1\n",
    "                        myfile.write(\" \"+\"(\"+str(plant_id)+ \",\" +str(s_collected) +\")\"+ \",\"+\"\\n\")\n",
    "                    elif a==\"cohi\":\n",
    "                        j=\"Coastal Highlands\"\n",
    "                        plant_id=i+1\n",
    "                        s_collected=list_region__collected.index(j.strip().lower())+1\n",
    "                        myfile.write(\" \"+\"(\"+str(plant_id)+ \",\" +str(s_collected) +\")\"+ \",\"+\"\\n\")\n",
    "                    elif a==\"wehi\":\n",
    "                        j=\"Coastal\"\n",
    "                        plant_id=i+1\n",
    "                        s_collected=list_region__collected.index(j.strip().lower())+1\n",
    "                        myfile.write(\" \"+\"(\"+str(plant_id)+ \",\" +str(s_collected) +\")\"+ \",\"+\"\\n\")\n",
    "                    elif a==\"ea\":\n",
    "                        j=\"Eastern\"\n",
    "                        plant_id=i+1\n",
    "                        s_collected=list_region__collected.index(j.strip().lower())+1\n",
    "                        myfile.write(\" \"+\"(\"+str(plant_id)+ \",\" +str(s_collected) +\")\"+ \",\"+\"\\n\")\n",
    "                    elif a==\"co\":\n",
    "                        j=\"Western Highlands\"\n",
    "                        plant_id=i+1\n",
    "                        s_collected=list_region__collected.index(j.strip().lower())+1\n",
    "                        myfile.write(\" \"+\"(\"+str(plant_id)+ \",\" +str(s_collected) +\")\"+ \",\"+\"\\n\")\n",
    "                    elif a==\"rv\":\n",
    "                        j=\"Rift Valley\"\n",
    "                        plant_id=i+1\n",
    "                        s_collected=list_region__collected.index(j.strip().lower())+1\n",
    "                        myfile.write(\" \"+\"(\"+str(plant_id)+ \",\" +str(s_collected) +\")\"+ \",\"+\"\\n\")\n",
    "                    elif a==\"cemid\":\n",
    "                        j=\"Central Mid-altitude\"\n",
    "                        plant_id=i+1\n",
    "                        s_collected=list_region__collected.index(j.strip().lower())+1\n",
    "                        myfile.write(\" \"+\"(\"+str(plant_id)+ \",\" +str(s_collected) +\")\"+ \",\"+\"\\n\")\n",
    "                    elif a==\"cehi\":\n",
    "                        j=\"Central Highlands\"\n",
    "                        plant_id=i+1\n",
    "                        s_collected=list_region__collected.index(j.strip().lower())+1\n",
    "                        myfile.write(\" \"+\"(\"+str(plant_id)+ \",\" +str(s_collected) +\")\"+ \",\"+\"\\n\")\n",
    "                    elif a==\"nolo\":\n",
    "                        j=\"Northern Lowlands\"\n",
    "                        plant_id=i+1\n",
    "                        s_collected=list_region__collected.index(j.strip().lower())+1\n",
    "                        myfile.write(\" \"+\"(\"+str(plant_id)+ \",\" +str(s_collected) +\")\"+ \",\"+\"\\n\")\n",
    "                    elif a==\"nomi\":\n",
    "                        j=\"Northern mid-altitude\"\n",
    "                        plant_id=i+1\n",
    "                        s_collected=list_region__collected.index(j.strip().lower())+1\n",
    "                        myfile.write(\" \"+\"(\"+str(plant_id)+ \",\" +str(s_collected) +\")\"+ \",\"+\"\\n\")\n",
    "                 \n",
    "                 \n",
    "                    \n",
    "                i+=1\n",
    "\n",
    "            elif str(region).strip().lower()!='nan':\n",
    "                if str(region).strip().lower()!='n':\n",
    "                    if str(region)=='nohi':\n",
    "                        region=\"Northern Highlands\"\n",
    "                        plant_id=i+1\n",
    "                        s_collected=list_region__collected.index(j.strip().lower())+1\n",
    "                        myfile.write(\" \"+\"(\"+str(plant_id)+ \",\" +str(s_collected) +\")\"+ \",\"+\"\\n\")\n",
    "                    elif str(region)==\"cohi\":\n",
    "                        j=\"Coastal Highlands\"\n",
    "                        plant_id=i+1\n",
    "                        s_collected=list_region__collected.index(j.strip().lower())+1\n",
    "                        myfile.write(\" \"+\"(\"+str(plant_id)+ \",\" +str(s_collected) +\")\"+ \",\"+\"\\n\")\n",
    "                    elif str(region)==\"wehi\":\n",
    "                        j=\"Coastal\"\n",
    "                        plant_id=i+1\n",
    "                        s_collected=list_region__collected.index(j.strip().lower())+1\n",
    "                        myfile.write(\" \"+\"(\"+str(plant_id)+ \",\" +str(s_collected) +\")\"+ \",\"+\"\\n\")\n",
    "                    elif str(region)==\"ea\":\n",
    "                        j=\"Eastern\"\n",
    "                        plant_id=i+1\n",
    "                        s_collected=list_region__collected.index(j.strip().lower())+1\n",
    "                        myfile.write(\" \"+\"(\"+str(plant_id)+ \",\" +str(s_collected) +\")\"+ \",\"+\"\\n\")\n",
    "                    elif str(region)==\"co\":\n",
    "                        j=\"Western Highlands\"\n",
    "                        plant_id=i+1\n",
    "                        s_collected=list_region__collected.index(j.strip().lower())+1\n",
    "                        myfile.write(\" \"+\"(\"+str(plant_id)+ \",\" +str(s_collected) +\")\"+ \",\"+\"\\n\")\n",
    "                    elif str(region)==\"rv\":\n",
    "                        j=\"Rift Valley\"\n",
    "                        plant_id=i+1\n",
    "                        s_collected=list_region__collected.index(j.strip().lower())+1\n",
    "                        myfile.write(\" \"+\"(\"+str(plant_id)+ \",\" +str(s_collected) +\")\"+ \",\"+\"\\n\")\n",
    "                    elif str(region)==\"cemid\":\n",
    "                        j=\"Central Mid-altitude\"\n",
    "                        plant_id=i+1\n",
    "                        s_collected=list_region__collected.index(j.strip().lower())+1\n",
    "                        myfile.write(\" \"+\"(\"+str(plant_id)+ \",\" +str(s_collected) +\")\"+ \",\"+\"\\n\")\n",
    "                    elif str(region)==\"cehi\":\n",
    "                        j=\"Central Highlands\"\n",
    "                        plant_id=i+1\n",
    "                        s_collected=list_region__collected.index(j.strip().lower())+1\n",
    "                        myfile.write(\" \"+\"(\"+str(plant_id)+ \",\" +str(s_collected) +\")\"+ \",\"+\"\\n\")\n",
    "                    elif str(region)==\"nolo\":\n",
    "                        j=\"Northern Lowlands\"\n",
    "                        plant_id=i+1\n",
    "                        s_collected=list_region__collected.index(j.strip().lower())+1\n",
    "                        myfile.write(\" \"+\"(\"+str(plant_id)+ \",\" +str(s_collected) +\")\"+ \",\"+\"\\n\")\n",
    "                    elif str(region)==\"nomi\":\n",
    "                        j=\"Northern mid-altitude\"\n",
    "                        plant_id=i+1\n",
    "                        s_collected=list_region__collected.index(j.strip().lower())+1\n",
    "                        myfile.write(\" \"+\"(\"+str(plant_id)+ \",\" +str(s_collected) +\")\"+ \",\"+\"\\n\")\n",
    "                 \n",
    "                 \n",
    "                    # plant_id=i+1\n",
    "                    # s_collected=list_region__collected.index(str(region_.strip().lower()))+1\n",
    "                    # myfile.write(\" \"+\"(\"+str(plant_id)+ \",\" +str(s_collected) +\")\"+\",\"+\"\\n\")\n",
    "                    # i+=1\n",
    "\n",
    "                elif str(region_).strip().lower()=='n':\n",
    "                    plant_id=i+1\n",
    "                    s_collected=list_region__collected.index('unknown')+1\n",
    "                    myfile.write(\" \"+\"(\"+str(plant_id)+ \",\" +str(s_collected) +\")\"+\",\"+\"\\n\")\n",
    "                    i+=1\n",
    "            else:\n",
    "                if str(region).strip().lower()=='nan' or str(region_).strip().lower()=='nan':\n",
    "                    # plant_id=i+1\n",
    "                    # s_collected=list_region__collected.index('unknown')+1\n",
    "                    # myfile.write(\" \"+\"(\"+str(plant_id)+ \",\" +str(s_collected) +\")\"+\",\"+\"\\n\")\n",
    "                    pass\n",
    "                    i+=1\n",
    "\n",
    "        else:\n",
    "            region_=region__collected[i]\n",
    "            print(region)\n",
    "            print(region)\n",
    "            if ',' in str(region_).strip().lower():\n",
    "                b=str(region).strip().split(\",\")\n",
    "                v=0\n",
    "                for a in b:\n",
    "                    if a=='nohi':\n",
    "                        j=\"Northern Highlands\"\n",
    "                        plant_id=i+1\n",
    "                        s_collected=list_region__collected.index(j.strip().lower())+1\n",
    "                        myfile.write(\" \"+\"(\"+str(plant_id)+ \",\" +str(s_collected) +\")\"+ \",\"+\"\\n\")\n",
    "                    elif a==\"cohi\":\n",
    "                        j=\"Coastal Highlands\"\n",
    "                        plant_id=i+1\n",
    "                        s_collected=list_region__collected.index(j.strip().lower())+1\n",
    "                        myfile.write(\" \"+\"(\"+str(plant_id)+ \",\" +str(s_collected) +\")\"+ \",\"+\"\\n\")\n",
    "                    elif a==\"wehi\":\n",
    "                        j=\"Coastal\"\n",
    "                        plant_id=i+1\n",
    "                        s_collected=list_region__collected.index(j.strip().lower())+1\n",
    "                        myfile.write(\" \"+\"(\"+str(plant_id)+ \",\" +str(s_collected) +\")\"+ \",\"+\"\\n\")\n",
    "                    elif a==\"ea\":\n",
    "                        j=\"Eastern\"\n",
    "                        plant_id=i+1\n",
    "                        s_collected=list_region__collected.index(j.strip().lower())+1\n",
    "                        myfile.write(\" \"+\"(\"+str(plant_id)+ \",\" +str(s_collected) +\")\"+ \",\"+\"\\n\")\n",
    "                    elif a==\"co\":\n",
    "                        j=\"Western Highlands\"\n",
    "                        plant_id=i+1\n",
    "                        s_collected=list_region__collected.index(j.strip().lower())+1\n",
    "                        myfile.write(\" \"+\"(\"+str(plant_id)+ \",\" +str(s_collected) +\")\"+ \",\"+\"\\n\")\n",
    "                    elif a==\"rv\":\n",
    "                        j=\"Rift Valley\"\n",
    "                        plant_id=i+1\n",
    "                        s_collected=list_region__collected.index(j.strip().lower())+1\n",
    "                        myfile.write(\" \"+\"(\"+str(plant_id)+ \",\" +str(s_collected) +\")\"+ \",\"+\"\\n\")\n",
    "                    elif a==\"cemid\":\n",
    "                        j=\"Central Mid-altitude\"\n",
    "                        plant_id=i+1\n",
    "                        s_collected=list_region__collected.index(j.strip().lower())+1\n",
    "                        myfile.write(\" \"+\"(\"+str(plant_id)+ \",\" +str(s_collected) +\")\"+ \",\"+\"\\n\")\n",
    "                    elif a==\"cehi\":\n",
    "                        j=\"Central Highlands\"\n",
    "                        plant_id=i+1\n",
    "                        s_collected=list_region__collected.index(j.strip().lower())+1\n",
    "                        myfile.write(\" \"+\"(\"+str(plant_id)+ \",\" +str(s_collected) +\")\"+ \",\"+\"\\n\")\n",
    "                    elif a==\"nolo\":\n",
    "                        j=\"Northern Lowlands\"\n",
    "                        plant_id=i+1\n",
    "                        s_collected=list_region__collected.index(j.strip().lower())+1\n",
    "                        myfile.write(\" \"+\"(\"+str(plant_id)+ \",\" +str(s_collected) +\")\"+ \",\"+\"\\n\")\n",
    "                    elif a==\"nomi\":\n",
    "                        j=\"Northern mid-altitude\"\n",
    "                        plant_id=i+1\n",
    "                        s_collected=list_region__collected.index(j.strip().lower())+1\n",
    "                        myfile.write(\" \"+\"(\"+str(plant_id)+ \",\" +str(s_collected) +\")\"+ \",\"+\"\\n\")\n",
    "                 \n",
    "                 \n",
    "                 \n",
    "            elif str(region).strip()=='nan':\n",
    "                plant_id=i+1\n",
    "                s_collected=list_region__collected.index('unknown')+1\n",
    "                myfile.write(\" \"+\"(\"+str(plant_id)+ \",\" + str(s_collected) +\")\"+\"\\n\")\n",
    "                i+=1\n",
    "            else:\n",
    "                print(region_)\n",
    "#                 plant_id=i+1\n",
    "#                 s_collected=list_region__collected.index(region_.lower())+1\n",
    "\n",
    "#                 myfile.write(\" \"+\"(\"+str(plant_id)+ \",\"  +str(s_collected) +\")\"+\"\\n\")\n",
    "#                 i+=1\n",
    "                if str(region)=='nohi':\n",
    "                    region=\"Northern Highlands\"\n",
    "                    plant_id=i+1\n",
    "                    s_collected=list_region__collected.index(j.strip().lower())+1\n",
    "                    myfile.write(\" \"+\"(\"+str(plant_id)+ \",\" +str(s_collected) +\")\"+ \",\"+\"\\n\")\n",
    "                elif str(region)==\"cohi\":\n",
    "                    j=\"Coastal Highlands\"\n",
    "                    plant_id=i+1\n",
    "                    s_collected=list_region__collected.index(j.strip().lower())+1\n",
    "                    myfile.write(\" \"+\"(\"+str(plant_id)+ \",\" +str(s_collected) +\")\"+ \",\"+\"\\n\")\n",
    "                elif str(region)==\"wehi\":\n",
    "                    j=\"Coastal\"\n",
    "                    plant_id=i+1\n",
    "                    s_collected=list_region__collected.index(j.strip().lower())+1\n",
    "                    myfile.write(\" \"+\"(\"+str(plant_id)+ \",\" +str(s_collected) +\")\"+ \",\"+\"\\n\")\n",
    "                elif str(region)==\"ea\":\n",
    "                    j=\"Eastern\"\n",
    "                    plant_id=i+1\n",
    "                    s_collected=list_region__collected.index(j.strip().lower())+1\n",
    "                    myfile.write(\" \"+\"(\"+str(plant_id)+ \",\" +str(s_collected) +\")\"+ \",\"+\"\\n\")\n",
    "                elif str(region)==\"co\":\n",
    "                    j=\"Western Highlands\"\n",
    "                    plant_id=i+1\n",
    "                    s_collected=list_region__collected.index(j.strip().lower())+1\n",
    "                    myfile.write(\" \"+\"(\"+str(plant_id)+ \",\" +str(s_collected) +\")\"+ \",\"+\"\\n\")\n",
    "                elif str(region)==\"rv\":\n",
    "                    j=\"Rift Valley\"\n",
    "                    plant_id=i+1\n",
    "                    s_collected=list_region__collected.index(j.strip().lower())+1\n",
    "                    myfile.write(\" \"+\"(\"+str(plant_id)+ \",\" +str(s_collected) +\")\"+ \",\"+\"\\n\")\n",
    "                elif str(region)==\"cemid\":\n",
    "                    j=\"Central Mid-altitude\"\n",
    "                    plant_id=i+1\n",
    "                    s_collected=list_region__collected.index(j.strip().lower())+1\n",
    "                    myfile.write(\" \"+\"(\"+str(plant_id)+ \",\" +str(s_collected) +\")\"+ \",\"+\"\\n\")\n",
    "                elif str(region)==\"cehi\":\n",
    "                    j=\"Central Highlands\"\n",
    "                    plant_id=i+1\n",
    "                    s_collected=list_region__collected.index(j.strip().lower())+1\n",
    "                    myfile.write(\" \"+\"(\"+str(plant_id)+ \",\" +str(s_collected) +\")\"+ \",\"+\"\\n\")\n",
    "                elif str(region)==\"nolo\":\n",
    "                    j=\"Northern Lowlands\"\n",
    "                    plant_id=i+1\n",
    "                    s_collected=list_region__collected.index(j.strip().lower())+1\n",
    "                    myfile.write(\" \"+\"(\"+str(plant_id)+ \",\" +str(s_collected) +\")\"+ \",\"+\"\\n\")\n",
    "                elif j==\"nomi\":\n",
    "                    j=\"Northern mid-altitude\"\n",
    "                    plant_id=i+1\n",
    "                    s_collected=list_region__collected.index(j.strip().lower())+1\n",
    "                    myfile.write(\" \"+\"(\"+str(plant_id)+ \",\" +str(s_collected) +\")\"+ \",\"+\"\\n\")\n",
    "\n",
    "                 \n",
    "\n",
    "    myfile.write(\"RETURNING *;\")\n"
   ]
  },
  {
   "cell_type": "markdown",
   "id": "f908171c-0ddf-4c08-b96c-cf60bfbe054b",
   "metadata": {},
   "source": [
    "# Fruit type"
   ]
  },
  {
   "cell_type": "code",
   "execution_count": 142,
   "id": "cdbb1128-dc6f-4538-a2be-920ad31d9a4a",
   "metadata": {
    "tags": []
   },
   "outputs": [
    {
     "data": {
      "text/plain": [
       "['capsule',\n",
       " 'drupe',\n",
       " 'fig',\n",
       " 'carpel',\n",
       " 'unknown',\n",
       " 'follicle',\n",
       " 'fleshy seed',\n",
       " 'mericarp',\n",
       " 'pod',\n",
       " 'nutlet',\n",
       " 'achene',\n",
       " 'berry',\n",
       " 'multiple',\n",
       " 'syconium',\n",
       " 'nut',\n",
       " 'inflated',\n",
       " 'syncarp',\n",
       " 'monocarps',\n",
       " 'etaerio',\n",
       " 'legume']"
      ]
     },
     "execution_count": 142,
     "metadata": {},
     "output_type": "execute_result"
    }
   ],
   "source": [
    "fruit_type=df['Fruit type'].to_list()\n",
    "fruit_type_list=[]\n",
    "for i in fruit_type:\n",
    "    if ',' in str(i):\n",
    "        y=i.split(\",\")\n",
    "        for v in y:\n",
    "            fruit_type_list.append(v.lower().strip())\n",
    "    elif type(i) ==float:\n",
    "        fruit_type_list.append('unknown')\n",
    "    else:\n",
    "        fruit_type_list.append(str(i).lower().strip())\n",
    "set_fruit_type_list=set(fruit_type_list)\n",
    "set_fruit_type_list\n",
    "list_fruit_type=list(set_fruit_type_list)\n",
    "len(list_fruit_type)\n",
    "list_fruit_type=list_fruit_type\n",
    "list_fruit_type"
   ]
  },
  {
   "cell_type": "code",
   "execution_count": 143,
   "id": "61287c97-4563-4849-a303-793b4896f2b7",
   "metadata": {
    "tags": []
   },
   "outputs": [],
   "source": [
    "with open('fruit_types.sql','w') as myfile:\n",
    "    myfile.write(\"INSERT INTO fruit_types(fruit_type_id,type_of_fruit)\" + \"\\n\"+\"VALUES \"+\"\\n\")\n",
    "\n",
    "    for i in range(0,len(list_fruit_type)):\n",
    "        if i!=len(list_fruit_type)-1:\n",
    "            myfile.write(\"\t\"+\"(\"+str(i+1)+ \",\" + \"'\"+list_fruit_type[i].strip() + \"'\"+\")\"+ \",\"+\"\\n\")\n",
    "            i+=1\n",
    "        else:\n",
    "            myfile.write(\"\t\"+\"(\"+str(i+1)+ \",\" + \"'\"+list_fruit_type[i].strip() + \"'\"+\")\"+\"\\n\")\n",
    "\n",
    "    myfile.write(\"RETURNING *;\")\n"
   ]
  },
  {
   "cell_type": "code",
   "execution_count": 144,
   "id": "3ac99d15-a2ec-4977-9f70-68fcb6e8b96c",
   "metadata": {
    "tags": []
   },
   "outputs": [],
   "source": [
    "fruit_type=df['Fruit type'].to_list()\n",
    "list_fruit_type=list_fruit_type\n",
    "with open('plants_fruit_types.sql','w') as myfile:\n",
    "    myfile.write(\"INSERT INTO plants_fruit_types(plant_id,fruit_type_id)\" + \"\\n\"+\"VALUES \"+\"\\n\")\n",
    "    for i in range(0,len(species_all)):\n",
    "        if i!=len(species_all)-1:\n",
    "            fruit=fruit_type[i]\n",
    "            if ',' in str(fruit).strip():\n",
    "                b=str(fruit).strip().split(\",\")\n",
    "                v=0\n",
    "                for j in b:\n",
    "                    plant_id=i+1\n",
    "                    s_type=list_fruit_type.index(j.strip().lower())+1\n",
    "   \n",
    "                    myfile.write(\" \"+\"(\"+str(plant_id)+ \",\" +str(s_type) +\")\"+ \",\"+\"\\n\")\n",
    "                i+=1\n",
    "\n",
    "            elif str(fruit).strip().lower()!='nan':\n",
    "                if str(fruit).strip().lower()!='n':\n",
    "                    plant_id=i+1\n",
    "                    s_type=list_fruit_type.index(str(fruit.strip().lower()))+1\n",
    "                    myfile.write(\" \"+\"(\"+str(plant_id)+ \",\" +str(s_type) +\")\"+\",\"+\"\\n\")\n",
    "                    i+=1\n",
    "\n",
    "                elif str(fruit).strip().lower()=='n':\n",
    "                    plant_id=i+1\n",
    "                    s_type=list_fruit_type.index('unknown')+1\n",
    "                    myfile.write(\" \"+\"(\"+str(plant_id)+ \",\" +str(s_type) +\")\"+\",\"+\"\\n\")\n",
    "                    i+=1\n",
    "            else:\n",
    "                if str(fruit).strip().lower()=='nan' or str(fruit).strip().lower()=='nan':\n",
    "                    plant_id=i+1\n",
    "                    s_type=list_fruit_type.index('unknown')+1\n",
    "                    myfile.write(\" \"+\"(\"+str(plant_id)+ \",\" +str(s_type) +\")\"+\",\"+\"\\n\")\n",
    "                    i+=1\n",
    "\n",
    "        else:\n",
    "            fruit=fruit_type[i]\n",
    "            if ',' in str(fruit).strip().lower():\n",
    "                b=fruit.split(\",\")\n",
    "                v=0\n",
    "                for j in b:\n",
    "                    plant_id=i+1\n",
    "                    s_type=list_fruit_type.index(j.strip().lower())+1\n",
    "\n",
    "                    myfile.write(\" \"+\"(\"+str(plant_id)+ \",\" +str(s_type) +\")\"+\"\\n\")\n",
    "                i+=1\n",
    "\n",
    "            elif str(fruit).strip()=='nan':\n",
    "                plant_id=i+1\n",
    "                s_type=list_fruit_type.index('unknown')+1\n",
    "                myfile.write(\" \"+\"(\"+str(plant_id)+ \",\" + str(s_type) +\")\"+\"\\n\")\n",
    "                i+=1\n",
    "            else:\n",
    "                plant_id=i+1\n",
    "                s_type=list_fruit_type.index(fruit.lower())+1\n",
    "\n",
    "                myfile.write(\" \"+\"(\"+str(plant_id)+ \",\"  +str(s_type) +\")\"+\"\\n\")\n",
    "                i+=1\n",
    "\n",
    "\n",
    "    myfile.write(\"RETURNING *;\")"
   ]
  },
  {
   "cell_type": "markdown",
   "id": "3e6f730c-f8f3-4fb8-872a-aed3ea93080c",
   "metadata": {},
   "source": [
    "# Barcodes tables\n",
    "The barcodes were analysed on a separate notebook and migrated into the database as cv files"
   ]
  }
 ],
 "metadata": {
  "kernelspec": {
   "display_name": "Python 3 (ipykernel)",
   "language": "python",
   "name": "python3"
  },
  "language_info": {
   "codemirror_mode": {
    "name": "ipython",
    "version": 3
   },
   "file_extension": ".py",
   "mimetype": "text/x-python",
   "name": "python",
   "nbconvert_exporter": "python",
   "pygments_lexer": "ipython3",
   "version": "3.10.9"
  }
 },
 "nbformat": 4,
 "nbformat_minor": 5
}
